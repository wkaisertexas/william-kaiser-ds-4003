{
 "cells": [
  {
   "cell_type": "markdown",
   "metadata": {},
   "source": [
    "# Breaking Down UVA Course Reviews\n",
    "\n",
    "By: William Kaiser\n",
    "\n",
    "## Layout\n",
    "\n",
    "The layout for this site was designed in [Figma](https://www.figma.com/file/PCZFfmRXn0e6720BjxNAtg/Misc-Images?type=design&node-id=539-5&mode=design&t=4der6LRc6aprI2Sf-0) and designed to be responsive and intent-based.\n",
    "\n",
    "![Layout](./imgs/layout.png)\n",
    "\n",
    "However, after discussion with fellow class members and looking at [Python Graph Gallery](https://python-graph-gallery.com/) I decided to use a [Spider / Radar](https://python-graph-gallery.com/radar-chart/) plot as well as the more traditional bar charts."
   ]
  },
  {
   "cell_type": "markdown",
   "metadata": {},
   "source": [
    "# Data Loading\n",
    "\n",
    "The data for this analysis comes from [theCourseForum](https://thecourseforum.com/) and a direct database connection was used. \n",
    "\n",
    "For more information about data provenance, collection, formatting, and cleaning, please see [Sprint 2: Data](./sprints/sprint2-data.ipynb)."
   ]
  },
  {
   "cell_type": "code",
   "execution_count": 167,
   "metadata": {},
   "outputs": [],
   "source": [
    "# Generic imports\n",
    "import pandas as pd\n",
    "# import numpy as np\n",
    "# import matplotlib.pyplot as plt\n",
    "# import seaborn as sns\n",
    "import plotly.graph_objects as go\n",
    "import plotly.express as px\n",
    "from plotly.subplots import make_subplots\n",
    "from dash import dash_table, dcc, Dash, html, callback, Input, Output, State\n",
    "from typing import List, Dict, TypedDict\n",
    "import os"
   ]
  },
  {
   "cell_type": "code",
   "execution_count": 168,
   "metadata": {},
   "outputs": [
    {
     "name": "stderr",
     "output_type": "stream",
     "text": [
      "/var/folders/m0/sl2yvpv551gcfbk3gdntf74r0000gn/T/ipykernel_19137/2655894733.py:2: DtypeWarning:\n",
      "\n",
      "Columns (14,15,26,29) have mixed types. Specify dtype option on import or set low_memory=False.\n",
      "\n"
     ]
    },
    {
     "data": {
      "text/html": [
       "<div>\n",
       "<style scoped>\n",
       "    .dataframe tbody tr th:only-of-type {\n",
       "        vertical-align: middle;\n",
       "    }\n",
       "\n",
       "    .dataframe tbody tr th {\n",
       "        vertical-align: top;\n",
       "    }\n",
       "\n",
       "    .dataframe thead th {\n",
       "        text-align: right;\n",
       "    }\n",
       "</style>\n",
       "<table border=\"1\" class=\"dataframe\">\n",
       "  <thead>\n",
       "    <tr style=\"text-align: right;\">\n",
       "      <th></th>\n",
       "      <th>course_id</th>\n",
       "      <th>title</th>\n",
       "      <th>description</th>\n",
       "      <th>course_number</th>\n",
       "      <th>average</th>\n",
       "      <th>a_plus</th>\n",
       "      <th>a</th>\n",
       "      <th>a_minus</th>\n",
       "      <th>b_plus</th>\n",
       "      <th>b</th>\n",
       "      <th>...</th>\n",
       "      <th>amount_group</th>\n",
       "      <th>amount_homework</th>\n",
       "      <th>review_created</th>\n",
       "      <th>year</th>\n",
       "      <th>season</th>\n",
       "      <th>instructor_email</th>\n",
       "      <th>instructor_name</th>\n",
       "      <th>year_last_taught</th>\n",
       "      <th>season_last_taught</th>\n",
       "      <th>course_level</th>\n",
       "    </tr>\n",
       "  </thead>\n",
       "  <tbody>\n",
       "    <tr>\n",
       "      <th>0</th>\n",
       "      <td>12.0</td>\n",
       "      <td>Introductory Accounting I</td>\n",
       "      <td>Designed to introduce students to the language...</td>\n",
       "      <td>2010.0</td>\n",
       "      <td>3.200437</td>\n",
       "      <td>59.0</td>\n",
       "      <td>131.0</td>\n",
       "      <td>51.0</td>\n",
       "      <td>42.0</td>\n",
       "      <td>62.0</td>\n",
       "      <td>...</td>\n",
       "      <td>4</td>\n",
       "      <td>2.0</td>\n",
       "      <td>2020-11-10 22:11:29+00:00</td>\n",
       "      <td>2020</td>\n",
       "      <td>FALL</td>\n",
       "      <td>gdb5x@virginia.edu</td>\n",
       "      <td>Gary Brooks</td>\n",
       "      <td>2023.0</td>\n",
       "      <td>SPRING</td>\n",
       "      <td>2.0</td>\n",
       "    </tr>\n",
       "    <tr>\n",
       "      <th>1</th>\n",
       "      <td>1505.0</td>\n",
       "      <td>History and Civilization of Classical India</td>\n",
       "      <td>Studies the major elements of South Asian civi...</td>\n",
       "      <td>2001.0</td>\n",
       "      <td>3.395795</td>\n",
       "      <td>5.0</td>\n",
       "      <td>85.0</td>\n",
       "      <td>132.0</td>\n",
       "      <td>117.0</td>\n",
       "      <td>66.0</td>\n",
       "      <td>...</td>\n",
       "      <td>0</td>\n",
       "      <td>0.0</td>\n",
       "      <td>2020-12-19 04:08:23.637939+00:00</td>\n",
       "      <td>2020</td>\n",
       "      <td>FALL</td>\n",
       "      <td>sal9c@virginia.edu</td>\n",
       "      <td>Spencer Leonard</td>\n",
       "      <td>2021.0</td>\n",
       "      <td>FALL</td>\n",
       "      <td>2.0</td>\n",
       "    </tr>\n",
       "    <tr>\n",
       "      <th>2</th>\n",
       "      <td>1504.0</td>\n",
       "      <td>Introductory Seminar in South Asia</td>\n",
       "      <td>Introduction to the study of history intended ...</td>\n",
       "      <td>1501.0</td>\n",
       "      <td>3.601403</td>\n",
       "      <td>9.0</td>\n",
       "      <td>118.0</td>\n",
       "      <td>131.0</td>\n",
       "      <td>74.0</td>\n",
       "      <td>27.0</td>\n",
       "      <td>...</td>\n",
       "      <td>0</td>\n",
       "      <td>0.0</td>\n",
       "      <td>2016-11-02 16:38:11+00:00</td>\n",
       "      <td>2016</td>\n",
       "      <td>FALL</td>\n",
       "      <td>sal9c@virginia.edu</td>\n",
       "      <td>Spencer Leonard</td>\n",
       "      <td>2022.0</td>\n",
       "      <td>SPRING</td>\n",
       "      <td>1.0</td>\n",
       "    </tr>\n",
       "    <tr>\n",
       "      <th>3</th>\n",
       "      <td>1505.0</td>\n",
       "      <td>History and Civilization of Classical India</td>\n",
       "      <td>Studies the major elements of South Asian civi...</td>\n",
       "      <td>2001.0</td>\n",
       "      <td>3.395795</td>\n",
       "      <td>5.0</td>\n",
       "      <td>85.0</td>\n",
       "      <td>132.0</td>\n",
       "      <td>117.0</td>\n",
       "      <td>66.0</td>\n",
       "      <td>...</td>\n",
       "      <td>0</td>\n",
       "      <td>0.0</td>\n",
       "      <td>2021-12-20 18:54:54.439844+00:00</td>\n",
       "      <td>2021</td>\n",
       "      <td>FALL</td>\n",
       "      <td>sal9c@virginia.edu</td>\n",
       "      <td>Spencer Leonard</td>\n",
       "      <td>2021.0</td>\n",
       "      <td>FALL</td>\n",
       "      <td>2.0</td>\n",
       "    </tr>\n",
       "    <tr>\n",
       "      <th>4</th>\n",
       "      <td>15083.0</td>\n",
       "      <td>India From Akbar to Victoria</td>\n",
       "      <td>Studies the society and politics in the Mughal...</td>\n",
       "      <td>3002.0</td>\n",
       "      <td>2.984615</td>\n",
       "      <td>0.0</td>\n",
       "      <td>2.0</td>\n",
       "      <td>6.0</td>\n",
       "      <td>1.0</td>\n",
       "      <td>1.0</td>\n",
       "      <td>...</td>\n",
       "      <td>0</td>\n",
       "      <td>0.0</td>\n",
       "      <td>2022-11-03 03:15:03.409391+00:00</td>\n",
       "      <td>2021</td>\n",
       "      <td>FALL</td>\n",
       "      <td>sal9c@virginia.edu</td>\n",
       "      <td>Spencer Leonard</td>\n",
       "      <td>2021.0</td>\n",
       "      <td>FALL</td>\n",
       "      <td>3.0</td>\n",
       "    </tr>\n",
       "    <tr>\n",
       "      <th>...</th>\n",
       "      <td>...</td>\n",
       "      <td>...</td>\n",
       "      <td>...</td>\n",
       "      <td>...</td>\n",
       "      <td>...</td>\n",
       "      <td>...</td>\n",
       "      <td>...</td>\n",
       "      <td>...</td>\n",
       "      <td>...</td>\n",
       "      <td>...</td>\n",
       "      <td>...</td>\n",
       "      <td>...</td>\n",
       "      <td>...</td>\n",
       "      <td>...</td>\n",
       "      <td>...</td>\n",
       "      <td>...</td>\n",
       "      <td>...</td>\n",
       "      <td>...</td>\n",
       "      <td>...</td>\n",
       "      <td>...</td>\n",
       "      <td>...</td>\n",
       "    </tr>\n",
       "    <tr>\n",
       "      <th>41507</th>\n",
       "      <td>754.0</td>\n",
       "      <td>Money and Banking</td>\n",
       "      <td>Studies the role of money in the economic syst...</td>\n",
       "      <td>3030.0</td>\n",
       "      <td>3.144924</td>\n",
       "      <td>136.0</td>\n",
       "      <td>754.0</td>\n",
       "      <td>742.0</td>\n",
       "      <td>435.0</td>\n",
       "      <td>596.0</td>\n",
       "      <td>...</td>\n",
       "      <td>0</td>\n",
       "      <td>0.0</td>\n",
       "      <td>2011-06-27 00:00:00+00:00</td>\n",
       "      <td>2009</td>\n",
       "      <td>SPRING</td>\n",
       "      <td>hjm5p@virginia.edu</td>\n",
       "      <td>Hernan Moscoso Boedo</td>\n",
       "      <td>2024.0</td>\n",
       "      <td>SPRING</td>\n",
       "      <td>3.0</td>\n",
       "    </tr>\n",
       "    <tr>\n",
       "      <th>41508</th>\n",
       "      <td>754.0</td>\n",
       "      <td>Money and Banking</td>\n",
       "      <td>Studies the role of money in the economic syst...</td>\n",
       "      <td>3030.0</td>\n",
       "      <td>3.144924</td>\n",
       "      <td>136.0</td>\n",
       "      <td>754.0</td>\n",
       "      <td>742.0</td>\n",
       "      <td>435.0</td>\n",
       "      <td>596.0</td>\n",
       "      <td>...</td>\n",
       "      <td>0</td>\n",
       "      <td>0.0</td>\n",
       "      <td>2013-03-03 00:00:00+00:00</td>\n",
       "      <td>2009</td>\n",
       "      <td>SPRING</td>\n",
       "      <td>hjm5p@virginia.edu</td>\n",
       "      <td>Hernan Moscoso Boedo</td>\n",
       "      <td>2024.0</td>\n",
       "      <td>SPRING</td>\n",
       "      <td>3.0</td>\n",
       "    </tr>\n",
       "    <tr>\n",
       "      <th>41509</th>\n",
       "      <td>754.0</td>\n",
       "      <td>Money and Banking</td>\n",
       "      <td>Studies the role of money in the economic syst...</td>\n",
       "      <td>3030.0</td>\n",
       "      <td>3.144924</td>\n",
       "      <td>136.0</td>\n",
       "      <td>754.0</td>\n",
       "      <td>742.0</td>\n",
       "      <td>435.0</td>\n",
       "      <td>596.0</td>\n",
       "      <td>...</td>\n",
       "      <td>0</td>\n",
       "      <td>1.0</td>\n",
       "      <td>2013-08-15 00:00:00+00:00</td>\n",
       "      <td>2009</td>\n",
       "      <td>SPRING</td>\n",
       "      <td>hjm5p@virginia.edu</td>\n",
       "      <td>Hernan Moscoso Boedo</td>\n",
       "      <td>2024.0</td>\n",
       "      <td>SPRING</td>\n",
       "      <td>3.0</td>\n",
       "    </tr>\n",
       "    <tr>\n",
       "      <th>41510</th>\n",
       "      <td>8600.0</td>\n",
       "      <td>Special Topics in Politics</td>\n",
       "      <td>Special Topics in Politics</td>\n",
       "      <td>2500.0</td>\n",
       "      <td>3.419390</td>\n",
       "      <td>11.0</td>\n",
       "      <td>81.0</td>\n",
       "      <td>71.0</td>\n",
       "      <td>42.0</td>\n",
       "      <td>44.0</td>\n",
       "      <td>...</td>\n",
       "      <td>0</td>\n",
       "      <td>0.0</td>\n",
       "      <td>2021-01-20 19:38:10.579957+00:00</td>\n",
       "      <td>2021</td>\n",
       "      <td>JANUARY</td>\n",
       "      <td>dal7w@virginia.edu</td>\n",
       "      <td>David Leblang</td>\n",
       "      <td>2024.0</td>\n",
       "      <td>SPRING</td>\n",
       "      <td>2.0</td>\n",
       "    </tr>\n",
       "    <tr>\n",
       "      <th>41511</th>\n",
       "      <td>558.0</td>\n",
       "      <td>Foundations of International Business</td>\n",
       "      <td>An introduction to the field of international ...</td>\n",
       "      <td>3845.0</td>\n",
       "      <td>3.575121</td>\n",
       "      <td>4.0</td>\n",
       "      <td>284.0</td>\n",
       "      <td>306.0</td>\n",
       "      <td>176.0</td>\n",
       "      <td>94.0</td>\n",
       "      <td>...</td>\n",
       "      <td>0</td>\n",
       "      <td>0.0</td>\n",
       "      <td>2016-12-20 06:16:09+00:00</td>\n",
       "      <td>2011</td>\n",
       "      <td>JANUARY</td>\n",
       "      <td>ja3wn@virginia.edu</td>\n",
       "      <td>James Andre</td>\n",
       "      <td>2021.0</td>\n",
       "      <td>SPRING</td>\n",
       "      <td>3.0</td>\n",
       "    </tr>\n",
       "  </tbody>\n",
       "</table>\n",
       "<p>41512 rows × 36 columns</p>\n",
       "</div>"
      ],
      "text/plain": [
       "       course_id                                        title  \\\n",
       "0           12.0                    Introductory Accounting I   \n",
       "1         1505.0  History and Civilization of Classical India   \n",
       "2         1504.0           Introductory Seminar in South Asia   \n",
       "3         1505.0  History and Civilization of Classical India   \n",
       "4        15083.0                 India From Akbar to Victoria   \n",
       "...          ...                                          ...   \n",
       "41507      754.0                            Money and Banking   \n",
       "41508      754.0                            Money and Banking   \n",
       "41509      754.0                            Money and Banking   \n",
       "41510     8600.0                   Special Topics in Politics   \n",
       "41511      558.0        Foundations of International Business   \n",
       "\n",
       "                                             description  course_number  \\\n",
       "0      Designed to introduce students to the language...         2010.0   \n",
       "1      Studies the major elements of South Asian civi...         2001.0   \n",
       "2      Introduction to the study of history intended ...         1501.0   \n",
       "3      Studies the major elements of South Asian civi...         2001.0   \n",
       "4      Studies the society and politics in the Mughal...         3002.0   \n",
       "...                                                  ...            ...   \n",
       "41507  Studies the role of money in the economic syst...         3030.0   \n",
       "41508  Studies the role of money in the economic syst...         3030.0   \n",
       "41509  Studies the role of money in the economic syst...         3030.0   \n",
       "41510                         Special Topics in Politics         2500.0   \n",
       "41511  An introduction to the field of international ...         3845.0   \n",
       "\n",
       "        average  a_plus      a  a_minus  b_plus      b  ...  amount_group  \\\n",
       "0      3.200437    59.0  131.0     51.0    42.0   62.0  ...             4   \n",
       "1      3.395795     5.0   85.0    132.0   117.0   66.0  ...             0   \n",
       "2      3.601403     9.0  118.0    131.0    74.0   27.0  ...             0   \n",
       "3      3.395795     5.0   85.0    132.0   117.0   66.0  ...             0   \n",
       "4      2.984615     0.0    2.0      6.0     1.0    1.0  ...             0   \n",
       "...         ...     ...    ...      ...     ...    ...  ...           ...   \n",
       "41507  3.144924   136.0  754.0    742.0   435.0  596.0  ...             0   \n",
       "41508  3.144924   136.0  754.0    742.0   435.0  596.0  ...             0   \n",
       "41509  3.144924   136.0  754.0    742.0   435.0  596.0  ...             0   \n",
       "41510  3.419390    11.0   81.0     71.0    42.0   44.0  ...             0   \n",
       "41511  3.575121     4.0  284.0    306.0   176.0   94.0  ...             0   \n",
       "\n",
       "       amount_homework                    review_created  year   season  \\\n",
       "0                  2.0         2020-11-10 22:11:29+00:00  2020     FALL   \n",
       "1                  0.0  2020-12-19 04:08:23.637939+00:00  2020     FALL   \n",
       "2                  0.0         2016-11-02 16:38:11+00:00  2016     FALL   \n",
       "3                  0.0  2021-12-20 18:54:54.439844+00:00  2021     FALL   \n",
       "4                  0.0  2022-11-03 03:15:03.409391+00:00  2021     FALL   \n",
       "...                ...                               ...   ...      ...   \n",
       "41507              0.0         2011-06-27 00:00:00+00:00  2009   SPRING   \n",
       "41508              0.0         2013-03-03 00:00:00+00:00  2009   SPRING   \n",
       "41509              1.0         2013-08-15 00:00:00+00:00  2009   SPRING   \n",
       "41510              0.0  2021-01-20 19:38:10.579957+00:00  2021  JANUARY   \n",
       "41511              0.0         2016-12-20 06:16:09+00:00  2011  JANUARY   \n",
       "\n",
       "         instructor_email       instructor_name year_last_taught  \\\n",
       "0      gdb5x@virginia.edu           Gary Brooks           2023.0   \n",
       "1      sal9c@virginia.edu       Spencer Leonard           2021.0   \n",
       "2      sal9c@virginia.edu       Spencer Leonard           2022.0   \n",
       "3      sal9c@virginia.edu       Spencer Leonard           2021.0   \n",
       "4      sal9c@virginia.edu       Spencer Leonard           2021.0   \n",
       "...                   ...                   ...              ...   \n",
       "41507  hjm5p@virginia.edu  Hernan Moscoso Boedo           2024.0   \n",
       "41508  hjm5p@virginia.edu  Hernan Moscoso Boedo           2024.0   \n",
       "41509  hjm5p@virginia.edu  Hernan Moscoso Boedo           2024.0   \n",
       "41510  dal7w@virginia.edu         David Leblang           2024.0   \n",
       "41511  ja3wn@virginia.edu           James Andre           2021.0   \n",
       "\n",
       "      season_last_taught  course_level  \n",
       "0                 SPRING           2.0  \n",
       "1                   FALL           2.0  \n",
       "2                 SPRING           1.0  \n",
       "3                   FALL           2.0  \n",
       "4                   FALL           3.0  \n",
       "...                  ...           ...  \n",
       "41507             SPRING           3.0  \n",
       "41508             SPRING           3.0  \n",
       "41509             SPRING           3.0  \n",
       "41510             SPRING           2.0  \n",
       "41511             SPRING           3.0  \n",
       "\n",
       "[41512 rows x 36 columns]"
      ]
     },
     "execution_count": 168,
     "metadata": {},
     "output_type": "execute_result"
    }
   ],
   "source": [
    "# Loading the data\n",
    "df = pd.read_csv(\"./data.csv\")\n",
    "df['course_level'] = pd.to_numeric(df['course_number']).apply(lambda x: x // 1000)\n",
    "df"
   ]
  },
  {
   "cell_type": "code",
   "execution_count": 169,
   "metadata": {},
   "outputs": [
    {
     "name": "stdout",
     "output_type": "stream",
     "text": [
      "course_id\n",
      "title\n",
      "description\n",
      "course_number\n",
      "average\n",
      "a_plus\n",
      "a\n",
      "a_minus\n",
      "b_plus\n",
      "b\n",
      "b_minus\n",
      "c_plus\n",
      "c\n",
      "c_minus\n",
      "total_enrolled\n",
      "dfw\n",
      "subdepartment_name\n",
      "mnemonic\n",
      "review_text\n",
      "instructor_rating\n",
      "difficulty\n",
      "recommendability\n",
      "enjoyability\n",
      "hours_per_week\n",
      "amount_reading\n",
      "amount_writing\n",
      "amount_group\n",
      "amount_homework\n",
      "review_created\n",
      "year\n",
      "season\n",
      "instructor_email\n",
      "instructor_name\n",
      "year_last_taught\n",
      "season_last_taught\n",
      "course_level\n"
     ]
    }
   ],
   "source": [
    "# Printing the columns\n",
    "print(\"\\n\".join(df.columns.to_list()))"
   ]
  },
  {
   "cell_type": "markdown",
   "metadata": {},
   "source": [
    "## Making the Spider Plot\n",
    "\n",
    "The goal of this section is for a specified course to be selected and then a radar plot to be generated based on the reviews for that course."
   ]
  },
  {
   "cell_type": "code",
   "execution_count": 170,
   "metadata": {},
   "outputs": [
    {
     "name": "stdout",
     "output_type": "stream",
     "text": [
      "CS 3100\n"
     ]
    },
    {
     "data": {
      "text/html": [
       "<div>\n",
       "<style scoped>\n",
       "    .dataframe tbody tr th:only-of-type {\n",
       "        vertical-align: middle;\n",
       "    }\n",
       "\n",
       "    .dataframe tbody tr th {\n",
       "        vertical-align: top;\n",
       "    }\n",
       "\n",
       "    .dataframe thead th {\n",
       "        text-align: right;\n",
       "    }\n",
       "</style>\n",
       "<table border=\"1\" class=\"dataframe\">\n",
       "  <thead>\n",
       "    <tr style=\"text-align: right;\">\n",
       "      <th></th>\n",
       "      <th>mean</th>\n",
       "      <th>std</th>\n",
       "      <th>category</th>\n",
       "      <th>course</th>\n",
       "    </tr>\n",
       "  </thead>\n",
       "  <tbody>\n",
       "    <tr>\n",
       "      <th>0</th>\n",
       "      <td>4.058824</td>\n",
       "      <td>1.344925</td>\n",
       "      <td>instructor_rating</td>\n",
       "      <td>CS 3100</td>\n",
       "    </tr>\n",
       "    <tr>\n",
       "      <th>1</th>\n",
       "      <td>4.235294</td>\n",
       "      <td>0.752447</td>\n",
       "      <td>difficulty</td>\n",
       "      <td>CS 3100</td>\n",
       "    </tr>\n",
       "    <tr>\n",
       "      <th>2</th>\n",
       "      <td>3.588235</td>\n",
       "      <td>1.416811</td>\n",
       "      <td>recommendability</td>\n",
       "      <td>CS 3100</td>\n",
       "    </tr>\n",
       "    <tr>\n",
       "      <th>3</th>\n",
       "      <td>3.411765</td>\n",
       "      <td>1.416811</td>\n",
       "      <td>enjoyability</td>\n",
       "      <td>CS 3100</td>\n",
       "    </tr>\n",
       "    <tr>\n",
       "      <th>4</th>\n",
       "      <td>1.235294</td>\n",
       "      <td>2.411675</td>\n",
       "      <td>amount_reading</td>\n",
       "      <td>CS 3100</td>\n",
       "    </tr>\n",
       "    <tr>\n",
       "      <th>5</th>\n",
       "      <td>2.058824</td>\n",
       "      <td>2.988950</td>\n",
       "      <td>amount_writing</td>\n",
       "      <td>CS 3100</td>\n",
       "    </tr>\n",
       "    <tr>\n",
       "      <th>6</th>\n",
       "      <td>1.705882</td>\n",
       "      <td>2.687115</td>\n",
       "      <td>amount_group</td>\n",
       "      <td>CS 3100</td>\n",
       "    </tr>\n",
       "    <tr>\n",
       "      <th>7</th>\n",
       "      <td>3.470588</td>\n",
       "      <td>4.079180</td>\n",
       "      <td>amount_homework</td>\n",
       "      <td>CS 3100</td>\n",
       "    </tr>\n",
       "  </tbody>\n",
       "</table>\n",
       "</div>"
      ],
      "text/plain": [
       "       mean       std           category   course\n",
       "0  4.058824  1.344925  instructor_rating  CS 3100\n",
       "1  4.235294  0.752447         difficulty  CS 3100\n",
       "2  3.588235  1.416811   recommendability  CS 3100\n",
       "3  3.411765  1.416811       enjoyability  CS 3100\n",
       "4  1.235294  2.411675     amount_reading  CS 3100\n",
       "5  2.058824  2.988950     amount_writing  CS 3100\n",
       "6  1.705882  2.687115       amount_group  CS 3100\n",
       "7  3.470588  4.079180    amount_homework  CS 3100"
      ]
     },
     "execution_count": 170,
     "metadata": {},
     "output_type": "execute_result"
    }
   ],
   "source": [
    "REVIEW_COMPONENTS = {\n",
    "    \"instructor_rating\": \"Instructor Rating\",\n",
    "    \"difficulty\": \"Difficulty\",\n",
    "    \"recommendability\": \"Recommendability\",\n",
    "    \"enjoyability\": \"Enjoyability\",\n",
    "    # \"hours_per_week\": \"Hours Per Week\",\n",
    "    \"amount_reading\": \"Amount Reading\",\n",
    "    \"amount_writing\": \"Amount Writing\",\n",
    "    \"amount_group\": \"Amount Groupwork\",\n",
    "    \"amount_homework\": \"Amount Homework\",\n",
    "}\n",
    "\n",
    "# making each column into a numeric column\n",
    "for column in REVIEW_COMPONENTS.keys():\n",
    "    df[column] = pd.to_numeric(df[column], errors=\"coerce\")\n",
    "\n",
    "COURSE = \"CS 3100\"\n",
    "\n",
    "def course_components(course_pneumonic_and_number: str) -> (str, int):\n",
    "    \"\"\"\n",
    "    Turns a human readable course pneumonic and number into a database-searchable tuple\n",
    "    \"\"\"\n",
    "    course_pneumonic_and_number = (\n",
    "        course_pneumonic_and_number.strip().upper().replace(\"  \", \" \").split(\" \")\n",
    "    )\n",
    "    pneumoic, number = course_pneumonic_and_number\n",
    "    print(pneumoic, number)\n",
    "    return pneumoic, int(number)\n",
    "\n",
    "\n",
    "def get_course_summary_ratings(pneumonic: str, number: int) -> pd.DataFrame:\n",
    "    \"\"\"\n",
    "    Gets the ratings for the course\n",
    "    \"\"\"\n",
    "    pneumonic_mask = df[\"mnemonic\"] == pneumonic\n",
    "    number_mask = df[\"course_number\"] == number\n",
    "    relevant = df[pneumonic_mask & number_mask]\n",
    "\n",
    "    mean = relevant[REVIEW_COMPONENTS.keys()].mean()\n",
    "    std = relevant[REVIEW_COMPONENTS.keys()].std()\n",
    "\n",
    "    frame = pd.DataFrame(\n",
    "        {\"mean\": mean.to_list(), \"std\": std.to_list(), \"category\": mean.index.to_list()}\n",
    "    )\n",
    "    frame['course'] = frame['mean'].apply(lambda x: f\"{pneumonic} {number}\")\n",
    "    return frame\n",
    "\n",
    "\n",
    "get_course_summary_ratings(*course_components(COURSE))"
   ]
  },
  {
   "cell_type": "code",
   "execution_count": 171,
   "metadata": {},
   "outputs": [
    {
     "name": "stdout",
     "output_type": "stream",
     "text": [
      "CS 3100\n",
      "CS 2130\n",
      "CS 3130\n",
      "DS 4003\n"
     ]
    },
    {
     "name": "stderr",
     "output_type": "stream",
     "text": [
      "/var/folders/m0/sl2yvpv551gcfbk3gdntf74r0000gn/T/ipykernel_19137/3246814276.py:20: SettingWithCopyWarning:\n",
      "\n",
      "\n",
      "A value is trying to be set on a copy of a slice from a DataFrame.\n",
      "Try using .loc[row_indexer,col_indexer] = value instead\n",
      "\n",
      "See the caveats in the documentation: https://pandas.pydata.org/pandas-docs/stable/user_guide/indexing.html#returning-a-view-versus-a-copy\n",
      "\n"
     ]
    },
    {
     "data": {
      "application/vnd.plotly.v1+json": {
       "config": {
        "plotlyServerURL": "https://plot.ly"
       },
       "data": [
        {
         "fill": "toself",
         "name": "CS 3100",
         "r": [
          4.0588235294117645,
          4.235294117647059,
          3.588235294117647,
          3.411764705882353
         ],
         "theta": [
          "Instructor Rating",
          "Difficulty",
          "Recommendability",
          "Enjoyability"
         ],
         "type": "scatterpolar"
        },
        {
         "fill": "toself",
         "name": "CS 2130",
         "r": [
          3.45,
          4.3,
          2.5,
          2.3
         ],
         "theta": [
          "Instructor Rating",
          "Difficulty",
          "Recommendability",
          "Enjoyability"
         ],
         "type": "scatterpolar"
        },
        {
         "fill": "toself",
         "name": "CS 3130",
         "r": [
          3.6,
          5,
          2.6,
          2.3
         ],
         "theta": [
          "Instructor Rating",
          "Difficulty",
          "Recommendability",
          "Enjoyability"
         ],
         "type": "scatterpolar"
        },
        {
         "fill": "toself",
         "name": "DS 4003",
         "r": [
          null,
          null,
          null,
          null
         ],
         "theta": [
          "Instructor Rating",
          "Difficulty",
          "Recommendability",
          "Enjoyability"
         ],
         "type": "scatterpolar"
        }
       ],
       "layout": {
        "template": {
         "data": {
          "bar": [
           {
            "error_x": {
             "color": "#2a3f5f"
            },
            "error_y": {
             "color": "#2a3f5f"
            },
            "marker": {
             "line": {
              "color": "#E5ECF6",
              "width": 0.5
             },
             "pattern": {
              "fillmode": "overlay",
              "size": 10,
              "solidity": 0.2
             }
            },
            "type": "bar"
           }
          ],
          "barpolar": [
           {
            "marker": {
             "line": {
              "color": "#E5ECF6",
              "width": 0.5
             },
             "pattern": {
              "fillmode": "overlay",
              "size": 10,
              "solidity": 0.2
             }
            },
            "type": "barpolar"
           }
          ],
          "carpet": [
           {
            "aaxis": {
             "endlinecolor": "#2a3f5f",
             "gridcolor": "white",
             "linecolor": "white",
             "minorgridcolor": "white",
             "startlinecolor": "#2a3f5f"
            },
            "baxis": {
             "endlinecolor": "#2a3f5f",
             "gridcolor": "white",
             "linecolor": "white",
             "minorgridcolor": "white",
             "startlinecolor": "#2a3f5f"
            },
            "type": "carpet"
           }
          ],
          "choropleth": [
           {
            "colorbar": {
             "outlinewidth": 0,
             "ticks": ""
            },
            "type": "choropleth"
           }
          ],
          "contour": [
           {
            "colorbar": {
             "outlinewidth": 0,
             "ticks": ""
            },
            "colorscale": [
             [
              0,
              "#0d0887"
             ],
             [
              0.1111111111111111,
              "#46039f"
             ],
             [
              0.2222222222222222,
              "#7201a8"
             ],
             [
              0.3333333333333333,
              "#9c179e"
             ],
             [
              0.4444444444444444,
              "#bd3786"
             ],
             [
              0.5555555555555556,
              "#d8576b"
             ],
             [
              0.6666666666666666,
              "#ed7953"
             ],
             [
              0.7777777777777778,
              "#fb9f3a"
             ],
             [
              0.8888888888888888,
              "#fdca26"
             ],
             [
              1,
              "#f0f921"
             ]
            ],
            "type": "contour"
           }
          ],
          "contourcarpet": [
           {
            "colorbar": {
             "outlinewidth": 0,
             "ticks": ""
            },
            "type": "contourcarpet"
           }
          ],
          "heatmap": [
           {
            "colorbar": {
             "outlinewidth": 0,
             "ticks": ""
            },
            "colorscale": [
             [
              0,
              "#0d0887"
             ],
             [
              0.1111111111111111,
              "#46039f"
             ],
             [
              0.2222222222222222,
              "#7201a8"
             ],
             [
              0.3333333333333333,
              "#9c179e"
             ],
             [
              0.4444444444444444,
              "#bd3786"
             ],
             [
              0.5555555555555556,
              "#d8576b"
             ],
             [
              0.6666666666666666,
              "#ed7953"
             ],
             [
              0.7777777777777778,
              "#fb9f3a"
             ],
             [
              0.8888888888888888,
              "#fdca26"
             ],
             [
              1,
              "#f0f921"
             ]
            ],
            "type": "heatmap"
           }
          ],
          "heatmapgl": [
           {
            "colorbar": {
             "outlinewidth": 0,
             "ticks": ""
            },
            "colorscale": [
             [
              0,
              "#0d0887"
             ],
             [
              0.1111111111111111,
              "#46039f"
             ],
             [
              0.2222222222222222,
              "#7201a8"
             ],
             [
              0.3333333333333333,
              "#9c179e"
             ],
             [
              0.4444444444444444,
              "#bd3786"
             ],
             [
              0.5555555555555556,
              "#d8576b"
             ],
             [
              0.6666666666666666,
              "#ed7953"
             ],
             [
              0.7777777777777778,
              "#fb9f3a"
             ],
             [
              0.8888888888888888,
              "#fdca26"
             ],
             [
              1,
              "#f0f921"
             ]
            ],
            "type": "heatmapgl"
           }
          ],
          "histogram": [
           {
            "marker": {
             "pattern": {
              "fillmode": "overlay",
              "size": 10,
              "solidity": 0.2
             }
            },
            "type": "histogram"
           }
          ],
          "histogram2d": [
           {
            "colorbar": {
             "outlinewidth": 0,
             "ticks": ""
            },
            "colorscale": [
             [
              0,
              "#0d0887"
             ],
             [
              0.1111111111111111,
              "#46039f"
             ],
             [
              0.2222222222222222,
              "#7201a8"
             ],
             [
              0.3333333333333333,
              "#9c179e"
             ],
             [
              0.4444444444444444,
              "#bd3786"
             ],
             [
              0.5555555555555556,
              "#d8576b"
             ],
             [
              0.6666666666666666,
              "#ed7953"
             ],
             [
              0.7777777777777778,
              "#fb9f3a"
             ],
             [
              0.8888888888888888,
              "#fdca26"
             ],
             [
              1,
              "#f0f921"
             ]
            ],
            "type": "histogram2d"
           }
          ],
          "histogram2dcontour": [
           {
            "colorbar": {
             "outlinewidth": 0,
             "ticks": ""
            },
            "colorscale": [
             [
              0,
              "#0d0887"
             ],
             [
              0.1111111111111111,
              "#46039f"
             ],
             [
              0.2222222222222222,
              "#7201a8"
             ],
             [
              0.3333333333333333,
              "#9c179e"
             ],
             [
              0.4444444444444444,
              "#bd3786"
             ],
             [
              0.5555555555555556,
              "#d8576b"
             ],
             [
              0.6666666666666666,
              "#ed7953"
             ],
             [
              0.7777777777777778,
              "#fb9f3a"
             ],
             [
              0.8888888888888888,
              "#fdca26"
             ],
             [
              1,
              "#f0f921"
             ]
            ],
            "type": "histogram2dcontour"
           }
          ],
          "mesh3d": [
           {
            "colorbar": {
             "outlinewidth": 0,
             "ticks": ""
            },
            "type": "mesh3d"
           }
          ],
          "parcoords": [
           {
            "line": {
             "colorbar": {
              "outlinewidth": 0,
              "ticks": ""
             }
            },
            "type": "parcoords"
           }
          ],
          "pie": [
           {
            "automargin": true,
            "type": "pie"
           }
          ],
          "scatter": [
           {
            "fillpattern": {
             "fillmode": "overlay",
             "size": 10,
             "solidity": 0.2
            },
            "type": "scatter"
           }
          ],
          "scatter3d": [
           {
            "line": {
             "colorbar": {
              "outlinewidth": 0,
              "ticks": ""
             }
            },
            "marker": {
             "colorbar": {
              "outlinewidth": 0,
              "ticks": ""
             }
            },
            "type": "scatter3d"
           }
          ],
          "scattercarpet": [
           {
            "marker": {
             "colorbar": {
              "outlinewidth": 0,
              "ticks": ""
             }
            },
            "type": "scattercarpet"
           }
          ],
          "scattergeo": [
           {
            "marker": {
             "colorbar": {
              "outlinewidth": 0,
              "ticks": ""
             }
            },
            "type": "scattergeo"
           }
          ],
          "scattergl": [
           {
            "marker": {
             "colorbar": {
              "outlinewidth": 0,
              "ticks": ""
             }
            },
            "type": "scattergl"
           }
          ],
          "scattermapbox": [
           {
            "marker": {
             "colorbar": {
              "outlinewidth": 0,
              "ticks": ""
             }
            },
            "type": "scattermapbox"
           }
          ],
          "scatterpolar": [
           {
            "marker": {
             "colorbar": {
              "outlinewidth": 0,
              "ticks": ""
             }
            },
            "type": "scatterpolar"
           }
          ],
          "scatterpolargl": [
           {
            "marker": {
             "colorbar": {
              "outlinewidth": 0,
              "ticks": ""
             }
            },
            "type": "scatterpolargl"
           }
          ],
          "scatterternary": [
           {
            "marker": {
             "colorbar": {
              "outlinewidth": 0,
              "ticks": ""
             }
            },
            "type": "scatterternary"
           }
          ],
          "surface": [
           {
            "colorbar": {
             "outlinewidth": 0,
             "ticks": ""
            },
            "colorscale": [
             [
              0,
              "#0d0887"
             ],
             [
              0.1111111111111111,
              "#46039f"
             ],
             [
              0.2222222222222222,
              "#7201a8"
             ],
             [
              0.3333333333333333,
              "#9c179e"
             ],
             [
              0.4444444444444444,
              "#bd3786"
             ],
             [
              0.5555555555555556,
              "#d8576b"
             ],
             [
              0.6666666666666666,
              "#ed7953"
             ],
             [
              0.7777777777777778,
              "#fb9f3a"
             ],
             [
              0.8888888888888888,
              "#fdca26"
             ],
             [
              1,
              "#f0f921"
             ]
            ],
            "type": "surface"
           }
          ],
          "table": [
           {
            "cells": {
             "fill": {
              "color": "#EBF0F8"
             },
             "line": {
              "color": "white"
             }
            },
            "header": {
             "fill": {
              "color": "#C8D4E3"
             },
             "line": {
              "color": "white"
             }
            },
            "type": "table"
           }
          ]
         },
         "layout": {
          "annotationdefaults": {
           "arrowcolor": "#2a3f5f",
           "arrowhead": 0,
           "arrowwidth": 1
          },
          "autotypenumbers": "strict",
          "coloraxis": {
           "colorbar": {
            "outlinewidth": 0,
            "ticks": ""
           }
          },
          "colorscale": {
           "diverging": [
            [
             0,
             "#8e0152"
            ],
            [
             0.1,
             "#c51b7d"
            ],
            [
             0.2,
             "#de77ae"
            ],
            [
             0.3,
             "#f1b6da"
            ],
            [
             0.4,
             "#fde0ef"
            ],
            [
             0.5,
             "#f7f7f7"
            ],
            [
             0.6,
             "#e6f5d0"
            ],
            [
             0.7,
             "#b8e186"
            ],
            [
             0.8,
             "#7fbc41"
            ],
            [
             0.9,
             "#4d9221"
            ],
            [
             1,
             "#276419"
            ]
           ],
           "sequential": [
            [
             0,
             "#0d0887"
            ],
            [
             0.1111111111111111,
             "#46039f"
            ],
            [
             0.2222222222222222,
             "#7201a8"
            ],
            [
             0.3333333333333333,
             "#9c179e"
            ],
            [
             0.4444444444444444,
             "#bd3786"
            ],
            [
             0.5555555555555556,
             "#d8576b"
            ],
            [
             0.6666666666666666,
             "#ed7953"
            ],
            [
             0.7777777777777778,
             "#fb9f3a"
            ],
            [
             0.8888888888888888,
             "#fdca26"
            ],
            [
             1,
             "#f0f921"
            ]
           ],
           "sequentialminus": [
            [
             0,
             "#0d0887"
            ],
            [
             0.1111111111111111,
             "#46039f"
            ],
            [
             0.2222222222222222,
             "#7201a8"
            ],
            [
             0.3333333333333333,
             "#9c179e"
            ],
            [
             0.4444444444444444,
             "#bd3786"
            ],
            [
             0.5555555555555556,
             "#d8576b"
            ],
            [
             0.6666666666666666,
             "#ed7953"
            ],
            [
             0.7777777777777778,
             "#fb9f3a"
            ],
            [
             0.8888888888888888,
             "#fdca26"
            ],
            [
             1,
             "#f0f921"
            ]
           ]
          },
          "colorway": [
           "#636efa",
           "#EF553B",
           "#00cc96",
           "#ab63fa",
           "#FFA15A",
           "#19d3f3",
           "#FF6692",
           "#B6E880",
           "#FF97FF",
           "#FECB52"
          ],
          "font": {
           "color": "#2a3f5f"
          },
          "geo": {
           "bgcolor": "white",
           "lakecolor": "white",
           "landcolor": "#E5ECF6",
           "showlakes": true,
           "showland": true,
           "subunitcolor": "white"
          },
          "hoverlabel": {
           "align": "left"
          },
          "hovermode": "closest",
          "mapbox": {
           "style": "light"
          },
          "paper_bgcolor": "white",
          "plot_bgcolor": "#E5ECF6",
          "polar": {
           "angularaxis": {
            "gridcolor": "white",
            "linecolor": "white",
            "ticks": ""
           },
           "bgcolor": "#E5ECF6",
           "radialaxis": {
            "gridcolor": "white",
            "linecolor": "white",
            "ticks": ""
           }
          },
          "scene": {
           "xaxis": {
            "backgroundcolor": "#E5ECF6",
            "gridcolor": "white",
            "gridwidth": 2,
            "linecolor": "white",
            "showbackground": true,
            "ticks": "",
            "zerolinecolor": "white"
           },
           "yaxis": {
            "backgroundcolor": "#E5ECF6",
            "gridcolor": "white",
            "gridwidth": 2,
            "linecolor": "white",
            "showbackground": true,
            "ticks": "",
            "zerolinecolor": "white"
           },
           "zaxis": {
            "backgroundcolor": "#E5ECF6",
            "gridcolor": "white",
            "gridwidth": 2,
            "linecolor": "white",
            "showbackground": true,
            "ticks": "",
            "zerolinecolor": "white"
           }
          },
          "shapedefaults": {
           "line": {
            "color": "#2a3f5f"
           }
          },
          "ternary": {
           "aaxis": {
            "gridcolor": "white",
            "linecolor": "white",
            "ticks": ""
           },
           "baxis": {
            "gridcolor": "white",
            "linecolor": "white",
            "ticks": ""
           },
           "bgcolor": "#E5ECF6",
           "caxis": {
            "gridcolor": "white",
            "linecolor": "white",
            "ticks": ""
           }
          },
          "title": {
           "x": 0.05
          },
          "xaxis": {
           "automargin": true,
           "gridcolor": "white",
           "linecolor": "white",
           "ticks": "",
           "title": {
            "standoff": 15
           },
           "zerolinecolor": "white",
           "zerolinewidth": 2
          },
          "yaxis": {
           "automargin": true,
           "gridcolor": "white",
           "linecolor": "white",
           "ticks": "",
           "title": {
            "standoff": 15
           },
           "zerolinecolor": "white",
           "zerolinewidth": 2
          }
         }
        }
       }
      }
     },
     "metadata": {},
     "output_type": "display_data"
    }
   ],
   "source": [
    "# Creating a spider plot for the course\n",
    "# source: https://python-graph-gallery.com/571-radar-chart-with-plotly/\n",
    "# Getting many plot with px\n",
    "# source: https://stackoverflow.com/questions/56727843/how-can-i-create-subplots-with-plotly-express\n",
    "# note: this sucks\n",
    "\n",
    "\n",
    "def course_axis(\n",
    "    frame: pd.DataFrame, course: str = None, include: str = \"ratings\"\n",
    ") -> px.line_polar:\n",
    "    \"\"\"\n",
    "    Makes a polar axis to compare courses\n",
    "    \"\"\"\n",
    "    if \"duration\" in include:\n",
    "        frame = frame[frame[\"category\"].apply(lambda name: name.find(\"amount\") != -1)]\n",
    "    if \"rating\" in include:\n",
    "        frame = frame[frame[\"category\"].apply(lambda name: name.find(\"amount\") == -1)]\n",
    "\n",
    "    fig = go.Figure()\n",
    "    frame['category'] = frame['category'].replace(REVIEW_COMPONENTS)\n",
    "    for course in frame[\"course\"].unique():\n",
    "        rel_frame = frame[frame[\"course\"] == course]\n",
    "        graph_object = go.Scatterpolar(\n",
    "            r=rel_frame[\"mean\"], theta=rel_frame[\"category\"], fill=\"toself\",\n",
    "             name=course.upper()\n",
    "        )\n",
    "\n",
    "        fig.add_trace(graph_object)\n",
    "\n",
    "    return fig\n",
    "\n",
    "\n",
    "cs_3100 = get_course_summary_ratings(*course_components(COURSE))\n",
    "cs_2130 = get_course_summary_ratings(*course_components(\"CS 2130\"))\n",
    "cs_3130 = get_course_summary_ratings(*course_components(\"CS 3130\"))\n",
    "ds_4003 = get_course_summary_ratings(*course_components(\"DS 4003\"))\n",
    "\n",
    "\n",
    "rows = pd.concat([cs_3100, cs_2130, cs_3130, ds_4003])\n",
    "\n",
    "course_axis(rows, course=\"CS 3100\")"
   ]
  },
  {
   "cell_type": "markdown",
   "metadata": {},
   "source": [
    "## Excel-Style Filterable Table\n",
    "\n",
    "The goal of this section is to allow user filtering of tables in an excel like manner. \n",
    "\n",
    "The data in the section will be similar to [the spider plot](#making-the-spider-plot), however the format will be a bit more formal.\n",
    "\n",
    "![Excel-style Table](./imgs/excel-table.png)\n",
    "\n",
    "**Guide:** https://dash.plotly.com/datatable"
   ]
  },
  {
   "cell_type": "code",
   "execution_count": 172,
   "metadata": {},
   "outputs": [
    {
     "data": {
      "text/plain": [
       "{'average': 'Average',\n",
       " 'instructor_rating': 'Instructor Rating',\n",
       " 'difficulty': 'Difficulty',\n",
       " 'recommendability': 'Recommendability',\n",
       " 'enjoyability': 'Enjoyability',\n",
       " 'amount_reading': 'Amount Reading',\n",
       " 'amount_writing': 'Amount Writing',\n",
       " 'amount_group': 'Amount Groupwork',\n",
       " 'amount_homework': 'Amount Homework'}"
      ]
     },
     "execution_count": 172,
     "metadata": {},
     "output_type": "execute_result"
    }
   ],
   "source": [
    "# Defining columns of interest\n",
    "SAMPLE_COURSES = [\"CS 3100\", \"CS 2130\", \"CS 3130\", \"DS 4003\"]\n",
    "\n",
    "# additional table components\n",
    "TABLE_COMPONENTS = {\n",
    "    'average': 'Average',\n",
    "}\n",
    "\n",
    "course_components_to_agg = {**TABLE_COMPONENTS, **REVIEW_COMPONENTS}\n",
    "course_components_to_agg"
   ]
  },
  {
   "cell_type": "code",
   "execution_count": 173,
   "metadata": {},
   "outputs": [
    {
     "name": "stdout",
     "output_type": "stream",
     "text": [
      "CS 3100\n",
      "CS 2130\n",
      "CS 3130\n",
      "DS 4003\n",
      "[('CS', 3100), ('CS', 2130), ('CS', 3130), ('DS', 4003)]\n"
     ]
    },
    {
     "data": {
      "text/html": [
       "<div>\n",
       "<style scoped>\n",
       "    .dataframe tbody tr th:only-of-type {\n",
       "        vertical-align: middle;\n",
       "    }\n",
       "\n",
       "    .dataframe tbody tr th {\n",
       "        vertical-align: top;\n",
       "    }\n",
       "\n",
       "    .dataframe thead th {\n",
       "        text-align: right;\n",
       "    }\n",
       "</style>\n",
       "<table border=\"1\" class=\"dataframe\">\n",
       "  <thead>\n",
       "    <tr style=\"text-align: right;\">\n",
       "      <th></th>\n",
       "      <th>mnemonic</th>\n",
       "      <th>course_number</th>\n",
       "      <th>average</th>\n",
       "      <th>instructor_rating</th>\n",
       "      <th>difficulty</th>\n",
       "      <th>recommendability</th>\n",
       "      <th>enjoyability</th>\n",
       "      <th>amount_reading</th>\n",
       "      <th>amount_writing</th>\n",
       "      <th>amount_group</th>\n",
       "      <th>amount_homework</th>\n",
       "    </tr>\n",
       "  </thead>\n",
       "  <tbody>\n",
       "    <tr>\n",
       "      <th>0</th>\n",
       "      <td>CS</td>\n",
       "      <td>2130.0</td>\n",
       "      <td>2.948611</td>\n",
       "      <td>3.450000</td>\n",
       "      <td>4.300000</td>\n",
       "      <td>2.500000</td>\n",
       "      <td>2.300000</td>\n",
       "      <td>1.900000</td>\n",
       "      <td>1.200000</td>\n",
       "      <td>1.150000</td>\n",
       "      <td>5.700000</td>\n",
       "    </tr>\n",
       "    <tr>\n",
       "      <th>1</th>\n",
       "      <td>CS</td>\n",
       "      <td>3100.0</td>\n",
       "      <td>3.379770</td>\n",
       "      <td>4.058824</td>\n",
       "      <td>4.235294</td>\n",
       "      <td>3.588235</td>\n",
       "      <td>3.411765</td>\n",
       "      <td>1.235294</td>\n",
       "      <td>2.058824</td>\n",
       "      <td>1.705882</td>\n",
       "      <td>3.470588</td>\n",
       "    </tr>\n",
       "    <tr>\n",
       "      <th>2</th>\n",
       "      <td>CS</td>\n",
       "      <td>3130.0</td>\n",
       "      <td>3.330000</td>\n",
       "      <td>3.600000</td>\n",
       "      <td>5.000000</td>\n",
       "      <td>2.600000</td>\n",
       "      <td>2.300000</td>\n",
       "      <td>1.500000</td>\n",
       "      <td>7.500000</td>\n",
       "      <td>0.300000</td>\n",
       "      <td>2.500000</td>\n",
       "    </tr>\n",
       "  </tbody>\n",
       "</table>\n",
       "</div>"
      ],
      "text/plain": [
       "  mnemonic  course_number   average  instructor_rating  difficulty  \\\n",
       "0       CS         2130.0  2.948611           3.450000    4.300000   \n",
       "1       CS         3100.0  3.379770           4.058824    4.235294   \n",
       "2       CS         3130.0  3.330000           3.600000    5.000000   \n",
       "\n",
       "   recommendability  enjoyability  amount_reading  amount_writing  \\\n",
       "0          2.500000      2.300000        1.900000        1.200000   \n",
       "1          3.588235      3.411765        1.235294        2.058824   \n",
       "2          2.600000      2.300000        1.500000        7.500000   \n",
       "\n",
       "   amount_group  amount_homework  \n",
       "0      1.150000         5.700000  \n",
       "1      1.705882         3.470588  \n",
       "2      0.300000         2.500000  "
      ]
     },
     "execution_count": 173,
     "metadata": {},
     "output_type": "execute_result"
    }
   ],
   "source": [
    "def get_data_for_course_comparison_table(courses: List) -> pd.DataFrame:\n",
    "    \"\"\"\n",
    "    Gets relevant course_components to aggregate for a list of courses\n",
    "    \"\"\"\n",
    "    print(courses)\n",
    "\n",
    "    # filtering the data down to the relevant frame\n",
    "    mask = df[\"mnemonic\"] == -1\n",
    "    for course in courses:\n",
    "        pneumonic, number = course\n",
    "        mask = mask | ((df[\"mnemonic\"] == pneumonic) & (df[\"course_number\"] == number))\n",
    "    \n",
    "    relevant = df[mask]\n",
    "\n",
    "    grouped = relevant.groupby([\"mnemonic\", \"course_number\"]).agg({ key: 'mean' for key in course_components_to_agg.keys() }).reset_index()\n",
    "\n",
    "    return grouped\n",
    "\n",
    "course_tuples = [course_components(course) for course in SAMPLE_COURSES]\n",
    "course_data = get_data_for_course_comparison_table(course_tuples)\n",
    "course_data"
   ]
  },
  {
   "cell_type": "code",
   "execution_count": 174,
   "metadata": {},
   "outputs": [
    {
     "data": {
      "application/vnd.plotly.v1+json": {
       "config": {
        "plotlyServerURL": "https://plot.ly"
       },
       "data": [
        {
         "cells": {
          "align": [
           "left",
           "center"
          ],
          "fill": {
           "color": [
            "paleturquoise",
            "white"
           ]
          },
          "font": {
           "size": 12
          },
          "height": 30,
          "line": {
           "color": "darkslategray"
          },
          "values": [
           [
            "CS",
            "CS",
            "CS"
           ],
           [
            2130,
            3100,
            3130
           ],
           [
            2.95,
            3.38,
            3.33
           ],
           [
            3.45,
            4.06,
            3.6
           ],
           [
            4.3,
            4.24,
            5
           ],
           [
            2.5,
            3.59,
            2.6
           ],
           [
            2.3,
            3.41,
            2.3
           ],
           [
            1.9,
            1.24,
            1.5
           ],
           [
            1.2,
            2.06,
            7.5
           ],
           [
            1.15,
            1.71,
            0.3
           ],
           [
            5.7,
            3.47,
            2.5
           ]
          ]
         },
         "header": {
          "align": [
           "left",
           "center"
          ],
          "fill": {
           "color": "royalblue"
          },
          "font": {
           "color": "white",
           "size": 12
          },
          "height": 40,
          "line": {
           "color": "darkslategray"
          },
          "values": [
           "<b>Mnemonic</b><br>",
           "<b>Course<br>#</b><br>",
           "<b>Average</b><br>",
           "<b>Instructor<br>Rating</b><br>",
           "<b>Difficulty</b><br>",
           "<b>Recommendability</b><br>",
           "<b>Enjoyability</b><br>",
           "<b>Amount<br>Reading</b><br>",
           "<b>Amount<br>Writing</b><br>",
           "<b>Amount<br>Groupwork</b><br>",
           "<b>Amount<br>Homework</b><br>"
          ]
         },
         "type": "table"
        }
       ],
       "layout": {
        "template": {
         "data": {
          "bar": [
           {
            "error_x": {
             "color": "#2a3f5f"
            },
            "error_y": {
             "color": "#2a3f5f"
            },
            "marker": {
             "line": {
              "color": "#E5ECF6",
              "width": 0.5
             },
             "pattern": {
              "fillmode": "overlay",
              "size": 10,
              "solidity": 0.2
             }
            },
            "type": "bar"
           }
          ],
          "barpolar": [
           {
            "marker": {
             "line": {
              "color": "#E5ECF6",
              "width": 0.5
             },
             "pattern": {
              "fillmode": "overlay",
              "size": 10,
              "solidity": 0.2
             }
            },
            "type": "barpolar"
           }
          ],
          "carpet": [
           {
            "aaxis": {
             "endlinecolor": "#2a3f5f",
             "gridcolor": "white",
             "linecolor": "white",
             "minorgridcolor": "white",
             "startlinecolor": "#2a3f5f"
            },
            "baxis": {
             "endlinecolor": "#2a3f5f",
             "gridcolor": "white",
             "linecolor": "white",
             "minorgridcolor": "white",
             "startlinecolor": "#2a3f5f"
            },
            "type": "carpet"
           }
          ],
          "choropleth": [
           {
            "colorbar": {
             "outlinewidth": 0,
             "ticks": ""
            },
            "type": "choropleth"
           }
          ],
          "contour": [
           {
            "colorbar": {
             "outlinewidth": 0,
             "ticks": ""
            },
            "colorscale": [
             [
              0,
              "#0d0887"
             ],
             [
              0.1111111111111111,
              "#46039f"
             ],
             [
              0.2222222222222222,
              "#7201a8"
             ],
             [
              0.3333333333333333,
              "#9c179e"
             ],
             [
              0.4444444444444444,
              "#bd3786"
             ],
             [
              0.5555555555555556,
              "#d8576b"
             ],
             [
              0.6666666666666666,
              "#ed7953"
             ],
             [
              0.7777777777777778,
              "#fb9f3a"
             ],
             [
              0.8888888888888888,
              "#fdca26"
             ],
             [
              1,
              "#f0f921"
             ]
            ],
            "type": "contour"
           }
          ],
          "contourcarpet": [
           {
            "colorbar": {
             "outlinewidth": 0,
             "ticks": ""
            },
            "type": "contourcarpet"
           }
          ],
          "heatmap": [
           {
            "colorbar": {
             "outlinewidth": 0,
             "ticks": ""
            },
            "colorscale": [
             [
              0,
              "#0d0887"
             ],
             [
              0.1111111111111111,
              "#46039f"
             ],
             [
              0.2222222222222222,
              "#7201a8"
             ],
             [
              0.3333333333333333,
              "#9c179e"
             ],
             [
              0.4444444444444444,
              "#bd3786"
             ],
             [
              0.5555555555555556,
              "#d8576b"
             ],
             [
              0.6666666666666666,
              "#ed7953"
             ],
             [
              0.7777777777777778,
              "#fb9f3a"
             ],
             [
              0.8888888888888888,
              "#fdca26"
             ],
             [
              1,
              "#f0f921"
             ]
            ],
            "type": "heatmap"
           }
          ],
          "heatmapgl": [
           {
            "colorbar": {
             "outlinewidth": 0,
             "ticks": ""
            },
            "colorscale": [
             [
              0,
              "#0d0887"
             ],
             [
              0.1111111111111111,
              "#46039f"
             ],
             [
              0.2222222222222222,
              "#7201a8"
             ],
             [
              0.3333333333333333,
              "#9c179e"
             ],
             [
              0.4444444444444444,
              "#bd3786"
             ],
             [
              0.5555555555555556,
              "#d8576b"
             ],
             [
              0.6666666666666666,
              "#ed7953"
             ],
             [
              0.7777777777777778,
              "#fb9f3a"
             ],
             [
              0.8888888888888888,
              "#fdca26"
             ],
             [
              1,
              "#f0f921"
             ]
            ],
            "type": "heatmapgl"
           }
          ],
          "histogram": [
           {
            "marker": {
             "pattern": {
              "fillmode": "overlay",
              "size": 10,
              "solidity": 0.2
             }
            },
            "type": "histogram"
           }
          ],
          "histogram2d": [
           {
            "colorbar": {
             "outlinewidth": 0,
             "ticks": ""
            },
            "colorscale": [
             [
              0,
              "#0d0887"
             ],
             [
              0.1111111111111111,
              "#46039f"
             ],
             [
              0.2222222222222222,
              "#7201a8"
             ],
             [
              0.3333333333333333,
              "#9c179e"
             ],
             [
              0.4444444444444444,
              "#bd3786"
             ],
             [
              0.5555555555555556,
              "#d8576b"
             ],
             [
              0.6666666666666666,
              "#ed7953"
             ],
             [
              0.7777777777777778,
              "#fb9f3a"
             ],
             [
              0.8888888888888888,
              "#fdca26"
             ],
             [
              1,
              "#f0f921"
             ]
            ],
            "type": "histogram2d"
           }
          ],
          "histogram2dcontour": [
           {
            "colorbar": {
             "outlinewidth": 0,
             "ticks": ""
            },
            "colorscale": [
             [
              0,
              "#0d0887"
             ],
             [
              0.1111111111111111,
              "#46039f"
             ],
             [
              0.2222222222222222,
              "#7201a8"
             ],
             [
              0.3333333333333333,
              "#9c179e"
             ],
             [
              0.4444444444444444,
              "#bd3786"
             ],
             [
              0.5555555555555556,
              "#d8576b"
             ],
             [
              0.6666666666666666,
              "#ed7953"
             ],
             [
              0.7777777777777778,
              "#fb9f3a"
             ],
             [
              0.8888888888888888,
              "#fdca26"
             ],
             [
              1,
              "#f0f921"
             ]
            ],
            "type": "histogram2dcontour"
           }
          ],
          "mesh3d": [
           {
            "colorbar": {
             "outlinewidth": 0,
             "ticks": ""
            },
            "type": "mesh3d"
           }
          ],
          "parcoords": [
           {
            "line": {
             "colorbar": {
              "outlinewidth": 0,
              "ticks": ""
             }
            },
            "type": "parcoords"
           }
          ],
          "pie": [
           {
            "automargin": true,
            "type": "pie"
           }
          ],
          "scatter": [
           {
            "fillpattern": {
             "fillmode": "overlay",
             "size": 10,
             "solidity": 0.2
            },
            "type": "scatter"
           }
          ],
          "scatter3d": [
           {
            "line": {
             "colorbar": {
              "outlinewidth": 0,
              "ticks": ""
             }
            },
            "marker": {
             "colorbar": {
              "outlinewidth": 0,
              "ticks": ""
             }
            },
            "type": "scatter3d"
           }
          ],
          "scattercarpet": [
           {
            "marker": {
             "colorbar": {
              "outlinewidth": 0,
              "ticks": ""
             }
            },
            "type": "scattercarpet"
           }
          ],
          "scattergeo": [
           {
            "marker": {
             "colorbar": {
              "outlinewidth": 0,
              "ticks": ""
             }
            },
            "type": "scattergeo"
           }
          ],
          "scattergl": [
           {
            "marker": {
             "colorbar": {
              "outlinewidth": 0,
              "ticks": ""
             }
            },
            "type": "scattergl"
           }
          ],
          "scattermapbox": [
           {
            "marker": {
             "colorbar": {
              "outlinewidth": 0,
              "ticks": ""
             }
            },
            "type": "scattermapbox"
           }
          ],
          "scatterpolar": [
           {
            "marker": {
             "colorbar": {
              "outlinewidth": 0,
              "ticks": ""
             }
            },
            "type": "scatterpolar"
           }
          ],
          "scatterpolargl": [
           {
            "marker": {
             "colorbar": {
              "outlinewidth": 0,
              "ticks": ""
             }
            },
            "type": "scatterpolargl"
           }
          ],
          "scatterternary": [
           {
            "marker": {
             "colorbar": {
              "outlinewidth": 0,
              "ticks": ""
             }
            },
            "type": "scatterternary"
           }
          ],
          "surface": [
           {
            "colorbar": {
             "outlinewidth": 0,
             "ticks": ""
            },
            "colorscale": [
             [
              0,
              "#0d0887"
             ],
             [
              0.1111111111111111,
              "#46039f"
             ],
             [
              0.2222222222222222,
              "#7201a8"
             ],
             [
              0.3333333333333333,
              "#9c179e"
             ],
             [
              0.4444444444444444,
              "#bd3786"
             ],
             [
              0.5555555555555556,
              "#d8576b"
             ],
             [
              0.6666666666666666,
              "#ed7953"
             ],
             [
              0.7777777777777778,
              "#fb9f3a"
             ],
             [
              0.8888888888888888,
              "#fdca26"
             ],
             [
              1,
              "#f0f921"
             ]
            ],
            "type": "surface"
           }
          ],
          "table": [
           {
            "cells": {
             "fill": {
              "color": "#EBF0F8"
             },
             "line": {
              "color": "white"
             }
            },
            "header": {
             "fill": {
              "color": "#C8D4E3"
             },
             "line": {
              "color": "white"
             }
            },
            "type": "table"
           }
          ]
         },
         "layout": {
          "annotationdefaults": {
           "arrowcolor": "#2a3f5f",
           "arrowhead": 0,
           "arrowwidth": 1
          },
          "autotypenumbers": "strict",
          "coloraxis": {
           "colorbar": {
            "outlinewidth": 0,
            "ticks": ""
           }
          },
          "colorscale": {
           "diverging": [
            [
             0,
             "#8e0152"
            ],
            [
             0.1,
             "#c51b7d"
            ],
            [
             0.2,
             "#de77ae"
            ],
            [
             0.3,
             "#f1b6da"
            ],
            [
             0.4,
             "#fde0ef"
            ],
            [
             0.5,
             "#f7f7f7"
            ],
            [
             0.6,
             "#e6f5d0"
            ],
            [
             0.7,
             "#b8e186"
            ],
            [
             0.8,
             "#7fbc41"
            ],
            [
             0.9,
             "#4d9221"
            ],
            [
             1,
             "#276419"
            ]
           ],
           "sequential": [
            [
             0,
             "#0d0887"
            ],
            [
             0.1111111111111111,
             "#46039f"
            ],
            [
             0.2222222222222222,
             "#7201a8"
            ],
            [
             0.3333333333333333,
             "#9c179e"
            ],
            [
             0.4444444444444444,
             "#bd3786"
            ],
            [
             0.5555555555555556,
             "#d8576b"
            ],
            [
             0.6666666666666666,
             "#ed7953"
            ],
            [
             0.7777777777777778,
             "#fb9f3a"
            ],
            [
             0.8888888888888888,
             "#fdca26"
            ],
            [
             1,
             "#f0f921"
            ]
           ],
           "sequentialminus": [
            [
             0,
             "#0d0887"
            ],
            [
             0.1111111111111111,
             "#46039f"
            ],
            [
             0.2222222222222222,
             "#7201a8"
            ],
            [
             0.3333333333333333,
             "#9c179e"
            ],
            [
             0.4444444444444444,
             "#bd3786"
            ],
            [
             0.5555555555555556,
             "#d8576b"
            ],
            [
             0.6666666666666666,
             "#ed7953"
            ],
            [
             0.7777777777777778,
             "#fb9f3a"
            ],
            [
             0.8888888888888888,
             "#fdca26"
            ],
            [
             1,
             "#f0f921"
            ]
           ]
          },
          "colorway": [
           "#636efa",
           "#EF553B",
           "#00cc96",
           "#ab63fa",
           "#FFA15A",
           "#19d3f3",
           "#FF6692",
           "#B6E880",
           "#FF97FF",
           "#FECB52"
          ],
          "font": {
           "color": "#2a3f5f"
          },
          "geo": {
           "bgcolor": "white",
           "lakecolor": "white",
           "landcolor": "#E5ECF6",
           "showlakes": true,
           "showland": true,
           "subunitcolor": "white"
          },
          "hoverlabel": {
           "align": "left"
          },
          "hovermode": "closest",
          "mapbox": {
           "style": "light"
          },
          "paper_bgcolor": "white",
          "plot_bgcolor": "#E5ECF6",
          "polar": {
           "angularaxis": {
            "gridcolor": "white",
            "linecolor": "white",
            "ticks": ""
           },
           "bgcolor": "#E5ECF6",
           "radialaxis": {
            "gridcolor": "white",
            "linecolor": "white",
            "ticks": ""
           }
          },
          "scene": {
           "xaxis": {
            "backgroundcolor": "#E5ECF6",
            "gridcolor": "white",
            "gridwidth": 2,
            "linecolor": "white",
            "showbackground": true,
            "ticks": "",
            "zerolinecolor": "white"
           },
           "yaxis": {
            "backgroundcolor": "#E5ECF6",
            "gridcolor": "white",
            "gridwidth": 2,
            "linecolor": "white",
            "showbackground": true,
            "ticks": "",
            "zerolinecolor": "white"
           },
           "zaxis": {
            "backgroundcolor": "#E5ECF6",
            "gridcolor": "white",
            "gridwidth": 2,
            "linecolor": "white",
            "showbackground": true,
            "ticks": "",
            "zerolinecolor": "white"
           }
          },
          "shapedefaults": {
           "line": {
            "color": "#2a3f5f"
           }
          },
          "ternary": {
           "aaxis": {
            "gridcolor": "white",
            "linecolor": "white",
            "ticks": ""
           },
           "baxis": {
            "gridcolor": "white",
            "linecolor": "white",
            "ticks": ""
           },
           "bgcolor": "#E5ECF6",
           "caxis": {
            "gridcolor": "white",
            "linecolor": "white",
            "ticks": ""
           }
          },
          "title": {
           "x": 0.05
          },
          "xaxis": {
           "automargin": true,
           "gridcolor": "white",
           "linecolor": "white",
           "ticks": "",
           "title": {
            "standoff": 15
           },
           "zerolinecolor": "white",
           "zerolinewidth": 2
          },
          "yaxis": {
           "automargin": true,
           "gridcolor": "white",
           "linecolor": "white",
           "ticks": "",
           "title": {
            "standoff": 15
           },
           "zerolinecolor": "white",
           "zerolinewidth": 2
          }
         }
        }
       }
      }
     },
     "metadata": {},
     "output_type": "display_data"
    }
   ],
   "source": [
    "# making the table in plotly\n",
    "# source: https://plotly.com/python/table/\n",
    "\n",
    "course_components_to_agg = {\n",
    "    **course_components_to_agg,\n",
    "    \"course_number\": \"Course #\",\n",
    "    \"mnemonic\": \"Mnemonic\",\n",
    "}\n",
    "\n",
    "\n",
    "def get_cells(course_data: pd.DataFrame) -> List[List[any]]:\n",
    "    \"\"\"\n",
    "    Gets the cells in the data table\n",
    "    \"\"\"\n",
    "    return course_data.round(2).to_numpy().transpose().tolist()\n",
    "\n",
    "\n",
    "pretty_column_names = list(\n",
    "    map(\n",
    "        lambda col: f\"<b>{course_components_to_agg.get(col, col).replace(' ', '<br>')}</b><br>\",\n",
    "        course_data.columns.to_list(),\n",
    "    )\n",
    ")\n",
    "\n",
    "\n",
    "table = go.Figure(\n",
    "    data=[\n",
    "        go.Table(\n",
    "            header=dict(\n",
    "                values=pretty_column_names,\n",
    "                line_color=\"darkslategray\",\n",
    "                fill_color=\"royalblue\",\n",
    "                align=[\"left\", \"center\"],\n",
    "                font=dict(color=\"white\", size=12),\n",
    "                height=40,\n",
    "            ),\n",
    "            cells=dict(\n",
    "                values=get_cells(course_data),\n",
    "                line_color=\"darkslategray\",\n",
    "                fill=dict(color=[\"paleturquoise\", \"white\"]),\n",
    "                align=[\"left\", \"center\"],\n",
    "                font_size=12,\n",
    "                height=30,\n",
    "            ),\n",
    "        )\n",
    "    ]\n",
    ")\n",
    "\n",
    "table  # note: I am pretty happy with this. I would like to add more interactivity here."
   ]
  },
  {
   "cell_type": "code",
   "execution_count": 175,
   "metadata": {},
   "outputs": [
    {
     "data": {
      "text/plain": [
       "0        ACCT 2010.0\n",
       "1        HISA 2001.0\n",
       "2        HISA 1501.0\n",
       "3        HISA 2001.0\n",
       "4        HISA 3002.0\n",
       "            ...     \n",
       "41507    ECON 3030.0\n",
       "41508    ECON 3030.0\n",
       "41509    ECON 3030.0\n",
       "41510    PLAD 2500.0\n",
       "41511    COMM 3845.0\n",
       "Name: name, Length: 41512, dtype: object"
      ]
     },
     "execution_count": 175,
     "metadata": {},
     "output_type": "execute_result"
    }
   ],
   "source": [
    "# making a source dropdown\n",
    "# source: https://dash.plotly.com/dash-core-components/dropdown\n",
    "# df['course_number'] = df['course_number'].apply(int)\n",
    "df['course_number'].fillna(0, inplace=True)\n",
    "df['name'] = df['mnemonic'] + \" \" + df['course_number'].astype(str)\n",
    "df['name']"
   ]
  },
  {
   "cell_type": "code",
   "execution_count": 176,
   "metadata": {},
   "outputs": [],
   "source": [
    "# adding source dropdowns here\n",
    "course_mneumoic_dropdown = dcc.Dropdown(\n",
    "    id='course_dropdown',\n",
    "    options=[{'label': str(course).replace(\".0\", \"\"), 'value': str(course).replace(\".0\", \"\")} for course in df['name'].unique()],\n",
    "    value='CS 3100',\n",
    "    multi=True\n",
    ")\n"
   ]
  },
  {
   "cell_type": "markdown",
   "metadata": {},
   "source": [
    "# Breaking Down Instructor Rating\n",
    "\n",
    "![Correlating Instructor Reviews](./imgs/correlating_reviews.png)"
   ]
  },
  {
   "cell_type": "code",
   "execution_count": 177,
   "metadata": {},
   "outputs": [],
   "source": [
    "# the goal for this is to create the functions which can control for a  particular factor\n",
    "CHECKBOX_SELECTORS = {\n",
    "    'average': 'GPA',\n",
    "    # 'course_level': 'Course Level (1k, 2k, ...)',\n",
    "    'difficulty' : 'Difficulty',\n",
    "    'hours_per_week': 'Hours Worked Per Week',\n",
    "    'amount_group': 'Group Work Per Week'\n",
    "}"
   ]
  },
  {
   "cell_type": "code",
   "execution_count": 178,
   "metadata": {},
   "outputs": [],
   "source": [
    "# making a bunch of checkboxes in plotly\n",
    "checklist = dcc.Checklist(\n",
    "    options=[\n",
    "        {'label': v, 'value': k} for k, v in CHECKBOX_SELECTORS.items()\n",
    "    ],\n",
    "    value=[],\n",
    "    id='features_to_plot'\n",
    ")"
   ]
  },
  {
   "cell_type": "code",
   "execution_count": 179,
   "metadata": {},
   "outputs": [
    {
     "data": {
      "application/vnd.plotly.v1+json": {
       "config": {
        "plotlyServerURL": "https://plot.ly"
       },
       "data": [
        {
         "alignmentgroup": "True",
         "bingroup": "x",
         "hovertemplate": "instructor_rating=%{x}<br>count=%{y}<extra></extra>",
         "legendgroup": "",
         "marker": {
          "color": "#636efa",
          "pattern": {
           "shape": ""
          }
         },
         "name": "",
         "offsetgroup": "",
         "orientation": "v",
         "showlegend": false,
         "type": "histogram",
         "x": [
          5,
          4.7,
          4.513513513513513,
          5,
          4.25,
          3.6666666666666665,
          4.571428571428571,
          2,
          5,
          4,
          3,
          4.111111111111111,
          3,
          5,
          3.6666666666666665,
          2,
          5,
          3,
          2.6666666666666665,
          5,
          3,
          5,
          4.666666666666667,
          3.78125,
          5,
          5,
          5,
          3.5,
          5,
          5,
          4,
          5,
          4.857142857142857,
          3.8,
          4.176470588235294,
          4.285714285714286,
          4,
          5,
          4.2,
          3.3333333333333335,
          4,
          4,
          5,
          5,
          5,
          3.9183673469387754,
          3.0714285714285716,
          3.3333333333333335,
          4.5,
          4,
          2,
          4,
          3.4782608695652173,
          3.5555555555555554,
          4.75,
          2,
          4.238095238095238,
          4.571428571428571,
          4.5,
          3.5,
          4,
          1.5,
          3.8333333333333335,
          1.5,
          3,
          3,
          3.875,
          3.2,
          4.375,
          3.5,
          3.6206896551724137,
          3.3125,
          3.5,
          4,
          5,
          5,
          4.285714285714286,
          4.6,
          4,
          5,
          4.333333333333333,
          3.323529411764706,
          4.045454545454546,
          3.5454545454545454,
          5,
          4.454545454545454,
          4,
          2.888888888888889,
          2.4444444444444446,
          3.9,
          3.823529411764706,
          4.25,
          3.4210526315789473,
          4,
          3,
          3.75,
          5,
          5,
          4,
          5,
          3.375,
          5,
          4.285714285714286,
          2.3333333333333335,
          4,
          3,
          3.857142857142857,
          4,
          4,
          5,
          2.5,
          3.375,
          2.4,
          4.5,
          4,
          4,
          3,
          4,
          2,
          3.3333333333333335,
          5,
          4,
          5,
          4,
          3.3333333333333335,
          3,
          5,
          5,
          5,
          3.3902439024390243,
          3.770731707317073,
          3.860169491525424,
          3.873684210526316,
          4.3,
          5,
          3.9,
          2.888888888888889,
          3.911392405063291,
          3.816326530612245,
          4.428571428571429,
          4,
          5,
          3,
          3,
          3.25,
          4,
          5,
          5,
          3.9473684210526314,
          4.818181818181818,
          4.333333333333333,
          5,
          3.75,
          4.333333333333333,
          5,
          3,
          3.5,
          5,
          4,
          4.363636363636363,
          5,
          4.2,
          3.466666666666667,
          4.217391304347826,
          3.2,
          5,
          5,
          3.125,
          4,
          4.75,
          3.764705882352941,
          4,
          3,
          5,
          4,
          3,
          4.333333333333333,
          4,
          5,
          3,
          4,
          4.666666666666667,
          5,
          3,
          5,
          4.5,
          3.090909090909091,
          4.153846153846154,
          4,
          5,
          4.5,
          4,
          3,
          4,
          3,
          5,
          5,
          3.6610169491525424,
          5,
          4.8,
          4.6,
          4.625,
          4.666666666666667,
          2.5,
          4.666666666666667,
          3.857142857142857,
          2.6666666666666665,
          4.071428571428571,
          3,
          5,
          4.5,
          3.2142857142857144,
          3.6666666666666665,
          2.5,
          5,
          3.8333333333333335,
          4.833333333333333,
          4.166666666666667,
          4.3,
          4.8,
          3.5,
          2.75,
          4.142857142857143,
          3.8947368421052633,
          3,
          5,
          3.3333333333333335,
          3.727272727272727,
          3.875,
          4,
          5,
          4,
          4.5,
          5,
          4.5,
          3.6666666666666665,
          2.5,
          5,
          4,
          4.277777777777778,
          3,
          4,
          3.8297872340425534,
          3.8,
          4.1,
          5,
          2.6666666666666665,
          4.833333333333333,
          4.5,
          3.5185185185185186,
          2.7,
          5,
          5,
          5,
          3.3333333333333335,
          5,
          3.75,
          5,
          4,
          4,
          5,
          1,
          4,
          4.59375,
          4.2631578947368425,
          3.5,
          3.2,
          3.5,
          4.333333333333333,
          3.3333333333333335,
          5,
          2,
          5,
          3.8459302325581395,
          2.411764705882353,
          3,
          4,
          1.3333333333333333,
          4.081081081081081,
          4.333333333333333,
          4.785714285714286,
          4.5,
          5,
          3,
          4,
          4.333333333333333,
          4,
          2.6,
          3.2,
          4.444444444444445,
          4.7272727272727275,
          4.076923076923077,
          2,
          5,
          3.875,
          3.15,
          3.5294117647058822,
          2,
          3.7857142857142856,
          3.5,
          4.190082644628099,
          2.792682926829268,
          3.4047619047619047,
          2.847826086956522,
          3.25,
          3.75,
          3.6,
          4,
          4.306818181818182,
          3.4545454545454546,
          3.8374384236453203,
          3.1775147928994083,
          3.7419354838709675,
          2.2,
          3.875,
          4.564102564102564,
          3.75,
          3.6666666666666665,
          4.04,
          4,
          3.5416666666666665,
          3.3333333333333335,
          4.333333333333333,
          4.524590163934426,
          3.6216216216216215,
          4.4,
          4.833333333333333,
          3.8125,
          2.4285714285714284,
          2.25,
          4.411764705882353,
          3,
          2.2,
          4,
          4,
          4,
          5,
          3.6,
          3.1818181818181817,
          4.125,
          4,
          4.5,
          4.5,
          4.25,
          3,
          5,
          4,
          4.5,
          3.2,
          4.333333333333333,
          3.375,
          4.411764705882353,
          3.875,
          4.166666666666667,
          3.8333333333333335,
          5,
          5,
          3,
          4.166666666666667,
          5,
          3.5,
          5,
          4,
          4.666666666666667,
          3.5,
          4.857142857142857,
          5,
          4.333333333333333,
          4,
          3.9375,
          4,
          5,
          3.2,
          4.45945945945946,
          3.875,
          4.129032258064516,
          4.454545454545454,
          3.4,
          4.153846153846154,
          4.285714285714286,
          2.7777777777777777,
          3.5714285714285716,
          3,
          3,
          4,
          4,
          4,
          2.857142857142857,
          5,
          4.24,
          4.130434782608695,
          3.3333333333333335,
          2.8,
          1,
          3.888888888888889,
          3.8857142857142857,
          4,
          2.888888888888889,
          4,
          3.5714285714285716,
          3.7777777777777777,
          5,
          3.6,
          3.769230769230769,
          3.142857142857143,
          3.375,
          3.5,
          3,
          4,
          4.111111111111111,
          5,
          4,
          4,
          4.5,
          3,
          4.5,
          3,
          5,
          4,
          5,
          3.388888888888889,
          4.142857142857143,
          3.5217391304347827,
          3,
          3.2941176470588234,
          4.333333333333333,
          4.142857142857143,
          3.1666666666666665,
          4.5,
          3,
          2,
          4,
          5,
          2,
          5,
          5,
          5,
          1,
          2,
          4.666666666666667,
          3.5485714285714285,
          3.134831460674157,
          3.448529411764706,
          2.8461538461538463,
          4,
          3.061224489795918,
          2.372093023255814,
          3.4166666666666665,
          2.1666666666666665,
          4.808510638297872,
          3.375,
          3.375,
          2.5416666666666665,
          3.0714285714285716,
          3.2857142857142856,
          3.9,
          3.5,
          3.838709677419355,
          2.5753424657534247,
          3.6261682242990654,
          2.7037037037037037,
          4,
          3.56,
          4.4,
          4.3478260869565215,
          3.7,
          3.272727272727273,
          3.4444444444444446,
          2,
          3.25,
          2.4285714285714284,
          2,
          3,
          3.5,
          5,
          2.5,
          3.2873563218390807,
          3.125,
          4.266666666666667,
          3.1666666666666665,
          5,
          3,
          4.25,
          4,
          5,
          3.4482758620689653,
          4.513513513513513,
          4.8,
          5,
          4.285714285714286,
          4.5,
          4.833333333333333,
          4.090909090909091,
          5,
          4.25,
          3.6,
          4.25,
          4.4,
          2,
          4,
          4.5,
          4.5,
          4.5,
          5,
          5,
          5,
          5,
          3,
          4.134615384615385,
          3.857142857142857,
          4.027777777777778,
          5,
          4,
          4.25,
          2.6666666666666665,
          4,
          4,
          4,
          5,
          4.5,
          5,
          4.833333333333333,
          4.453551912568306,
          3.8333333333333335,
          3.28,
          4.285714285714286,
          3.2851239669421486,
          2.707070707070707,
          3.3333333333333335,
          4.224489795918367,
          4.6,
          3.5,
          3.6052631578947367,
          3.877551020408163,
          4.178571428571429,
          3.878787878787879,
          3.2666666666666666,
          2.5555555555555554,
          3,
          3.8333333333333335,
          4.3,
          4,
          4,
          3.5,
          4,
          4.51417004048583,
          4.661764705882353,
          4,
          4.4,
          4.777777777777778,
          4.5,
          3.6847826086956523,
          3.888888888888889,
          4.538461538461538,
          3.857142857142857,
          3,
          3.8333333333333335,
          5,
          5,
          4.142857142857143,
          5,
          4.384615384615385,
          5,
          4.75,
          4.333333333333333,
          5,
          4,
          5,
          5,
          4.7272727272727275,
          5,
          2.25,
          3.8,
          1,
          3.25,
          3.3333333333333335,
          5,
          5,
          3,
          4,
          4.5,
          4.8,
          3.75,
          4.4375,
          4,
          2,
          3.5714285714285716,
          5,
          3.2222222222222223,
          3.9047619047619047,
          2,
          4.25,
          2,
          4,
          4.333333333333333,
          4,
          4,
          4,
          3.5,
          5,
          4,
          4,
          4.25,
          4.666666666666667,
          4.666666666666667,
          4,
          3.4,
          4.333333333333333,
          5,
          4,
          3.764705882352941,
          4.106741573033708,
          3.8,
          4.072289156626506,
          4.166666666666667,
          4,
          5,
          3.48,
          3.0236220472440944,
          3.549019607843137,
          3.96,
          3.45,
          4.273170731707317,
          5,
          4,
          4.35,
          3.6666666666666665,
          4.75,
          4.0588235294117645,
          3.7962962962962963,
          5,
          3.6,
          3.8,
          2.6056338028169015,
          3.5,
          4.285714285714286,
          2.4014598540145986,
          3.5,
          4.3125,
          3.8,
          4.5,
          4.5,
          3.4468085106382977,
          4,
          3.7058823529411766,
          3.925925925925926,
          4.333333333333333,
          3.5,
          3.2666666666666666,
          4,
          3.9375,
          2.95,
          4.625,
          2.652173913043478,
          3.5,
          3.4,
          2.6,
          3.6875,
          5,
          3.25,
          5,
          4,
          4,
          3.6666666666666665,
          4,
          5,
          3.3333333333333335,
          4.5,
          5,
          5,
          4.4,
          4.333333333333333,
          5,
          3.25,
          3.72,
          5,
          5,
          4,
          4.5,
          4,
          4.555555555555555,
          3.775,
          4.166666666666667,
          2.888888888888889,
          4.666666666666667,
          5,
          4.5,
          4,
          5,
          4.25,
          5,
          4,
          4.333333333333333,
          5,
          5,
          4,
          1.3333333333333333,
          4.5,
          5,
          4.588235294117647,
          4,
          3.5,
          3.710526315789474,
          4.279411764705882,
          3.857142857142857,
          3.5714285714285716,
          4.166666666666667,
          4.125,
          3.5,
          4,
          4.6,
          4,
          4.285714285714286,
          3.75,
          3.235294117647059,
          4,
          4.5,
          4,
          4.125,
          5,
          4,
          2.5,
          4,
          3,
          3,
          5,
          5,
          4.333333333333333,
          4.333333333333333,
          4,
          5,
          3.968201754385965,
          4.082051282051282,
          2,
          4.180555555555555,
          2.8333333333333335,
          3.4565217391304346,
          2.9274611398963732,
          3.4909090909090907,
          3.9166666666666665,
          3.5714285714285716,
          4.183673469387755,
          4.5813953488372094,
          4.375,
          3,
          2.8181818181818183,
          3.4066666666666667,
          4.035714285714286,
          3.526315789473684,
          5,
          4.2,
          5,
          4,
          3.8214285714285716,
          4.2,
          3.84375,
          4.5,
          4.583333333333333,
          3.6363636363636362,
          3.4444444444444446,
          3.3333333333333335,
          2.75,
          4,
          3.264367816091954,
          4,
          4.444444444444445,
          3.539325842696629,
          5,
          3.3333333333333335,
          3.9,
          2.75,
          5,
          3.8260869565217392,
          4.636363636363637,
          5,
          5,
          4,
          4,
          3,
          3.7142857142857144,
          5,
          5,
          1,
          5,
          5,
          2.2,
          4.5,
          3.8333333333333335,
          2.8,
          4.5,
          3.6666666666666665,
          5,
          5,
          2.6666666666666665,
          3.5,
          5,
          4.5,
          4,
          5,
          3.5,
          4.5,
          4,
          5,
          2,
          4,
          5,
          5,
          5,
          4.5,
          5,
          4.25,
          5,
          4.5,
          2,
          5,
          4.5,
          4,
          5,
          4.666666666666667,
          4.6,
          4.875,
          4,
          5,
          4,
          4.5,
          5,
          4.8,
          4.434782608695652,
          5,
          3,
          4.666666666666667,
          5,
          5,
          5,
          4,
          5,
          5,
          3,
          4.5,
          3.6,
          3,
          4,
          5,
          4.5,
          4.666666666666667,
          2,
          4,
          4.5,
          5,
          5,
          5,
          4,
          4,
          1,
          4.333333333333333,
          4.1875,
          5,
          3.8333333333333335,
          2.3333333333333335,
          4.090909090909091,
          4.666666666666667,
          4.625,
          5,
          3.2857142857142856,
          2,
          3.142857142857143,
          3.2,
          5,
          3.6,
          4,
          4.666666666666667,
          5,
          5,
          4.479166666666667,
          2,
          4.25,
          5,
          5,
          5,
          2,
          4.5,
          5,
          5,
          4.17948717948718,
          3.9583333333333335,
          3.577777777777778,
          3.857142857142857,
          5,
          5,
          4.5,
          3.8,
          4.285714285714286,
          4,
          3.75,
          4.75,
          4,
          5,
          4.5,
          5,
          3.923076923076923,
          5,
          5,
          4.25,
          4,
          5,
          4.666666666666667,
          3,
          4.8,
          5,
          5,
          5,
          4,
          4.75,
          4.833333333333333,
          4.333333333333333,
          4.411764705882353,
          4,
          5,
          3.4,
          4.75,
          4.333333333333333,
          4,
          4.6923076923076925,
          5,
          4.071428571428571,
          3.5,
          5,
          5,
          4.875,
          4.285714285714286,
          4,
          5,
          5,
          5,
          5,
          4,
          4.5,
          4,
          3.5,
          1,
          3,
          5,
          4.5,
          5,
          5,
          4.315789473684211,
          4.05,
          4.428571428571429,
          5,
          5,
          5,
          5,
          3,
          5,
          5,
          5,
          3,
          5,
          4.421052631578948,
          4.277777777777778,
          4.75,
          4.072992700729927,
          2.15,
          3.5869565217391304,
          4,
          4.277777777777778,
          4.166666666666667,
          4,
          4,
          5,
          3.5,
          4.4,
          3.3333333333333335,
          4.666666666666667,
          4.466666666666667,
          4.363636363636363,
          4.235294117647059,
          3,
          4.7,
          4.5,
          3,
          4.2,
          4.184210526315789,
          5,
          4.25,
          2,
          3.8,
          4.5,
          4,
          5,
          3.625,
          4.625,
          4.5,
          5,
          3.7142857142857144,
          5,
          4.2,
          5,
          5,
          4.5,
          4.25,
          5,
          5,
          4,
          5,
          4.25,
          3.5,
          4.571428571428571,
          5,
          4.136363636363637,
          4.428571428571429,
          4.25,
          4.5,
          5,
          2,
          4,
          5,
          5,
          3.5,
          5,
          5,
          4,
          3.75,
          4.909090909090909,
          4.666666666666667,
          3.943355119825708,
          4.75,
          3.142857142857143,
          4.761904761904762,
          4.777777777777778,
          5,
          4.857142857142857,
          5,
          3,
          4.875,
          5,
          4,
          4.5,
          5,
          5,
          4.75,
          5,
          3.5,
          4.6,
          4,
          4,
          5,
          4,
          5,
          4.5,
          2.5,
          4,
          3.6704545454545454,
          3.0588235294117645,
          2.6,
          4.67741935483871,
          4.368421052631579,
          4.2727272727272725,
          4.027027027027027,
          5,
          3.5526315789473686,
          3.292682926829268,
          2.8857142857142857,
          3.5555555555555554,
          2.210526315789474,
          3,
          3.485294117647059,
          4,
          2.823529411764706,
          3.5384615384615383,
          4.5,
          3.5,
          4.285714285714286,
          4.3076923076923075,
          4.166666666666667,
          2.5,
          4.35,
          4.5,
          2.3333333333333335,
          4.7272727272727275,
          4.6,
          3.2,
          5,
          3.5454545454545454,
          4.5,
          3,
          4.285714285714286,
          3,
          2.9523809523809526,
          4.5,
          4.333333333333333,
          1,
          4,
          5,
          5,
          5,
          4.5,
          5,
          3,
          4.666666666666667,
          3,
          5,
          4.5,
          4.470588235294118,
          4.285714285714286,
          4.7272727272727275,
          4,
          4.129032258064516,
          4.333333333333333,
          4,
          3.590909090909091,
          4.423076923076923,
          4.25,
          2.3333333333333335,
          5,
          5,
          4,
          3.6153846153846154,
          4.476190476190476,
          3.6,
          4,
          4.25,
          5,
          3.4,
          3.5,
          3.5,
          4,
          2,
          2.6666666666666665,
          3.857142857142857,
          4,
          5,
          5,
          5,
          4.25,
          3.5,
          5,
          3.3333333333333335,
          4,
          4.25,
          5,
          5,
          5,
          5,
          4.5,
          5,
          2,
          4,
          3.3333333333333335,
          5,
          5,
          4.75,
          2,
          4.4,
          5,
          5,
          3,
          4.7368421052631575,
          4,
          4.285714285714286,
          5,
          5,
          4,
          3.75,
          3.8333333333333335,
          4.666666666666667,
          3.6666666666666665,
          1,
          4.6,
          4.333333333333333,
          4.5,
          5,
          5,
          1,
          4,
          2.5,
          4,
          3,
          4.5,
          4,
          4.5,
          5,
          5,
          4,
          5,
          4.714285714285714,
          4,
          5,
          4.875,
          5,
          4.3,
          4.333333333333333,
          4.2,
          2,
          3.5,
          4.5,
          5,
          3,
          4,
          5,
          5,
          3.3333333333333335,
          5,
          1,
          4,
          2.3333333333333335,
          4.230769230769231,
          3,
          3.0434782608695654,
          1,
          5,
          5,
          5,
          3.9375,
          3.5714285714285716,
          4.783783783783784,
          2.2,
          4,
          4.133333333333334,
          3.9583333333333335,
          4,
          4.4,
          5,
          3,
          2.5,
          5,
          4,
          4.8,
          4.5,
          4,
          3.8666666666666667,
          3.6,
          2.875,
          4.625,
          4.566037735849057,
          4.166666666666667,
          1.5,
          3.9622641509433962,
          4.6,
          5,
          4.375,
          4.636363636363637,
          4.461538461538462,
          3.75,
          3.6666666666666665,
          1.8421052631578947,
          4.241379310344827,
          2,
          4.25,
          4.7,
          3,
          4.181818181818182,
          4.8,
          3,
          4,
          4,
          4.4,
          5,
          2.6666666666666665,
          2,
          3.7333333333333334,
          4.5,
          4.166666666666667,
          4,
          2.6666666666666665,
          2.5,
          2.25,
          4.25,
          4.666666666666667,
          4.444444444444445,
          5,
          4.5,
          2,
          2,
          3.6470588235294117,
          3,
          1.5,
          3,
          4.421052631578948,
          4.333333333333333,
          4.428571428571429,
          3.888888888888889,
          3.769230769230769,
          5,
          5,
          4.5,
          4.666666666666667,
          3.9411764705882355,
          4,
          4,
          4.25,
          4.083333333333333,
          3.55,
          5,
          4.6,
          5,
          5,
          5,
          4.166666666666667,
          4.5,
          4.857142857142857,
          3.5,
          5,
          4.5,
          4.421052631578948,
          3.8333333333333335,
          4.2,
          3.142857142857143,
          2.5,
          5,
          4,
          4.5,
          4.142857142857143,
          5,
          3.3333333333333335,
          3.263157894736842,
          4,
          4.133333333333334,
          4.5,
          2.25,
          4.5,
          4.888888888888889,
          3,
          5,
          5,
          2,
          4.017543859649122,
          3.5,
          4.4,
          3.5,
          3,
          4.2631578947368425,
          3,
          4.5,
          5,
          2,
          4,
          4,
          4.159090909090909,
          3.5,
          4.666666666666667,
          4.625,
          4.875,
          4,
          4.294117647058823,
          5,
          4.666666666666667,
          3.769230769230769,
          4,
          4.423076923076923,
          4.230769230769231,
          4.644444444444445,
          3,
          4.333333333333333,
          3.5,
          5,
          4.2727272727272725,
          3,
          4.6,
          4.6,
          3.7142857142857144,
          4,
          4.857142857142857,
          4.5,
          4,
          4.153846153846154,
          3.090909090909091,
          4.823529411764706,
          4.4,
          4.833333333333333,
          5,
          5,
          4.666666666666667,
          5,
          1,
          1,
          4.444444444444445,
          4.9,
          3.4705882352941178,
          4.315789473684211,
          4.285714285714286,
          4.5,
          5,
          4.285714285714286,
          5,
          5,
          3.6666666666666665,
          3,
          4.5,
          4.333333333333333,
          3.6,
          3,
          4,
          4,
          4,
          4,
          4.277777777777778,
          4.090909090909091,
          4,
          4,
          3,
          5,
          4,
          2,
          5,
          5,
          4.5,
          4.5,
          4.266666666666667,
          3,
          4.833333333333333,
          4,
          3.6666666666666665,
          5,
          4.666666666666667,
          4.25,
          5,
          5,
          1,
          3,
          5,
          5,
          5,
          4,
          4,
          5,
          5,
          4,
          5,
          4.333333333333333,
          5,
          5,
          4.538461538461538,
          4.875,
          5,
          5,
          3.2857142857142856,
          4,
          4.5,
          3.5294117647058822,
          3.2222222222222223,
          4.421052631578948,
          5,
          3.3333333333333335,
          4,
          4.333333333333333,
          4,
          3.5,
          4.5,
          3,
          4,
          2,
          4,
          4,
          4,
          3,
          5,
          4.6,
          4.4,
          4,
          4.5,
          4.5,
          5,
          5,
          2,
          2.5,
          1.8333333333333333,
          1,
          2,
          3,
          5,
          3,
          4.5,
          4.75,
          3,
          3,
          5,
          5,
          5,
          5,
          4,
          4,
          4,
          2,
          4.085714285714285,
          4.363636363636363,
          4.125,
          4,
          5,
          5,
          5,
          3.5,
          3.8,
          4.25,
          4,
          2,
          5,
          4,
          5,
          5,
          3.3636363636363638,
          4,
          3.6666666666666665,
          3,
          3.2413793103448274,
          5,
          4,
          4.5,
          4.5,
          4,
          4.5,
          2.8333333333333335,
          2,
          3,
          3,
          3,
          4.857142857142857,
          4.75,
          4,
          5,
          3,
          4.5,
          4,
          5,
          5,
          1,
          5,
          5,
          2,
          5,
          5,
          2,
          5,
          3.5,
          5,
          5,
          5,
          2.9245283018867925,
          4.666666666666667,
          3.5,
          1.5,
          3.769230769230769,
          3.6333333333333333,
          4.48,
          1.9090909090909092,
          4.666666666666667,
          3.1818181818181817,
          2.8333333333333335,
          5,
          3.5714285714285716,
          5,
          2.5,
          3,
          3.2222222222222223,
          2.3333333333333335,
          3.3529411764705883,
          5,
          3.3333333333333335,
          1,
          2,
          4.25,
          4,
          5,
          4,
          1,
          4.333333333333333,
          5,
          3,
          2.8333333333333335,
          3.7083333333333335,
          5,
          3.6,
          4.285714285714286,
          3.016949152542373,
          3.311926605504587,
          3.6,
          3.8333333333333335,
          3.4242424242424243,
          3.8125,
          2.8181818181818183,
          3.3552631578947367,
          3.9714285714285715,
          2,
          3.7941176470588234,
          5,
          3.1818181818181817,
          4.176470588235294,
          3.5689655172413794,
          4.105263157894737,
          4,
          3.6666666666666665,
          5,
          2.5,
          3.4,
          3.5,
          3.875,
          3,
          4.666666666666667,
          4.285714285714286,
          3.6666666666666665,
          5,
          3,
          2,
          4.142857142857143,
          4,
          3.6666666666666665,
          3.75,
          5,
          3.5,
          4,
          4.428571428571429,
          5,
          3.4788732394366195,
          3.5625,
          4.75,
          5,
          5,
          5,
          3.7142857142857144,
          3.875,
          5,
          3.7142857142857144,
          3.3333333333333335,
          5,
          3,
          4.666666666666667,
          2.3333333333333335,
          5,
          5,
          5,
          5,
          4,
          2.3333333333333335,
          5,
          4,
          5,
          3,
          3.5,
          4,
          3.3333333333333335,
          4.5,
          2.5,
          4.166666666666667,
          1,
          4.5,
          4.666666666666667,
          4.833333333333333,
          4.666666666666667,
          3,
          4.285714285714286,
          4.176470588235294,
          4.5,
          3.5,
          4.75,
          4.368421052631579,
          5,
          1,
          2,
          3.5,
          2,
          2.3333333333333335,
          5,
          5,
          5,
          5,
          5,
          2,
          4.5,
          2,
          3,
          3,
          3.5,
          3,
          5,
          1,
          4.5,
          5,
          5,
          3.25,
          4.333333333333333,
          3.6666666666666665,
          3.6666666666666665,
          1.75,
          5,
          4,
          4,
          3.3333333333333335,
          1,
          5,
          2.5,
          5,
          5,
          5,
          5,
          4.315789473684211,
          4.201923076923077,
          4.666666666666667,
          3.090909090909091,
          3,
          3.6,
          4,
          4,
          3.3333333333333335,
          5,
          4.5,
          3,
          4,
          4,
          5,
          5,
          5,
          4.5,
          5,
          5,
          4.166666666666667,
          3,
          5,
          4,
          5,
          3,
          4.75,
          4.5,
          3.7291666666666665,
          4.1,
          3.8,
          4.2272727272727275,
          3.25,
          3,
          3.8795180722891565,
          4.333333333333333,
          4,
          4.545454545454546,
          5,
          3.8666666666666667,
          3.6666666666666665,
          4.2,
          5,
          5,
          3.6666666666666665,
          4,
          4.125,
          5,
          3,
          4.75,
          4.428571428571429,
          4,
          4.333333333333333,
          4,
          2.3333333333333335,
          4,
          4.8,
          5,
          5,
          5,
          4.666666666666667,
          5,
          4,
          5,
          5,
          5,
          5,
          2.5,
          4,
          3,
          3.25,
          4.75,
          5,
          3.8333333333333335,
          5,
          2,
          2,
          4,
          5,
          5,
          4.545454545454546,
          2.3636363636363638,
          5,
          4.285714285714286,
          4.428571428571429,
          4,
          3,
          2.5,
          4,
          4,
          5,
          4,
          4,
          2,
          3,
          5,
          3.8,
          4,
          5,
          3,
          4,
          4,
          4.125,
          4.5,
          3.5,
          5,
          3,
          5,
          3.816,
          4.294117647058823,
          3.9,
          3.8125,
          3.462962962962963,
          3.5428571428571427,
          2.736842105263158,
          5,
          4.076923076923077,
          3.8636363636363638,
          3.4444444444444446,
          3.6,
          3.6,
          2.3333333333333335,
          3.6666666666666665,
          2.75,
          4.107142857142857,
          3.5,
          4.583333333333333,
          3.75,
          2.5,
          4.37037037037037,
          5,
          4.241379310344827,
          4,
          3.5,
          4.833333333333333,
          3.9285714285714284,
          4.428571428571429,
          5,
          4.75,
          3.6,
          3.25,
          4.8125,
          3.3333333333333335,
          4.5,
          4.5,
          4.375,
          5,
          4,
          5,
          4,
          4.666666666666667,
          5,
          4,
          4.333333333333333,
          5,
          3.857142857142857,
          4.714285714285714,
          5,
          5,
          2.5,
          5,
          4.5,
          5,
          4.333333333333333,
          4,
          5,
          1,
          4.571428571428571,
          5,
          2.5,
          3.4,
          3.857142857142857,
          3,
          4,
          5,
          3,
          4,
          5,
          1,
          4.242424242424242,
          5,
          4.6571428571428575,
          4.363636363636363,
          1,
          4.090909090909091,
          4.666666666666667,
          2.602272727272727,
          2.0681818181818183,
          3,
          3.5833333333333335,
          5,
          4.666666666666667,
          5,
          3.8,
          3,
          4,
          5,
          3.1012658227848102,
          2.9444444444444446,
          2.25,
          2.272727272727273,
          3.25,
          2.347826086956522,
          5,
          3.5,
          4,
          3.5555555555555554,
          3,
          3,
          1,
          4.333333333333333,
          4,
          3.5,
          3.5714285714285716,
          5,
          1.3333333333333333,
          5,
          3.8,
          4,
          5,
          5,
          3.2857142857142856,
          3.5,
          5,
          5,
          4,
          3.5,
          4,
          2,
          5,
          5,
          4,
          4,
          5,
          3,
          3.25,
          5,
          3.8674698795180724,
          4,
          3,
          4.363636363636363,
          5,
          3.6666666666666665,
          4.5,
          4.222222222222222,
          4.444444444444445,
          3.8,
          5,
          4.6,
          3.857142857142857,
          5,
          4.25,
          4.2,
          4,
          5,
          4,
          4,
          4,
          3,
          3.6371681415929205,
          2.5,
          4.295454545454546,
          3.608695652173913,
          3.6,
          4.285714285714286,
          4.875,
          4.166666666666667,
          3.2857142857142856,
          4.571428571428571,
          4.090909090909091,
          4.583333333333333,
          4.571428571428571,
          5,
          4.458333333333333,
          3.3333333333333335,
          3.1842105263157894,
          3.7027027027027026,
          3.68,
          4.2,
          3.8,
          5,
          3,
          4.6,
          5,
          3.75,
          3.6666666666666665,
          4.5,
          5,
          5,
          4.6,
          3.6666666666666665,
          4,
          3.8595041322314048,
          2,
          4.096153846153846,
          3.125,
          3.2,
          5,
          3.8333333333333335,
          3.6984126984126986,
          4,
          3.6,
          4,
          4.315789473684211,
          5,
          3,
          4.75,
          3.1538461538461537,
          2.9047619047619047,
          3.7777777777777777,
          3.4285714285714284,
          4,
          4,
          4,
          5,
          4.6,
          5,
          5,
          3.3333333333333335,
          5,
          4,
          2,
          4.5,
          3,
          3.75,
          3,
          3,
          4.2,
          2.3333333333333335,
          4.75,
          3.6666666666666665,
          3.723404255319149,
          3.7142857142857144,
          3.888888888888889,
          3.95,
          4.0285714285714285,
          4.02,
          3.6363636363636362,
          3.230769230769231,
          3.75,
          3.5454545454545454,
          4.5,
          3.6666666666666665,
          4.428571428571429,
          4,
          5,
          4.5,
          4,
          4,
          5,
          4.5,
          3,
          4,
          4.5,
          3,
          3,
          2.5,
          5,
          4.121951219512195,
          2,
          3.526315789473684,
          4.144927536231884,
          4.25,
          4,
          5,
          5,
          5,
          4.6,
          5,
          3.5714285714285716,
          3,
          3.5,
          4.666666666666667,
          5,
          4.333333333333333,
          5,
          5,
          4.625,
          4.6,
          3.5,
          4.5,
          4.333333333333333,
          1,
          3.2857142857142856,
          3.9473684210526314,
          4.625,
          3.25,
          4,
          4.5,
          4,
          4,
          3,
          5,
          4.615384615384615,
          4.5,
          5,
          4.333333333333333,
          3,
          4,
          5,
          4,
          1,
          5,
          2,
          5,
          1,
          4.25,
          5,
          3.6722972972972974,
          3.22,
          2.4878048780487805,
          4.164444444444444,
          2.3333333333333335,
          3.5592105263157894,
          1.5,
          4.25,
          4,
          3.056603773584906,
          3.6222222222222222,
          3.3333333333333335,
          4.056962025316456,
          5,
          3.443877551020408,
          3,
          3.1176470588235294,
          3.13953488372093,
          3,
          3.3333333333333335,
          4,
          4,
          3.5,
          5,
          3.4,
          3.5,
          4.385964912280702,
          5,
          3.2222222222222223,
          4.5,
          4.12,
          4,
          4,
          4.230769230769231,
          4.658536585365853,
          4.5,
          3.6666666666666665,
          4.428571428571429,
          5,
          5,
          4.75,
          4,
          4,
          5,
          5,
          3.9545454545454546,
          2.3333333333333335,
          5,
          5,
          5,
          4.7,
          4.25,
          5,
          4,
          4.5,
          4,
          5,
          4,
          5,
          3.25,
          3.5,
          3.2,
          5,
          3.6666666666666665,
          4.5,
          5,
          5,
          4.5,
          4.285714285714286,
          2.6666666666666665,
          5,
          4,
          4,
          5,
          4.666666666666667,
          3.58,
          4,
          2,
          2.272727272727273,
          4.5,
          3.4285714285714284,
          3.5,
          2,
          5,
          3.2,
          5,
          4,
          4,
          4.217391304347826,
          3.9814814814814814,
          4,
          4.384615384615385,
          4,
          4.5,
          3,
          3.4,
          4,
          5,
          4.2,
          4.333333333333333,
          5,
          5,
          4.6,
          4.666666666666667,
          5,
          5,
          5,
          3,
          4.4,
          5,
          5,
          5,
          4,
          3.25,
          5,
          3.6,
          5,
          5,
          3.875,
          4,
          2,
          3.3333333333333335,
          4.5,
          3,
          5,
          4.24,
          3.72,
          3.5,
          4.5,
          5,
          4,
          4.043478260869565,
          4.333333333333333,
          4.518518518518518,
          5,
          3.9375,
          3,
          2,
          5,
          4.21875,
          3.897810218978102,
          4.2631578947368425,
          4,
          4.5,
          4.5,
          1.9,
          5,
          4,
          3,
          5,
          2.6,
          4,
          4.333333333333333,
          3.6,
          4.8,
          4.5,
          5,
          4,
          4.295454545454546,
          2.5,
          5,
          4.5,
          5,
          5,
          4.5,
          3.7777777777777777,
          2.625,
          3,
          5,
          4.1,
          4.4,
          4,
          4.333333333333333,
          4,
          5,
          5,
          4.5,
          5,
          4,
          5,
          4.333333333333333,
          4.5,
          4.5,
          4.5,
          3.8,
          4,
          2,
          5,
          4.8,
          4.5,
          5,
          5,
          5,
          5,
          4,
          4.375,
          4.461538461538462,
          5,
          5,
          5,
          3.5,
          5,
          4.8,
          4.4,
          4.333333333333333,
          2.5,
          4,
          5,
          5,
          5,
          3,
          3.25,
          4,
          3.3333333333333335,
          3.5,
          5,
          5,
          5,
          3.6,
          4,
          4.4,
          4,
          2.5,
          4,
          5,
          4.760869565217392,
          3.75,
          4.111111111111111,
          3.3333333333333335,
          4.666666666666667,
          4.181818181818182,
          3.670967741935484,
          5,
          3.345679012345679,
          5,
          3.739130434782609,
          4.2,
          3.75,
          3.710526315789474,
          4.833333333333333,
          3.3333333333333335,
          5,
          4,
          4.666666666666667,
          4.666666666666667,
          5,
          5,
          5,
          2.8333333333333335,
          3.902439024390244,
          5,
          3.8,
          3.35,
          3.5,
          4,
          4.548387096774194,
          3.5,
          4,
          5,
          3.5294117647058822,
          3,
          5,
          3.4,
          4.75,
          4.647058823529412,
          3.6666666666666665,
          3.857142857142857,
          3,
          4.5,
          2.75,
          5,
          5,
          4.5,
          4.6,
          3,
          5,
          4,
          3,
          4,
          4.333333333333333,
          4.2,
          4,
          4,
          4.75,
          3.25,
          4,
          5,
          1,
          2.625,
          5,
          5,
          4,
          4.5,
          5,
          4.614130434782608,
          4.2727272727272725,
          4.491071428571429,
          4.464285714285714,
          4.173076923076923,
          3.5625,
          4.333333333333333,
          4,
          4.173913043478261,
          4.4,
          3.6,
          4.44,
          3.7777777777777777,
          4.333333333333333,
          2.857142857142857,
          3.7058823529411766,
          5,
          4.533333333333333,
          5,
          3.5,
          5,
          4,
          4.125,
          3.75,
          2,
          4.333333333333333,
          4,
          4,
          3.2,
          4.5,
          5,
          4.25,
          4,
          4.333333333333333,
          5,
          3.6363636363636362,
          4,
          4.76,
          2.090909090909091,
          3.4086021505376345,
          3.1176470588235294,
          5,
          3.24,
          3.6,
          3.3636363636363638,
          1.8888888888888888,
          2.9591836734693877,
          2.75,
          4.2,
          1.6,
          2.6666666666666665,
          4.75,
          5,
          1,
          3,
          1.4,
          5,
          5,
          3.7,
          3.3333333333333335,
          4.166666666666667,
          4,
          3.1333333333333333,
          1,
          1,
          3.5,
          2,
          3.5,
          2,
          3,
          3,
          5,
          2.5,
          3,
          2.54,
          4.25,
          2,
          3.7,
          4.5,
          4,
          5,
          3.6153846153846154,
          3.2,
          3,
          4.666666666666667,
          3.3333333333333335,
          3,
          4.5,
          5,
          4,
          5,
          4,
          3.3958333333333335,
          3.5,
          1.5,
          5,
          5,
          3.95,
          4,
          4.5,
          3.076923076923077,
          3.4444444444444446,
          5,
          3,
          1.6666666666666667,
          3.4776119402985075,
          3.0232558139534884,
          4,
          5,
          4.318181818181818,
          2.890625,
          3,
          4,
          2.857142857142857,
          3.3333333333333335,
          5,
          3,
          4.333333333333333,
          3.25,
          4.666666666666667,
          2,
          5,
          3,
          5,
          5,
          4,
          1,
          4,
          4,
          5,
          4.5,
          4.557377049180328,
          4.032786885245901,
          3.979591836734694,
          4.5,
          5,
          5,
          4.5,
          3.6666666666666665,
          5,
          4,
          3,
          3,
          3,
          5,
          4,
          4,
          4,
          5,
          4.142857142857143,
          1,
          5,
          4.75,
          4,
          4,
          3.5,
          3.8,
          4.25,
          5,
          4.5,
          4.375,
          3,
          5,
          5,
          5,
          3,
          5
         ],
         "xaxis": "x",
         "yaxis": "y"
        }
       ],
       "layout": {
        "barmode": "relative",
        "legend": {
         "tracegroupgap": 0
        },
        "margin": {
         "t": 60
        },
        "template": {
         "data": {
          "bar": [
           {
            "error_x": {
             "color": "#2a3f5f"
            },
            "error_y": {
             "color": "#2a3f5f"
            },
            "marker": {
             "line": {
              "color": "#E5ECF6",
              "width": 0.5
             },
             "pattern": {
              "fillmode": "overlay",
              "size": 10,
              "solidity": 0.2
             }
            },
            "type": "bar"
           }
          ],
          "barpolar": [
           {
            "marker": {
             "line": {
              "color": "#E5ECF6",
              "width": 0.5
             },
             "pattern": {
              "fillmode": "overlay",
              "size": 10,
              "solidity": 0.2
             }
            },
            "type": "barpolar"
           }
          ],
          "carpet": [
           {
            "aaxis": {
             "endlinecolor": "#2a3f5f",
             "gridcolor": "white",
             "linecolor": "white",
             "minorgridcolor": "white",
             "startlinecolor": "#2a3f5f"
            },
            "baxis": {
             "endlinecolor": "#2a3f5f",
             "gridcolor": "white",
             "linecolor": "white",
             "minorgridcolor": "white",
             "startlinecolor": "#2a3f5f"
            },
            "type": "carpet"
           }
          ],
          "choropleth": [
           {
            "colorbar": {
             "outlinewidth": 0,
             "ticks": ""
            },
            "type": "choropleth"
           }
          ],
          "contour": [
           {
            "colorbar": {
             "outlinewidth": 0,
             "ticks": ""
            },
            "colorscale": [
             [
              0,
              "#0d0887"
             ],
             [
              0.1111111111111111,
              "#46039f"
             ],
             [
              0.2222222222222222,
              "#7201a8"
             ],
             [
              0.3333333333333333,
              "#9c179e"
             ],
             [
              0.4444444444444444,
              "#bd3786"
             ],
             [
              0.5555555555555556,
              "#d8576b"
             ],
             [
              0.6666666666666666,
              "#ed7953"
             ],
             [
              0.7777777777777778,
              "#fb9f3a"
             ],
             [
              0.8888888888888888,
              "#fdca26"
             ],
             [
              1,
              "#f0f921"
             ]
            ],
            "type": "contour"
           }
          ],
          "contourcarpet": [
           {
            "colorbar": {
             "outlinewidth": 0,
             "ticks": ""
            },
            "type": "contourcarpet"
           }
          ],
          "heatmap": [
           {
            "colorbar": {
             "outlinewidth": 0,
             "ticks": ""
            },
            "colorscale": [
             [
              0,
              "#0d0887"
             ],
             [
              0.1111111111111111,
              "#46039f"
             ],
             [
              0.2222222222222222,
              "#7201a8"
             ],
             [
              0.3333333333333333,
              "#9c179e"
             ],
             [
              0.4444444444444444,
              "#bd3786"
             ],
             [
              0.5555555555555556,
              "#d8576b"
             ],
             [
              0.6666666666666666,
              "#ed7953"
             ],
             [
              0.7777777777777778,
              "#fb9f3a"
             ],
             [
              0.8888888888888888,
              "#fdca26"
             ],
             [
              1,
              "#f0f921"
             ]
            ],
            "type": "heatmap"
           }
          ],
          "heatmapgl": [
           {
            "colorbar": {
             "outlinewidth": 0,
             "ticks": ""
            },
            "colorscale": [
             [
              0,
              "#0d0887"
             ],
             [
              0.1111111111111111,
              "#46039f"
             ],
             [
              0.2222222222222222,
              "#7201a8"
             ],
             [
              0.3333333333333333,
              "#9c179e"
             ],
             [
              0.4444444444444444,
              "#bd3786"
             ],
             [
              0.5555555555555556,
              "#d8576b"
             ],
             [
              0.6666666666666666,
              "#ed7953"
             ],
             [
              0.7777777777777778,
              "#fb9f3a"
             ],
             [
              0.8888888888888888,
              "#fdca26"
             ],
             [
              1,
              "#f0f921"
             ]
            ],
            "type": "heatmapgl"
           }
          ],
          "histogram": [
           {
            "marker": {
             "pattern": {
              "fillmode": "overlay",
              "size": 10,
              "solidity": 0.2
             }
            },
            "type": "histogram"
           }
          ],
          "histogram2d": [
           {
            "colorbar": {
             "outlinewidth": 0,
             "ticks": ""
            },
            "colorscale": [
             [
              0,
              "#0d0887"
             ],
             [
              0.1111111111111111,
              "#46039f"
             ],
             [
              0.2222222222222222,
              "#7201a8"
             ],
             [
              0.3333333333333333,
              "#9c179e"
             ],
             [
              0.4444444444444444,
              "#bd3786"
             ],
             [
              0.5555555555555556,
              "#d8576b"
             ],
             [
              0.6666666666666666,
              "#ed7953"
             ],
             [
              0.7777777777777778,
              "#fb9f3a"
             ],
             [
              0.8888888888888888,
              "#fdca26"
             ],
             [
              1,
              "#f0f921"
             ]
            ],
            "type": "histogram2d"
           }
          ],
          "histogram2dcontour": [
           {
            "colorbar": {
             "outlinewidth": 0,
             "ticks": ""
            },
            "colorscale": [
             [
              0,
              "#0d0887"
             ],
             [
              0.1111111111111111,
              "#46039f"
             ],
             [
              0.2222222222222222,
              "#7201a8"
             ],
             [
              0.3333333333333333,
              "#9c179e"
             ],
             [
              0.4444444444444444,
              "#bd3786"
             ],
             [
              0.5555555555555556,
              "#d8576b"
             ],
             [
              0.6666666666666666,
              "#ed7953"
             ],
             [
              0.7777777777777778,
              "#fb9f3a"
             ],
             [
              0.8888888888888888,
              "#fdca26"
             ],
             [
              1,
              "#f0f921"
             ]
            ],
            "type": "histogram2dcontour"
           }
          ],
          "mesh3d": [
           {
            "colorbar": {
             "outlinewidth": 0,
             "ticks": ""
            },
            "type": "mesh3d"
           }
          ],
          "parcoords": [
           {
            "line": {
             "colorbar": {
              "outlinewidth": 0,
              "ticks": ""
             }
            },
            "type": "parcoords"
           }
          ],
          "pie": [
           {
            "automargin": true,
            "type": "pie"
           }
          ],
          "scatter": [
           {
            "fillpattern": {
             "fillmode": "overlay",
             "size": 10,
             "solidity": 0.2
            },
            "type": "scatter"
           }
          ],
          "scatter3d": [
           {
            "line": {
             "colorbar": {
              "outlinewidth": 0,
              "ticks": ""
             }
            },
            "marker": {
             "colorbar": {
              "outlinewidth": 0,
              "ticks": ""
             }
            },
            "type": "scatter3d"
           }
          ],
          "scattercarpet": [
           {
            "marker": {
             "colorbar": {
              "outlinewidth": 0,
              "ticks": ""
             }
            },
            "type": "scattercarpet"
           }
          ],
          "scattergeo": [
           {
            "marker": {
             "colorbar": {
              "outlinewidth": 0,
              "ticks": ""
             }
            },
            "type": "scattergeo"
           }
          ],
          "scattergl": [
           {
            "marker": {
             "colorbar": {
              "outlinewidth": 0,
              "ticks": ""
             }
            },
            "type": "scattergl"
           }
          ],
          "scattermapbox": [
           {
            "marker": {
             "colorbar": {
              "outlinewidth": 0,
              "ticks": ""
             }
            },
            "type": "scattermapbox"
           }
          ],
          "scatterpolar": [
           {
            "marker": {
             "colorbar": {
              "outlinewidth": 0,
              "ticks": ""
             }
            },
            "type": "scatterpolar"
           }
          ],
          "scatterpolargl": [
           {
            "marker": {
             "colorbar": {
              "outlinewidth": 0,
              "ticks": ""
             }
            },
            "type": "scatterpolargl"
           }
          ],
          "scatterternary": [
           {
            "marker": {
             "colorbar": {
              "outlinewidth": 0,
              "ticks": ""
             }
            },
            "type": "scatterternary"
           }
          ],
          "surface": [
           {
            "colorbar": {
             "outlinewidth": 0,
             "ticks": ""
            },
            "colorscale": [
             [
              0,
              "#0d0887"
             ],
             [
              0.1111111111111111,
              "#46039f"
             ],
             [
              0.2222222222222222,
              "#7201a8"
             ],
             [
              0.3333333333333333,
              "#9c179e"
             ],
             [
              0.4444444444444444,
              "#bd3786"
             ],
             [
              0.5555555555555556,
              "#d8576b"
             ],
             [
              0.6666666666666666,
              "#ed7953"
             ],
             [
              0.7777777777777778,
              "#fb9f3a"
             ],
             [
              0.8888888888888888,
              "#fdca26"
             ],
             [
              1,
              "#f0f921"
             ]
            ],
            "type": "surface"
           }
          ],
          "table": [
           {
            "cells": {
             "fill": {
              "color": "#EBF0F8"
             },
             "line": {
              "color": "white"
             }
            },
            "header": {
             "fill": {
              "color": "#C8D4E3"
             },
             "line": {
              "color": "white"
             }
            },
            "type": "table"
           }
          ]
         },
         "layout": {
          "annotationdefaults": {
           "arrowcolor": "#2a3f5f",
           "arrowhead": 0,
           "arrowwidth": 1
          },
          "autotypenumbers": "strict",
          "coloraxis": {
           "colorbar": {
            "outlinewidth": 0,
            "ticks": ""
           }
          },
          "colorscale": {
           "diverging": [
            [
             0,
             "#8e0152"
            ],
            [
             0.1,
             "#c51b7d"
            ],
            [
             0.2,
             "#de77ae"
            ],
            [
             0.3,
             "#f1b6da"
            ],
            [
             0.4,
             "#fde0ef"
            ],
            [
             0.5,
             "#f7f7f7"
            ],
            [
             0.6,
             "#e6f5d0"
            ],
            [
             0.7,
             "#b8e186"
            ],
            [
             0.8,
             "#7fbc41"
            ],
            [
             0.9,
             "#4d9221"
            ],
            [
             1,
             "#276419"
            ]
           ],
           "sequential": [
            [
             0,
             "#0d0887"
            ],
            [
             0.1111111111111111,
             "#46039f"
            ],
            [
             0.2222222222222222,
             "#7201a8"
            ],
            [
             0.3333333333333333,
             "#9c179e"
            ],
            [
             0.4444444444444444,
             "#bd3786"
            ],
            [
             0.5555555555555556,
             "#d8576b"
            ],
            [
             0.6666666666666666,
             "#ed7953"
            ],
            [
             0.7777777777777778,
             "#fb9f3a"
            ],
            [
             0.8888888888888888,
             "#fdca26"
            ],
            [
             1,
             "#f0f921"
            ]
           ],
           "sequentialminus": [
            [
             0,
             "#0d0887"
            ],
            [
             0.1111111111111111,
             "#46039f"
            ],
            [
             0.2222222222222222,
             "#7201a8"
            ],
            [
             0.3333333333333333,
             "#9c179e"
            ],
            [
             0.4444444444444444,
             "#bd3786"
            ],
            [
             0.5555555555555556,
             "#d8576b"
            ],
            [
             0.6666666666666666,
             "#ed7953"
            ],
            [
             0.7777777777777778,
             "#fb9f3a"
            ],
            [
             0.8888888888888888,
             "#fdca26"
            ],
            [
             1,
             "#f0f921"
            ]
           ]
          },
          "colorway": [
           "#636efa",
           "#EF553B",
           "#00cc96",
           "#ab63fa",
           "#FFA15A",
           "#19d3f3",
           "#FF6692",
           "#B6E880",
           "#FF97FF",
           "#FECB52"
          ],
          "font": {
           "color": "#2a3f5f"
          },
          "geo": {
           "bgcolor": "white",
           "lakecolor": "white",
           "landcolor": "#E5ECF6",
           "showlakes": true,
           "showland": true,
           "subunitcolor": "white"
          },
          "hoverlabel": {
           "align": "left"
          },
          "hovermode": "closest",
          "mapbox": {
           "style": "light"
          },
          "paper_bgcolor": "white",
          "plot_bgcolor": "#E5ECF6",
          "polar": {
           "angularaxis": {
            "gridcolor": "white",
            "linecolor": "white",
            "ticks": ""
           },
           "bgcolor": "#E5ECF6",
           "radialaxis": {
            "gridcolor": "white",
            "linecolor": "white",
            "ticks": ""
           }
          },
          "scene": {
           "xaxis": {
            "backgroundcolor": "#E5ECF6",
            "gridcolor": "white",
            "gridwidth": 2,
            "linecolor": "white",
            "showbackground": true,
            "ticks": "",
            "zerolinecolor": "white"
           },
           "yaxis": {
            "backgroundcolor": "#E5ECF6",
            "gridcolor": "white",
            "gridwidth": 2,
            "linecolor": "white",
            "showbackground": true,
            "ticks": "",
            "zerolinecolor": "white"
           },
           "zaxis": {
            "backgroundcolor": "#E5ECF6",
            "gridcolor": "white",
            "gridwidth": 2,
            "linecolor": "white",
            "showbackground": true,
            "ticks": "",
            "zerolinecolor": "white"
           }
          },
          "shapedefaults": {
           "line": {
            "color": "#2a3f5f"
           }
          },
          "ternary": {
           "aaxis": {
            "gridcolor": "white",
            "linecolor": "white",
            "ticks": ""
           },
           "baxis": {
            "gridcolor": "white",
            "linecolor": "white",
            "ticks": ""
           },
           "bgcolor": "#E5ECF6",
           "caxis": {
            "gridcolor": "white",
            "linecolor": "white",
            "ticks": ""
           }
          },
          "title": {
           "x": 0.05
          },
          "xaxis": {
           "automargin": true,
           "gridcolor": "white",
           "linecolor": "white",
           "ticks": "",
           "title": {
            "standoff": 15
           },
           "zerolinecolor": "white",
           "zerolinewidth": 2
          },
          "yaxis": {
           "automargin": true,
           "gridcolor": "white",
           "linecolor": "white",
           "ticks": "",
           "title": {
            "standoff": 15
           },
           "zerolinecolor": "white",
           "zerolinewidth": 2
          }
         }
        },
        "xaxis": {
         "anchor": "y",
         "domain": [
          0,
          1
         ],
         "title": {
          "text": "instructor_rating"
         }
        },
        "yaxis": {
         "anchor": "x",
         "domain": [
          0,
          1
         ],
         "title": {
          "text": "count"
         }
        }
       }
      }
     },
     "metadata": {},
     "output_type": "display_data"
    }
   ],
   "source": [
    "# creating a histogram of course reviews\n",
    "course_reviews = px.histogram(\n",
    "    df.groupby([\"mnemonic\", \"course_number\"]).agg({\"instructor_rating\": \"mean\"}),\n",
    "    x=\"instructor_rating\",\n",
    ")\n",
    "course_reviews"
   ]
  },
  {
   "cell_type": "markdown",
   "metadata": {},
   "source": [
    "### Making a regression"
   ]
  },
  {
   "cell_type": "code",
   "execution_count": 180,
   "metadata": {},
   "outputs": [
    {
     "name": "stdout",
     "output_type": "stream",
     "text": [
      "[[ 0.33260646 -0.20021693 -0.00488683 -0.03679583]] [3.30799274]\n"
     ]
    }
   ],
   "source": [
    "import sklearn\n",
    "from sklearn.linear_model import LinearRegression\n",
    "from sklearn.model_selection import train_test_split\n",
    "from sklearn.metrics import mean_squared_error\n",
    "\n",
    "# making a linear regression model\n",
    "model = LinearRegression()\n",
    "\n",
    "columns = ['difficulty', 'instructor_rating', 'hours_per_week']\n",
    "# getting the data\n",
    "new_columns = ['average', 'difficulty', 'hours_per_week', 'amount_group']\n",
    "df.dropna(subset=new_columns, inplace=True)\n",
    "X = df[new_columns].values.reshape(-1, len(new_columns))\n",
    "Y = df['instructor_rating'].values.reshape(-1, 1)\n",
    "\n",
    "# fitting the model\n",
    "X_train, X_test, Y_train, Y_test = train_test_split(X, Y, test_size=0.2)\n",
    "\n",
    "model.fit(X_train, Y_train)\n",
    "\n",
    "print(model.coef_, model.intercept_)"
   ]
  },
  {
   "cell_type": "code",
   "execution_count": 181,
   "metadata": {},
   "outputs": [
    {
     "name": "stdout",
     "output_type": "stream",
     "text": [
      "<zip object at 0x29d345e80>\n",
      "['GPA', 'Difficulty', 'Hours Worked Per Week', 'Group Work Per Week'] [0.33260646090508694, -0.20021693470776053, -0.004886832965436399, -0.036795834467769246]\n"
     ]
    },
    {
     "data": {
      "application/vnd.plotly.v1+json": {
       "config": {
        "plotlyServerURL": "https://plot.ly"
       },
       "data": [
        {
         "alignmentgroup": "True",
         "hovertemplate": "Feature=%{x}<br>Correlation Coefficient=%{y}<extra></extra>",
         "legendgroup": "",
         "marker": {
          "color": "#636efa",
          "pattern": {
           "shape": ""
          }
         },
         "name": "",
         "offsetgroup": "",
         "orientation": "v",
         "showlegend": false,
         "textposition": "auto",
         "type": "bar",
         "x": [
          "GPA",
          "Difficulty",
          "Hours Worked Per Week",
          "Group Work Per Week"
         ],
         "xaxis": "x",
         "y": [
          0.33260646090508694,
          -0.20021693470776053,
          -0.004886832965436399,
          -0.036795834467769246
         ],
         "yaxis": "y"
        }
       ],
       "layout": {
        "barmode": "relative",
        "legend": {
         "tracegroupgap": 0
        },
        "margin": {
         "t": 60
        },
        "template": {
         "data": {
          "bar": [
           {
            "error_x": {
             "color": "#2a3f5f"
            },
            "error_y": {
             "color": "#2a3f5f"
            },
            "marker": {
             "line": {
              "color": "#E5ECF6",
              "width": 0.5
             },
             "pattern": {
              "fillmode": "overlay",
              "size": 10,
              "solidity": 0.2
             }
            },
            "type": "bar"
           }
          ],
          "barpolar": [
           {
            "marker": {
             "line": {
              "color": "#E5ECF6",
              "width": 0.5
             },
             "pattern": {
              "fillmode": "overlay",
              "size": 10,
              "solidity": 0.2
             }
            },
            "type": "barpolar"
           }
          ],
          "carpet": [
           {
            "aaxis": {
             "endlinecolor": "#2a3f5f",
             "gridcolor": "white",
             "linecolor": "white",
             "minorgridcolor": "white",
             "startlinecolor": "#2a3f5f"
            },
            "baxis": {
             "endlinecolor": "#2a3f5f",
             "gridcolor": "white",
             "linecolor": "white",
             "minorgridcolor": "white",
             "startlinecolor": "#2a3f5f"
            },
            "type": "carpet"
           }
          ],
          "choropleth": [
           {
            "colorbar": {
             "outlinewidth": 0,
             "ticks": ""
            },
            "type": "choropleth"
           }
          ],
          "contour": [
           {
            "colorbar": {
             "outlinewidth": 0,
             "ticks": ""
            },
            "colorscale": [
             [
              0,
              "#0d0887"
             ],
             [
              0.1111111111111111,
              "#46039f"
             ],
             [
              0.2222222222222222,
              "#7201a8"
             ],
             [
              0.3333333333333333,
              "#9c179e"
             ],
             [
              0.4444444444444444,
              "#bd3786"
             ],
             [
              0.5555555555555556,
              "#d8576b"
             ],
             [
              0.6666666666666666,
              "#ed7953"
             ],
             [
              0.7777777777777778,
              "#fb9f3a"
             ],
             [
              0.8888888888888888,
              "#fdca26"
             ],
             [
              1,
              "#f0f921"
             ]
            ],
            "type": "contour"
           }
          ],
          "contourcarpet": [
           {
            "colorbar": {
             "outlinewidth": 0,
             "ticks": ""
            },
            "type": "contourcarpet"
           }
          ],
          "heatmap": [
           {
            "colorbar": {
             "outlinewidth": 0,
             "ticks": ""
            },
            "colorscale": [
             [
              0,
              "#0d0887"
             ],
             [
              0.1111111111111111,
              "#46039f"
             ],
             [
              0.2222222222222222,
              "#7201a8"
             ],
             [
              0.3333333333333333,
              "#9c179e"
             ],
             [
              0.4444444444444444,
              "#bd3786"
             ],
             [
              0.5555555555555556,
              "#d8576b"
             ],
             [
              0.6666666666666666,
              "#ed7953"
             ],
             [
              0.7777777777777778,
              "#fb9f3a"
             ],
             [
              0.8888888888888888,
              "#fdca26"
             ],
             [
              1,
              "#f0f921"
             ]
            ],
            "type": "heatmap"
           }
          ],
          "heatmapgl": [
           {
            "colorbar": {
             "outlinewidth": 0,
             "ticks": ""
            },
            "colorscale": [
             [
              0,
              "#0d0887"
             ],
             [
              0.1111111111111111,
              "#46039f"
             ],
             [
              0.2222222222222222,
              "#7201a8"
             ],
             [
              0.3333333333333333,
              "#9c179e"
             ],
             [
              0.4444444444444444,
              "#bd3786"
             ],
             [
              0.5555555555555556,
              "#d8576b"
             ],
             [
              0.6666666666666666,
              "#ed7953"
             ],
             [
              0.7777777777777778,
              "#fb9f3a"
             ],
             [
              0.8888888888888888,
              "#fdca26"
             ],
             [
              1,
              "#f0f921"
             ]
            ],
            "type": "heatmapgl"
           }
          ],
          "histogram": [
           {
            "marker": {
             "pattern": {
              "fillmode": "overlay",
              "size": 10,
              "solidity": 0.2
             }
            },
            "type": "histogram"
           }
          ],
          "histogram2d": [
           {
            "colorbar": {
             "outlinewidth": 0,
             "ticks": ""
            },
            "colorscale": [
             [
              0,
              "#0d0887"
             ],
             [
              0.1111111111111111,
              "#46039f"
             ],
             [
              0.2222222222222222,
              "#7201a8"
             ],
             [
              0.3333333333333333,
              "#9c179e"
             ],
             [
              0.4444444444444444,
              "#bd3786"
             ],
             [
              0.5555555555555556,
              "#d8576b"
             ],
             [
              0.6666666666666666,
              "#ed7953"
             ],
             [
              0.7777777777777778,
              "#fb9f3a"
             ],
             [
              0.8888888888888888,
              "#fdca26"
             ],
             [
              1,
              "#f0f921"
             ]
            ],
            "type": "histogram2d"
           }
          ],
          "histogram2dcontour": [
           {
            "colorbar": {
             "outlinewidth": 0,
             "ticks": ""
            },
            "colorscale": [
             [
              0,
              "#0d0887"
             ],
             [
              0.1111111111111111,
              "#46039f"
             ],
             [
              0.2222222222222222,
              "#7201a8"
             ],
             [
              0.3333333333333333,
              "#9c179e"
             ],
             [
              0.4444444444444444,
              "#bd3786"
             ],
             [
              0.5555555555555556,
              "#d8576b"
             ],
             [
              0.6666666666666666,
              "#ed7953"
             ],
             [
              0.7777777777777778,
              "#fb9f3a"
             ],
             [
              0.8888888888888888,
              "#fdca26"
             ],
             [
              1,
              "#f0f921"
             ]
            ],
            "type": "histogram2dcontour"
           }
          ],
          "mesh3d": [
           {
            "colorbar": {
             "outlinewidth": 0,
             "ticks": ""
            },
            "type": "mesh3d"
           }
          ],
          "parcoords": [
           {
            "line": {
             "colorbar": {
              "outlinewidth": 0,
              "ticks": ""
             }
            },
            "type": "parcoords"
           }
          ],
          "pie": [
           {
            "automargin": true,
            "type": "pie"
           }
          ],
          "scatter": [
           {
            "fillpattern": {
             "fillmode": "overlay",
             "size": 10,
             "solidity": 0.2
            },
            "type": "scatter"
           }
          ],
          "scatter3d": [
           {
            "line": {
             "colorbar": {
              "outlinewidth": 0,
              "ticks": ""
             }
            },
            "marker": {
             "colorbar": {
              "outlinewidth": 0,
              "ticks": ""
             }
            },
            "type": "scatter3d"
           }
          ],
          "scattercarpet": [
           {
            "marker": {
             "colorbar": {
              "outlinewidth": 0,
              "ticks": ""
             }
            },
            "type": "scattercarpet"
           }
          ],
          "scattergeo": [
           {
            "marker": {
             "colorbar": {
              "outlinewidth": 0,
              "ticks": ""
             }
            },
            "type": "scattergeo"
           }
          ],
          "scattergl": [
           {
            "marker": {
             "colorbar": {
              "outlinewidth": 0,
              "ticks": ""
             }
            },
            "type": "scattergl"
           }
          ],
          "scattermapbox": [
           {
            "marker": {
             "colorbar": {
              "outlinewidth": 0,
              "ticks": ""
             }
            },
            "type": "scattermapbox"
           }
          ],
          "scatterpolar": [
           {
            "marker": {
             "colorbar": {
              "outlinewidth": 0,
              "ticks": ""
             }
            },
            "type": "scatterpolar"
           }
          ],
          "scatterpolargl": [
           {
            "marker": {
             "colorbar": {
              "outlinewidth": 0,
              "ticks": ""
             }
            },
            "type": "scatterpolargl"
           }
          ],
          "scatterternary": [
           {
            "marker": {
             "colorbar": {
              "outlinewidth": 0,
              "ticks": ""
             }
            },
            "type": "scatterternary"
           }
          ],
          "surface": [
           {
            "colorbar": {
             "outlinewidth": 0,
             "ticks": ""
            },
            "colorscale": [
             [
              0,
              "#0d0887"
             ],
             [
              0.1111111111111111,
              "#46039f"
             ],
             [
              0.2222222222222222,
              "#7201a8"
             ],
             [
              0.3333333333333333,
              "#9c179e"
             ],
             [
              0.4444444444444444,
              "#bd3786"
             ],
             [
              0.5555555555555556,
              "#d8576b"
             ],
             [
              0.6666666666666666,
              "#ed7953"
             ],
             [
              0.7777777777777778,
              "#fb9f3a"
             ],
             [
              0.8888888888888888,
              "#fdca26"
             ],
             [
              1,
              "#f0f921"
             ]
            ],
            "type": "surface"
           }
          ],
          "table": [
           {
            "cells": {
             "fill": {
              "color": "#EBF0F8"
             },
             "line": {
              "color": "white"
             }
            },
            "header": {
             "fill": {
              "color": "#C8D4E3"
             },
             "line": {
              "color": "white"
             }
            },
            "type": "table"
           }
          ]
         },
         "layout": {
          "annotationdefaults": {
           "arrowcolor": "#2a3f5f",
           "arrowhead": 0,
           "arrowwidth": 1
          },
          "autotypenumbers": "strict",
          "coloraxis": {
           "colorbar": {
            "outlinewidth": 0,
            "ticks": ""
           }
          },
          "colorscale": {
           "diverging": [
            [
             0,
             "#8e0152"
            ],
            [
             0.1,
             "#c51b7d"
            ],
            [
             0.2,
             "#de77ae"
            ],
            [
             0.3,
             "#f1b6da"
            ],
            [
             0.4,
             "#fde0ef"
            ],
            [
             0.5,
             "#f7f7f7"
            ],
            [
             0.6,
             "#e6f5d0"
            ],
            [
             0.7,
             "#b8e186"
            ],
            [
             0.8,
             "#7fbc41"
            ],
            [
             0.9,
             "#4d9221"
            ],
            [
             1,
             "#276419"
            ]
           ],
           "sequential": [
            [
             0,
             "#0d0887"
            ],
            [
             0.1111111111111111,
             "#46039f"
            ],
            [
             0.2222222222222222,
             "#7201a8"
            ],
            [
             0.3333333333333333,
             "#9c179e"
            ],
            [
             0.4444444444444444,
             "#bd3786"
            ],
            [
             0.5555555555555556,
             "#d8576b"
            ],
            [
             0.6666666666666666,
             "#ed7953"
            ],
            [
             0.7777777777777778,
             "#fb9f3a"
            ],
            [
             0.8888888888888888,
             "#fdca26"
            ],
            [
             1,
             "#f0f921"
            ]
           ],
           "sequentialminus": [
            [
             0,
             "#0d0887"
            ],
            [
             0.1111111111111111,
             "#46039f"
            ],
            [
             0.2222222222222222,
             "#7201a8"
            ],
            [
             0.3333333333333333,
             "#9c179e"
            ],
            [
             0.4444444444444444,
             "#bd3786"
            ],
            [
             0.5555555555555556,
             "#d8576b"
            ],
            [
             0.6666666666666666,
             "#ed7953"
            ],
            [
             0.7777777777777778,
             "#fb9f3a"
            ],
            [
             0.8888888888888888,
             "#fdca26"
            ],
            [
             1,
             "#f0f921"
            ]
           ]
          },
          "colorway": [
           "#636efa",
           "#EF553B",
           "#00cc96",
           "#ab63fa",
           "#FFA15A",
           "#19d3f3",
           "#FF6692",
           "#B6E880",
           "#FF97FF",
           "#FECB52"
          ],
          "font": {
           "color": "#2a3f5f"
          },
          "geo": {
           "bgcolor": "white",
           "lakecolor": "white",
           "landcolor": "#E5ECF6",
           "showlakes": true,
           "showland": true,
           "subunitcolor": "white"
          },
          "hoverlabel": {
           "align": "left"
          },
          "hovermode": "closest",
          "mapbox": {
           "style": "light"
          },
          "paper_bgcolor": "white",
          "plot_bgcolor": "#E5ECF6",
          "polar": {
           "angularaxis": {
            "gridcolor": "white",
            "linecolor": "white",
            "ticks": ""
           },
           "bgcolor": "#E5ECF6",
           "radialaxis": {
            "gridcolor": "white",
            "linecolor": "white",
            "ticks": ""
           }
          },
          "scene": {
           "xaxis": {
            "backgroundcolor": "#E5ECF6",
            "gridcolor": "white",
            "gridwidth": 2,
            "linecolor": "white",
            "showbackground": true,
            "ticks": "",
            "zerolinecolor": "white"
           },
           "yaxis": {
            "backgroundcolor": "#E5ECF6",
            "gridcolor": "white",
            "gridwidth": 2,
            "linecolor": "white",
            "showbackground": true,
            "ticks": "",
            "zerolinecolor": "white"
           },
           "zaxis": {
            "backgroundcolor": "#E5ECF6",
            "gridcolor": "white",
            "gridwidth": 2,
            "linecolor": "white",
            "showbackground": true,
            "ticks": "",
            "zerolinecolor": "white"
           }
          },
          "shapedefaults": {
           "line": {
            "color": "#2a3f5f"
           }
          },
          "ternary": {
           "aaxis": {
            "gridcolor": "white",
            "linecolor": "white",
            "ticks": ""
           },
           "baxis": {
            "gridcolor": "white",
            "linecolor": "white",
            "ticks": ""
           },
           "bgcolor": "#E5ECF6",
           "caxis": {
            "gridcolor": "white",
            "linecolor": "white",
            "ticks": ""
           }
          },
          "title": {
           "x": 0.05
          },
          "xaxis": {
           "automargin": true,
           "gridcolor": "white",
           "linecolor": "white",
           "ticks": "",
           "title": {
            "standoff": 15
           },
           "zerolinecolor": "white",
           "zerolinewidth": 2
          },
          "yaxis": {
           "automargin": true,
           "gridcolor": "white",
           "linecolor": "white",
           "ticks": "",
           "title": {
            "standoff": 15
           },
           "zerolinecolor": "white",
           "zerolinewidth": 2
          }
         }
        },
        "xaxis": {
         "anchor": "y",
         "domain": [
          0,
          1
         ],
         "title": {
          "text": "Feature"
         }
        },
        "yaxis": {
         "anchor": "x",
         "domain": [
          0,
          1
         ],
         "title": {
          "text": "Correlation Coefficient"
         }
        }
       }
      }
     },
     "metadata": {},
     "output_type": "display_data"
    }
   ],
   "source": [
    "@callback(\n",
    "    Output('correlation_plot', 'figure'),\n",
    "    Input('features_to_plot', 'value')\n",
    ")\n",
    "def make_correlation_plot(columns): \n",
    "    \"\"\"\n",
    "    Makes a bar chart of the correlation between columns\n",
    "    \"\"\"\n",
    "    # uses the data from the model\n",
    "    data = zip(new_columns, model.coef_[0])\n",
    "    print(data)\n",
    "    # filter the data by which the column is in the columns\n",
    "    column_renamer = {\n",
    "        'average': 'GPA',\n",
    "        'difficulty': 'Difficulty',\n",
    "        'hours_per_week': 'Hours Worked Per Week',\n",
    "        'amount_group': 'Group Work Per Week'\n",
    "    }\n",
    "\n",
    "    x_labels = []\n",
    "    y_values = []\n",
    "    for col, r in data:\n",
    "        if col in columns:\n",
    "            x_labels.append(column_renamer.get(col, col))\n",
    "            y_values.append(r)\n",
    "    \n",
    "    print(x_labels, y_values)\n",
    "    \n",
    "    fig = px.bar(x=x_labels, y=y_values, labels= {'x': 'Feature', 'y': 'Correlation Coefficient', **column_renamer})\n",
    "    return fig\n",
    "\n",
    "make_correlation_plot(new_columns)"
   ]
  },
  {
   "cell_type": "markdown",
   "metadata": {},
   "source": [
    "# Final Dashboard Created"
   ]
  },
  {
   "cell_type": "code",
   "execution_count": 182,
   "metadata": {},
   "outputs": [],
   "source": [
    "# defining callbacks\n",
    "@callback(\n",
    "    Output(component_id=\"course_axis\", component_property=\"figure\"),\n",
    "    (Input(component_id=\"course_dropdown\", component_property=\"value\"))\n",
    ")\n",
    "def update_course_axis(course: str):\n",
    "    \"\"\"\n",
    "    Updates the course axis\n",
    "    \"\"\"\n",
    "    if course is str: # if the course is a string\n",
    "        course = [course]\n",
    "    \n",
    "    summary = pd.concat([get_course_summary_ratings(*course_components(course)) for course in course])\n",
    "    \n",
    "    # rows = pd.concat([cs_3100, cs_2130, cs_3130, ds_4003])\n",
    "\n",
    "    # course_data = get_course_summary_ratings(*course_components(course))\n",
    "    return course_axis(summary, course=course)\n",
    "\n",
    "@callback(\n",
    "    Output(component_id=\"course_hours\", component_property=\"figure\"),\n",
    "    (Input(component_id=\"course_dropdown\", component_property=\"value\"))\n",
    ")\n",
    "def update_course_hours(course: str):\n",
    "    \"\"\"\n",
    "    Updates the course hours\n",
    "    \"\"\"\n",
    "    if course is str:\n",
    "        course = [course]\n",
    "    \n",
    "    summary = pd.concat([get_course_summary_ratings(*course_components(course)) for course in course])\n",
    "    return course_axis(summary, course=course, include=\"duration\")\n",
    "\n",
    "\n",
    "### Training a linear model to predict the instructor rating based on (GPA, Course Level, Difficulty, Hours Worked Per Week, Group Work Per Week)\n"
   ]
  },
  {
   "cell_type": "code",
   "execution_count": null,
   "metadata": {},
   "outputs": [
    {
     "name": "stdout",
     "output_type": "stream",
     "text": [
      "Dash app running on http://127.0.0.1:8050/\n"
     ]
    },
    {
     "name": "stderr",
     "output_type": "stream",
     "text": [
      "/var/folders/m0/sl2yvpv551gcfbk3gdntf74r0000gn/T/ipykernel_19137/3246814276.py:20: SettingWithCopyWarning:\n",
      "\n",
      "\n",
      "A value is trying to be set on a copy of a slice from a DataFrame.\n",
      "Try using .loc[row_indexer,col_indexer] = value instead\n",
      "\n",
      "See the caveats in the documentation: https://pandas.pydata.org/pandas-docs/stable/user_guide/indexing.html#returning-a-view-versus-a-copy\n",
      "\n",
      "/var/folders/m0/sl2yvpv551gcfbk3gdntf74r0000gn/T/ipykernel_19137/3246814276.py:20: SettingWithCopyWarning:\n",
      "\n",
      "\n",
      "A value is trying to be set on a copy of a slice from a DataFrame.\n",
      "Try using .loc[row_indexer,col_indexer] = value instead\n",
      "\n",
      "See the caveats in the documentation: https://pandas.pydata.org/pandas-docs/stable/user_guide/indexing.html#returning-a-view-versus-a-copy\n",
      "\n"
     ]
    },
    {
     "data": {
      "application/javascript": "window.open('http://127.0.0.1:8050/')",
      "text/plain": [
       "<IPython.core.display.Javascript object>"
      ]
     },
     "metadata": {},
     "output_type": "display_data"
    },
    {
     "name": "stderr",
     "output_type": "stream",
     "text": [
      "[2024-04-04 10:53:29,591] ERROR in app: Exception on /_dash-update-component [POST]\n",
      "Traceback (most recent call last):\n",
      "  File \"/Users/wkaiser/miniforge3/envs/tf/lib/python3.8/site-packages/flask/app.py\", line 1463, in wsgi_app\n",
      "    response = self.full_dispatch_request()\n",
      "  File \"/Users/wkaiser/miniforge3/envs/tf/lib/python3.8/site-packages/flask/app.py\", line 872, in full_dispatch_request\n",
      "    rv = self.handle_user_exception(e)\n",
      "  File \"/Users/wkaiser/miniforge3/envs/tf/lib/python3.8/site-packages/flask/app.py\", line 870, in full_dispatch_request\n",
      "    rv = self.dispatch_request()\n",
      "  File \"/Users/wkaiser/miniforge3/envs/tf/lib/python3.8/site-packages/flask/app.py\", line 855, in dispatch_request\n",
      "    return self.ensure_sync(self.view_functions[rule.endpoint])(**view_args)  # type: ignore[no-any-return]\n",
      "  File \"/Users/wkaiser/miniforge3/envs/tf/lib/python3.8/site-packages/dash/dash.py\", line 1310, in dispatch\n",
      "    ctx.run(\n",
      "  File \"/Users/wkaiser/miniforge3/envs/tf/lib/python3.8/site-packages/dash/_callback.py\", line 442, in add_context\n",
      "    output_value = func(*func_args, **func_kwargs)  # %% callback invoked %%\n",
      "  File \"/var/folders/m0/sl2yvpv551gcfbk3gdntf74r0000gn/T/ipykernel_19137/533799567.py\", line 13, in update_course_axis\n",
      "    summary = pd.concat([get_course_summary_ratings(*course_components(course)) for course in course])\n",
      "  File \"/var/folders/m0/sl2yvpv551gcfbk3gdntf74r0000gn/T/ipykernel_19137/533799567.py\", line 13, in <listcomp>\n",
      "    summary = pd.concat([get_course_summary_ratings(*course_components(course)) for course in course])\n",
      "  File \"/var/folders/m0/sl2yvpv551gcfbk3gdntf74r0000gn/T/ipykernel_19137/2952722611.py\", line 26, in course_components\n",
      "    pneumoic, number = course_pneumonic_and_number\n",
      "ValueError: not enough values to unpack (expected 2, got 1)\n",
      "[2024-04-04 10:53:29,592] ERROR in app: Exception on /_dash-update-component [POST]\n",
      "Traceback (most recent call last):\n",
      "  File \"/Users/wkaiser/miniforge3/envs/tf/lib/python3.8/site-packages/flask/app.py\", line 1463, in wsgi_app\n",
      "    response = self.full_dispatch_request()\n",
      "  File \"/Users/wkaiser/miniforge3/envs/tf/lib/python3.8/site-packages/flask/app.py\", line 872, in full_dispatch_request\n",
      "    rv = self.handle_user_exception(e)\n",
      "  File \"/Users/wkaiser/miniforge3/envs/tf/lib/python3.8/site-packages/flask/app.py\", line 870, in full_dispatch_request\n",
      "    rv = self.dispatch_request()\n",
      "  File \"/Users/wkaiser/miniforge3/envs/tf/lib/python3.8/site-packages/flask/app.py\", line 855, in dispatch_request\n",
      "    return self.ensure_sync(self.view_functions[rule.endpoint])(**view_args)  # type: ignore[no-any-return]\n",
      "  File \"/Users/wkaiser/miniforge3/envs/tf/lib/python3.8/site-packages/dash/dash.py\", line 1310, in dispatch\n",
      "    ctx.run(\n",
      "  File \"/Users/wkaiser/miniforge3/envs/tf/lib/python3.8/site-packages/dash/_callback.py\", line 442, in add_context\n",
      "    output_value = func(*func_args, **func_kwargs)  # %% callback invoked %%\n",
      "  File \"/var/folders/m0/sl2yvpv551gcfbk3gdntf74r0000gn/T/ipykernel_19137/533799567.py\", line 31, in update_course_hours\n",
      "    summary = pd.concat([get_course_summary_ratings(*course_components(course)) for course in course])\n",
      "  File \"/var/folders/m0/sl2yvpv551gcfbk3gdntf74r0000gn/T/ipykernel_19137/533799567.py\", line 31, in <listcomp>\n",
      "    summary = pd.concat([get_course_summary_ratings(*course_components(course)) for course in course])\n",
      "  File \"/var/folders/m0/sl2yvpv551gcfbk3gdntf74r0000gn/T/ipykernel_19137/2952722611.py\", line 26, in course_components\n",
      "    pneumoic, number = course_pneumonic_and_number\n",
      "ValueError: not enough values to unpack (expected 2, got 1)\n",
      "[2024-04-04 10:53:29,594] ERROR in app: Exception on /_dash-update-component [POST]\n",
      "Traceback (most recent call last):\n",
      "  File \"/Users/wkaiser/miniforge3/envs/tf/lib/python3.8/site-packages/flask/app.py\", line 1463, in wsgi_app\n",
      "    response = self.full_dispatch_request()\n",
      "  File \"/Users/wkaiser/miniforge3/envs/tf/lib/python3.8/site-packages/flask/app.py\", line 872, in full_dispatch_request\n",
      "    rv = self.handle_user_exception(e)\n",
      "  File \"/Users/wkaiser/miniforge3/envs/tf/lib/python3.8/site-packages/flask/app.py\", line 870, in full_dispatch_request\n",
      "    rv = self.dispatch_request()\n",
      "  File \"/Users/wkaiser/miniforge3/envs/tf/lib/python3.8/site-packages/flask/app.py\", line 855, in dispatch_request\n",
      "    return self.ensure_sync(self.view_functions[rule.endpoint])(**view_args)  # type: ignore[no-any-return]\n",
      "  File \"/Users/wkaiser/miniforge3/envs/tf/lib/python3.8/site-packages/dash/dash.py\", line 1310, in dispatch\n",
      "    ctx.run(\n",
      "  File \"/Users/wkaiser/miniforge3/envs/tf/lib/python3.8/site-packages/dash/_callback.py\", line 442, in add_context\n",
      "    output_value = func(*func_args, **func_kwargs)  # %% callback invoked %%\n",
      "  File \"/var/folders/m0/sl2yvpv551gcfbk3gdntf74r0000gn/T/ipykernel_19137/331937371.py\", line 29, in make_correlation_plot\n",
      "    fig = px.bar(x=x_labels, y=y_values, labels= {'x': 'Feature', 'y': 'Correlation Coefficient', **column_renamer})\n",
      "  File \"/Users/wkaiser/miniforge3/envs/tf/lib/python3.8/site-packages/plotly/express/_chart_types.py\", line 373, in bar\n",
      "    return make_figure(\n",
      "  File \"/Users/wkaiser/miniforge3/envs/tf/lib/python3.8/site-packages/plotly/express/_core.py\", line 2076, in make_figure\n",
      "    args = build_dataframe(args, constructor)\n",
      "  File \"/Users/wkaiser/miniforge3/envs/tf/lib/python3.8/site-packages/plotly/express/_core.py\", line 1365, in build_dataframe\n",
      "    raise ValueError(\n",
      "ValueError: Cannot accept list of column references or list of columns for both `x` and `y`.\n"
     ]
    },
    {
     "name": "stdout",
     "output_type": "stream",
     "text": [
      "<zip object at 0x29d671a80>\n",
      "[] []\n",
      "<zip object at 0x29d668300>\n",
      "['GPA'] [0.33260646090508694]\n",
      "<zip object at 0x29d6686c0>\n",
      "['GPA', 'Difficulty'] [0.33260646090508694, -0.20021693470776053]\n",
      "<zip object at 0x29d666300>\n",
      "['GPA', 'Difficulty', 'Hours Worked Per Week'] [0.33260646090508694, -0.20021693470776053, -0.004886832965436399]\n",
      "<zip object at 0x29d666180>\n",
      "['GPA', 'Difficulty', 'Hours Worked Per Week', 'Group Work Per Week'] [0.33260646090508694, -0.20021693470776053, -0.004886832965436399, -0.036795834467769246]\n"
     ]
    },
    {
     "name": "stderr",
     "output_type": "stream",
     "text": [
      "[2024-04-04 10:53:37,921] ERROR in app: Exception on /_dash-update-component [POST]\n",
      "Traceback (most recent call last):\n",
      "  File \"/Users/wkaiser/miniforge3/envs/tf/lib/python3.8/site-packages/flask/app.py\", line 1463, in wsgi_app\n",
      "    response = self.full_dispatch_request()\n",
      "  File \"/Users/wkaiser/miniforge3/envs/tf/lib/python3.8/site-packages/flask/app.py\", line 872, in full_dispatch_request\n",
      "    rv = self.handle_user_exception(e)\n",
      "  File \"/Users/wkaiser/miniforge3/envs/tf/lib/python3.8/site-packages/flask/app.py\", line 870, in full_dispatch_request\n",
      "    rv = self.dispatch_request()\n",
      "  File \"/Users/wkaiser/miniforge3/envs/tf/lib/python3.8/site-packages/flask/app.py\", line 855, in dispatch_request\n",
      "    return self.ensure_sync(self.view_functions[rule.endpoint])(**view_args)  # type: ignore[no-any-return]\n",
      "  File \"/Users/wkaiser/miniforge3/envs/tf/lib/python3.8/site-packages/dash/dash.py\", line 1310, in dispatch\n",
      "    ctx.run(\n",
      "  File \"/Users/wkaiser/miniforge3/envs/tf/lib/python3.8/site-packages/dash/_callback.py\", line 442, in add_context\n",
      "    output_value = func(*func_args, **func_kwargs)  # %% callback invoked %%\n",
      "  File \"/var/folders/m0/sl2yvpv551gcfbk3gdntf74r0000gn/T/ipykernel_19137/533799567.py\", line 13, in update_course_axis\n",
      "    summary = pd.concat([get_course_summary_ratings(*course_components(course)) for course in course])\n",
      "  File \"/var/folders/m0/sl2yvpv551gcfbk3gdntf74r0000gn/T/ipykernel_19137/533799567.py\", line 13, in <listcomp>\n",
      "    summary = pd.concat([get_course_summary_ratings(*course_components(course)) for course in course])\n",
      "  File \"/var/folders/m0/sl2yvpv551gcfbk3gdntf74r0000gn/T/ipykernel_19137/2952722611.py\", line 26, in course_components\n",
      "    pneumoic, number = course_pneumonic_and_number\n",
      "ValueError: not enough values to unpack (expected 2, got 1)\n",
      "[2024-04-04 10:53:37,923] ERROR in app: Exception on /_dash-update-component [POST]\n",
      "Traceback (most recent call last):\n",
      "  File \"/Users/wkaiser/miniforge3/envs/tf/lib/python3.8/site-packages/flask/app.py\", line 1463, in wsgi_app\n",
      "    response = self.full_dispatch_request()\n",
      "  File \"/Users/wkaiser/miniforge3/envs/tf/lib/python3.8/site-packages/flask/app.py\", line 872, in full_dispatch_request\n",
      "    rv = self.handle_user_exception(e)\n",
      "  File \"/Users/wkaiser/miniforge3/envs/tf/lib/python3.8/site-packages/flask/app.py\", line 870, in full_dispatch_request\n",
      "    rv = self.dispatch_request()\n",
      "  File \"/Users/wkaiser/miniforge3/envs/tf/lib/python3.8/site-packages/flask/app.py\", line 855, in dispatch_request\n",
      "    return self.ensure_sync(self.view_functions[rule.endpoint])(**view_args)  # type: ignore[no-any-return]\n",
      "  File \"/Users/wkaiser/miniforge3/envs/tf/lib/python3.8/site-packages/dash/dash.py\", line 1310, in dispatch\n",
      "    ctx.run(\n",
      "  File \"/Users/wkaiser/miniforge3/envs/tf/lib/python3.8/site-packages/dash/_callback.py\", line 442, in add_context\n",
      "    output_value = func(*func_args, **func_kwargs)  # %% callback invoked %%\n",
      "  File \"/var/folders/m0/sl2yvpv551gcfbk3gdntf74r0000gn/T/ipykernel_19137/533799567.py\", line 31, in update_course_hours\n",
      "    summary = pd.concat([get_course_summary_ratings(*course_components(course)) for course in course])\n",
      "  File \"/var/folders/m0/sl2yvpv551gcfbk3gdntf74r0000gn/T/ipykernel_19137/533799567.py\", line 31, in <listcomp>\n",
      "    summary = pd.concat([get_course_summary_ratings(*course_components(course)) for course in course])\n",
      "  File \"/var/folders/m0/sl2yvpv551gcfbk3gdntf74r0000gn/T/ipykernel_19137/2952722611.py\", line 26, in course_components\n",
      "    pneumoic, number = course_pneumonic_and_number\n",
      "ValueError: not enough values to unpack (expected 2, got 1)\n",
      "[2024-04-04 10:53:37,936] ERROR in app: Exception on /_dash-update-component [POST]\n",
      "Traceback (most recent call last):\n",
      "  File \"/Users/wkaiser/miniforge3/envs/tf/lib/python3.8/site-packages/flask/app.py\", line 1463, in wsgi_app\n",
      "    response = self.full_dispatch_request()\n",
      "  File \"/Users/wkaiser/miniforge3/envs/tf/lib/python3.8/site-packages/flask/app.py\", line 872, in full_dispatch_request\n",
      "    rv = self.handle_user_exception(e)\n",
      "  File \"/Users/wkaiser/miniforge3/envs/tf/lib/python3.8/site-packages/flask/app.py\", line 870, in full_dispatch_request\n",
      "    rv = self.dispatch_request()\n",
      "  File \"/Users/wkaiser/miniforge3/envs/tf/lib/python3.8/site-packages/flask/app.py\", line 855, in dispatch_request\n",
      "    return self.ensure_sync(self.view_functions[rule.endpoint])(**view_args)  # type: ignore[no-any-return]\n",
      "  File \"/Users/wkaiser/miniforge3/envs/tf/lib/python3.8/site-packages/dash/dash.py\", line 1310, in dispatch\n",
      "    ctx.run(\n",
      "  File \"/Users/wkaiser/miniforge3/envs/tf/lib/python3.8/site-packages/dash/_callback.py\", line 442, in add_context\n",
      "    output_value = func(*func_args, **func_kwargs)  # %% callback invoked %%\n",
      "  File \"/var/folders/m0/sl2yvpv551gcfbk3gdntf74r0000gn/T/ipykernel_19137/331937371.py\", line 29, in make_correlation_plot\n",
      "    fig = px.bar(x=x_labels, y=y_values, labels= {'x': 'Feature', 'y': 'Correlation Coefficient', **column_renamer})\n",
      "  File \"/Users/wkaiser/miniforge3/envs/tf/lib/python3.8/site-packages/plotly/express/_chart_types.py\", line 373, in bar\n",
      "    return make_figure(\n",
      "  File \"/Users/wkaiser/miniforge3/envs/tf/lib/python3.8/site-packages/plotly/express/_core.py\", line 2076, in make_figure\n",
      "    args = build_dataframe(args, constructor)\n",
      "  File \"/Users/wkaiser/miniforge3/envs/tf/lib/python3.8/site-packages/plotly/express/_core.py\", line 1365, in build_dataframe\n",
      "    raise ValueError(\n",
      "ValueError: Cannot accept list of column references or list of columns for both `x` and `y`.\n"
     ]
    },
    {
     "name": "stdout",
     "output_type": "stream",
     "text": [
      "<zip object at 0x29d64e800>\n",
      "[] []\n"
     ]
    }
   ],
   "source": [
    "# Making an app to display everything\n",
    "external_stylesheets = ['https://codepen.io/chriddyp/pen/bWLwgP.css']\n",
    "\n",
    "app = Dash(__name__, external_stylesheets=external_stylesheets)\n",
    "\n",
    "### HEADER ###\n",
    "header = html.Div([\n",
    "    html.H1(\"Course Review Explorer\"),\n",
    "])\n",
    "\n",
    "### BREAKING DOWN RATINGS ###\n",
    "course_filter_header = html.Div([\n",
    "    html.H1(\"Breaking down ratings\"),\n",
    "    html.P(\"Examine course reviews for a particular class\"),\n",
    "])\n",
    "\n",
    "course_filter_row = html.Div([\n",
    "     dcc.Graph(figure=course_axis(rows, course=\"CS 3100\"), id=\"course_axis\", className=\"one-half column\"),\n",
    "     dcc.Graph(figure=course_axis(rows, course=\"CS 2130\"), id=\"course_hours\", className=\"one-half column\"),\n",
    "     dcc.Graph(figure=table, id=\"course_table\", className=\"one-half column\"),\n",
    "], className=\"row\")\n",
    "\n",
    "course_filter_section = html.Div([\n",
    "    course_filter_header,\n",
    "    course_mneumoic_dropdown,\n",
    "    course_filter_row,\n",
    "])\n",
    "\n",
    "### CORRELATING INSTRUCTOR REVIEWS ###\n",
    "controlling_factors = html.Div([\n",
    "    html.H1(\"Correlating Instructor Reviews\"),\n",
    "    html.Div(\"Control for the following factors\"),\n",
    "    checklist,\n",
    "], className=\"one-third column\")\n",
    "\n",
    "distribution_of_reviews = html.Div([\n",
    "    html.H1(\"Distribution of Residuals\"),\n",
    "    html.P(\"What's left over?\"),\n",
    "    # dcc.Graph(figure=course_reviews, id=\"course_reviews\"),\n",
    "], className=\"one-third column\")\n",
    "\n",
    "predictive_power_of_features = html.Div([\n",
    "    html.H1(\"Predictive Power of Features\"),\n",
    "    html.P(\"How well do these features predict the instructor rating?\"),\n",
    "    dcc.Graph(id=\"correlation_plot\"),\n",
    "], className=\"one-third column\")\n",
    "\n",
    "correlating_instructor_reviews = html.Div([\n",
    "    controlling_factors,\n",
    "    distribution_of_reviews,\n",
    "    predictive_power_of_features\n",
    "], className=\"row\")\n",
    "\n",
    "### FINAL LAYOUT ###\n",
    "app.layout = html.Div([\n",
    "   header,\n",
    "   course_filter_section,\n",
    "   correlating_instructor_reviews,\n",
    "], className=\"container\")\n",
    "\n",
    "server = app.server\n",
    "\n",
    "if __name__ == '__main__':\n",
    "    app.run_server(jupyter_mode='tab')\n"
   ]
  }
 ],
 "metadata": {
  "kernelspec": {
   "display_name": "tf",
   "language": "python",
   "name": "python3"
  },
  "language_info": {
   "codemirror_mode": {
    "name": "ipython",
    "version": 3
   },
   "file_extension": ".py",
   "mimetype": "text/x-python",
   "name": "python",
   "nbconvert_exporter": "python",
   "pygments_lexer": "ipython3",
   "version": "3.8.13"
  }
 },
 "nbformat": 4,
 "nbformat_minor": 2
}
