{
 "cells": [
  {
   "cell_type": "markdown",
   "metadata": {},
   "source": [
    "# Breaking Down UVA Course Reviews\n",
    "\n",
    "By: William Kaiser\n",
    "\n",
    "## Layout\n",
    "\n",
    "The layout for this site was designed in [Figma](https://www.figma.com/file/PCZFfmRXn0e6720BjxNAtg/Misc-Images?type=design&node-id=539-5&mode=design&t=4der6LRc6aprI2Sf-0) and designed to be responsive and intent-based.\n",
    "\n",
    "![Layout](./imgs/layout.png)\n",
    "\n",
    "However, after discussion with fellow class members and looking at [Python Graph Gallery](https://python-graph-gallery.com/) I decided to use a [Spider / Radar](https://python-graph-gallery.com/radar-chart/) plot as well as the more traditional bar charts."
   ]
  },
  {
   "cell_type": "markdown",
   "metadata": {},
   "source": [
    "# Data Loading\n",
    "\n",
    "The data for this analysis comes from [theCourseForum](https://thecourseforum.com/) and a direct database connection was used. \n",
    "\n",
    "For more information about data provenance, collection, formatting, and cleaning, please see [Sprint 2: Data](./sprints/sprint2-data.ipynb)."
   ]
  },
  {
   "cell_type": "code",
   "execution_count": 105,
   "metadata": {},
   "outputs": [],
   "source": [
    "# Generic imports\n",
    "import pandas as pd\n",
    "# import numpy as np\n",
    "# import matplotlib.pyplot as plt\n",
    "# import seaborn as sns\n",
    "from sklearn.linear_model import LinearRegression\n",
    "from sklearn.model_selection import train_test_split\n",
    "from tqdm import tqdm\n",
    "from openai import OpenAI\n",
    "import plotly.graph_objects as go\n",
    "import plotly.express as px\n",
    "from plotly.subplots import make_subplots\n",
    "from dash import dash_table, dcc, Dash, html, callback, Input, Output, State\n",
    "from typing import List, Dict, TypedDict\n",
    "import os\n",
    "\n",
    "tqdm.pandas()"
   ]
  },
  {
   "cell_type": "code",
   "execution_count": 106,
   "metadata": {},
   "outputs": [
    {
     "name": "stderr",
     "output_type": "stream",
     "text": [
      "/var/folders/m0/sl2yvpv551gcfbk3gdntf74r0000gn/T/ipykernel_86237/2655894733.py:2: DtypeWarning:\n",
      "\n",
      "Columns (14,15,26,29) have mixed types. Specify dtype option on import or set low_memory=False.\n",
      "\n"
     ]
    },
    {
     "data": {
      "text/html": [
       "<div>\n",
       "<style scoped>\n",
       "    .dataframe tbody tr th:only-of-type {\n",
       "        vertical-align: middle;\n",
       "    }\n",
       "\n",
       "    .dataframe tbody tr th {\n",
       "        vertical-align: top;\n",
       "    }\n",
       "\n",
       "    .dataframe thead th {\n",
       "        text-align: right;\n",
       "    }\n",
       "</style>\n",
       "<table border=\"1\" class=\"dataframe\">\n",
       "  <thead>\n",
       "    <tr style=\"text-align: right;\">\n",
       "      <th></th>\n",
       "      <th>course_id</th>\n",
       "      <th>title</th>\n",
       "      <th>description</th>\n",
       "      <th>course_number</th>\n",
       "      <th>average</th>\n",
       "      <th>a_plus</th>\n",
       "      <th>a</th>\n",
       "      <th>a_minus</th>\n",
       "      <th>b_plus</th>\n",
       "      <th>b</th>\n",
       "      <th>...</th>\n",
       "      <th>amount_group</th>\n",
       "      <th>amount_homework</th>\n",
       "      <th>review_created</th>\n",
       "      <th>year</th>\n",
       "      <th>season</th>\n",
       "      <th>instructor_email</th>\n",
       "      <th>instructor_name</th>\n",
       "      <th>year_last_taught</th>\n",
       "      <th>season_last_taught</th>\n",
       "      <th>course_level</th>\n",
       "    </tr>\n",
       "  </thead>\n",
       "  <tbody>\n",
       "    <tr>\n",
       "      <th>0</th>\n",
       "      <td>12.0</td>\n",
       "      <td>Introductory Accounting I</td>\n",
       "      <td>Designed to introduce students to the language...</td>\n",
       "      <td>2010.0</td>\n",
       "      <td>3.200437</td>\n",
       "      <td>59.0</td>\n",
       "      <td>131.0</td>\n",
       "      <td>51.0</td>\n",
       "      <td>42.0</td>\n",
       "      <td>62.0</td>\n",
       "      <td>...</td>\n",
       "      <td>4</td>\n",
       "      <td>2.0</td>\n",
       "      <td>2020-11-10 22:11:29+00:00</td>\n",
       "      <td>2020</td>\n",
       "      <td>FALL</td>\n",
       "      <td>gdb5x@virginia.edu</td>\n",
       "      <td>Gary Brooks</td>\n",
       "      <td>2023.0</td>\n",
       "      <td>SPRING</td>\n",
       "      <td>2.0</td>\n",
       "    </tr>\n",
       "    <tr>\n",
       "      <th>1</th>\n",
       "      <td>1505.0</td>\n",
       "      <td>History and Civilization of Classical India</td>\n",
       "      <td>Studies the major elements of South Asian civi...</td>\n",
       "      <td>2001.0</td>\n",
       "      <td>3.395795</td>\n",
       "      <td>5.0</td>\n",
       "      <td>85.0</td>\n",
       "      <td>132.0</td>\n",
       "      <td>117.0</td>\n",
       "      <td>66.0</td>\n",
       "      <td>...</td>\n",
       "      <td>0</td>\n",
       "      <td>0.0</td>\n",
       "      <td>2020-12-19 04:08:23.637939+00:00</td>\n",
       "      <td>2020</td>\n",
       "      <td>FALL</td>\n",
       "      <td>sal9c@virginia.edu</td>\n",
       "      <td>Spencer Leonard</td>\n",
       "      <td>2021.0</td>\n",
       "      <td>FALL</td>\n",
       "      <td>2.0</td>\n",
       "    </tr>\n",
       "    <tr>\n",
       "      <th>2</th>\n",
       "      <td>1504.0</td>\n",
       "      <td>Introductory Seminar in South Asia</td>\n",
       "      <td>Introduction to the study of history intended ...</td>\n",
       "      <td>1501.0</td>\n",
       "      <td>3.601403</td>\n",
       "      <td>9.0</td>\n",
       "      <td>118.0</td>\n",
       "      <td>131.0</td>\n",
       "      <td>74.0</td>\n",
       "      <td>27.0</td>\n",
       "      <td>...</td>\n",
       "      <td>0</td>\n",
       "      <td>0.0</td>\n",
       "      <td>2016-11-02 16:38:11+00:00</td>\n",
       "      <td>2016</td>\n",
       "      <td>FALL</td>\n",
       "      <td>sal9c@virginia.edu</td>\n",
       "      <td>Spencer Leonard</td>\n",
       "      <td>2022.0</td>\n",
       "      <td>SPRING</td>\n",
       "      <td>1.0</td>\n",
       "    </tr>\n",
       "    <tr>\n",
       "      <th>3</th>\n",
       "      <td>1505.0</td>\n",
       "      <td>History and Civilization of Classical India</td>\n",
       "      <td>Studies the major elements of South Asian civi...</td>\n",
       "      <td>2001.0</td>\n",
       "      <td>3.395795</td>\n",
       "      <td>5.0</td>\n",
       "      <td>85.0</td>\n",
       "      <td>132.0</td>\n",
       "      <td>117.0</td>\n",
       "      <td>66.0</td>\n",
       "      <td>...</td>\n",
       "      <td>0</td>\n",
       "      <td>0.0</td>\n",
       "      <td>2021-12-20 18:54:54.439844+00:00</td>\n",
       "      <td>2021</td>\n",
       "      <td>FALL</td>\n",
       "      <td>sal9c@virginia.edu</td>\n",
       "      <td>Spencer Leonard</td>\n",
       "      <td>2021.0</td>\n",
       "      <td>FALL</td>\n",
       "      <td>2.0</td>\n",
       "    </tr>\n",
       "    <tr>\n",
       "      <th>4</th>\n",
       "      <td>15083.0</td>\n",
       "      <td>India From Akbar to Victoria</td>\n",
       "      <td>Studies the society and politics in the Mughal...</td>\n",
       "      <td>3002.0</td>\n",
       "      <td>2.984615</td>\n",
       "      <td>0.0</td>\n",
       "      <td>2.0</td>\n",
       "      <td>6.0</td>\n",
       "      <td>1.0</td>\n",
       "      <td>1.0</td>\n",
       "      <td>...</td>\n",
       "      <td>0</td>\n",
       "      <td>0.0</td>\n",
       "      <td>2022-11-03 03:15:03.409391+00:00</td>\n",
       "      <td>2021</td>\n",
       "      <td>FALL</td>\n",
       "      <td>sal9c@virginia.edu</td>\n",
       "      <td>Spencer Leonard</td>\n",
       "      <td>2021.0</td>\n",
       "      <td>FALL</td>\n",
       "      <td>3.0</td>\n",
       "    </tr>\n",
       "    <tr>\n",
       "      <th>...</th>\n",
       "      <td>...</td>\n",
       "      <td>...</td>\n",
       "      <td>...</td>\n",
       "      <td>...</td>\n",
       "      <td>...</td>\n",
       "      <td>...</td>\n",
       "      <td>...</td>\n",
       "      <td>...</td>\n",
       "      <td>...</td>\n",
       "      <td>...</td>\n",
       "      <td>...</td>\n",
       "      <td>...</td>\n",
       "      <td>...</td>\n",
       "      <td>...</td>\n",
       "      <td>...</td>\n",
       "      <td>...</td>\n",
       "      <td>...</td>\n",
       "      <td>...</td>\n",
       "      <td>...</td>\n",
       "      <td>...</td>\n",
       "      <td>...</td>\n",
       "    </tr>\n",
       "    <tr>\n",
       "      <th>41507</th>\n",
       "      <td>754.0</td>\n",
       "      <td>Money and Banking</td>\n",
       "      <td>Studies the role of money in the economic syst...</td>\n",
       "      <td>3030.0</td>\n",
       "      <td>3.144924</td>\n",
       "      <td>136.0</td>\n",
       "      <td>754.0</td>\n",
       "      <td>742.0</td>\n",
       "      <td>435.0</td>\n",
       "      <td>596.0</td>\n",
       "      <td>...</td>\n",
       "      <td>0</td>\n",
       "      <td>0.0</td>\n",
       "      <td>2011-06-27 00:00:00+00:00</td>\n",
       "      <td>2009</td>\n",
       "      <td>SPRING</td>\n",
       "      <td>hjm5p@virginia.edu</td>\n",
       "      <td>Hernan Moscoso Boedo</td>\n",
       "      <td>2024.0</td>\n",
       "      <td>SPRING</td>\n",
       "      <td>3.0</td>\n",
       "    </tr>\n",
       "    <tr>\n",
       "      <th>41508</th>\n",
       "      <td>754.0</td>\n",
       "      <td>Money and Banking</td>\n",
       "      <td>Studies the role of money in the economic syst...</td>\n",
       "      <td>3030.0</td>\n",
       "      <td>3.144924</td>\n",
       "      <td>136.0</td>\n",
       "      <td>754.0</td>\n",
       "      <td>742.0</td>\n",
       "      <td>435.0</td>\n",
       "      <td>596.0</td>\n",
       "      <td>...</td>\n",
       "      <td>0</td>\n",
       "      <td>0.0</td>\n",
       "      <td>2013-03-03 00:00:00+00:00</td>\n",
       "      <td>2009</td>\n",
       "      <td>SPRING</td>\n",
       "      <td>hjm5p@virginia.edu</td>\n",
       "      <td>Hernan Moscoso Boedo</td>\n",
       "      <td>2024.0</td>\n",
       "      <td>SPRING</td>\n",
       "      <td>3.0</td>\n",
       "    </tr>\n",
       "    <tr>\n",
       "      <th>41509</th>\n",
       "      <td>754.0</td>\n",
       "      <td>Money and Banking</td>\n",
       "      <td>Studies the role of money in the economic syst...</td>\n",
       "      <td>3030.0</td>\n",
       "      <td>3.144924</td>\n",
       "      <td>136.0</td>\n",
       "      <td>754.0</td>\n",
       "      <td>742.0</td>\n",
       "      <td>435.0</td>\n",
       "      <td>596.0</td>\n",
       "      <td>...</td>\n",
       "      <td>0</td>\n",
       "      <td>1.0</td>\n",
       "      <td>2013-08-15 00:00:00+00:00</td>\n",
       "      <td>2009</td>\n",
       "      <td>SPRING</td>\n",
       "      <td>hjm5p@virginia.edu</td>\n",
       "      <td>Hernan Moscoso Boedo</td>\n",
       "      <td>2024.0</td>\n",
       "      <td>SPRING</td>\n",
       "      <td>3.0</td>\n",
       "    </tr>\n",
       "    <tr>\n",
       "      <th>41510</th>\n",
       "      <td>8600.0</td>\n",
       "      <td>Special Topics in Politics</td>\n",
       "      <td>Special Topics in Politics</td>\n",
       "      <td>2500.0</td>\n",
       "      <td>3.419390</td>\n",
       "      <td>11.0</td>\n",
       "      <td>81.0</td>\n",
       "      <td>71.0</td>\n",
       "      <td>42.0</td>\n",
       "      <td>44.0</td>\n",
       "      <td>...</td>\n",
       "      <td>0</td>\n",
       "      <td>0.0</td>\n",
       "      <td>2021-01-20 19:38:10.579957+00:00</td>\n",
       "      <td>2021</td>\n",
       "      <td>JANUARY</td>\n",
       "      <td>dal7w@virginia.edu</td>\n",
       "      <td>David Leblang</td>\n",
       "      <td>2024.0</td>\n",
       "      <td>SPRING</td>\n",
       "      <td>2.0</td>\n",
       "    </tr>\n",
       "    <tr>\n",
       "      <th>41511</th>\n",
       "      <td>558.0</td>\n",
       "      <td>Foundations of International Business</td>\n",
       "      <td>An introduction to the field of international ...</td>\n",
       "      <td>3845.0</td>\n",
       "      <td>3.575121</td>\n",
       "      <td>4.0</td>\n",
       "      <td>284.0</td>\n",
       "      <td>306.0</td>\n",
       "      <td>176.0</td>\n",
       "      <td>94.0</td>\n",
       "      <td>...</td>\n",
       "      <td>0</td>\n",
       "      <td>0.0</td>\n",
       "      <td>2016-12-20 06:16:09+00:00</td>\n",
       "      <td>2011</td>\n",
       "      <td>JANUARY</td>\n",
       "      <td>ja3wn@virginia.edu</td>\n",
       "      <td>James Andre</td>\n",
       "      <td>2021.0</td>\n",
       "      <td>SPRING</td>\n",
       "      <td>3.0</td>\n",
       "    </tr>\n",
       "  </tbody>\n",
       "</table>\n",
       "<p>41512 rows × 36 columns</p>\n",
       "</div>"
      ],
      "text/plain": [
       "       course_id                                        title  \\\n",
       "0           12.0                    Introductory Accounting I   \n",
       "1         1505.0  History and Civilization of Classical India   \n",
       "2         1504.0           Introductory Seminar in South Asia   \n",
       "3         1505.0  History and Civilization of Classical India   \n",
       "4        15083.0                 India From Akbar to Victoria   \n",
       "...          ...                                          ...   \n",
       "41507      754.0                            Money and Banking   \n",
       "41508      754.0                            Money and Banking   \n",
       "41509      754.0                            Money and Banking   \n",
       "41510     8600.0                   Special Topics in Politics   \n",
       "41511      558.0        Foundations of International Business   \n",
       "\n",
       "                                             description  course_number  \\\n",
       "0      Designed to introduce students to the language...         2010.0   \n",
       "1      Studies the major elements of South Asian civi...         2001.0   \n",
       "2      Introduction to the study of history intended ...         1501.0   \n",
       "3      Studies the major elements of South Asian civi...         2001.0   \n",
       "4      Studies the society and politics in the Mughal...         3002.0   \n",
       "...                                                  ...            ...   \n",
       "41507  Studies the role of money in the economic syst...         3030.0   \n",
       "41508  Studies the role of money in the economic syst...         3030.0   \n",
       "41509  Studies the role of money in the economic syst...         3030.0   \n",
       "41510                         Special Topics in Politics         2500.0   \n",
       "41511  An introduction to the field of international ...         3845.0   \n",
       "\n",
       "        average  a_plus      a  a_minus  b_plus      b  ...  amount_group  \\\n",
       "0      3.200437    59.0  131.0     51.0    42.0   62.0  ...             4   \n",
       "1      3.395795     5.0   85.0    132.0   117.0   66.0  ...             0   \n",
       "2      3.601403     9.0  118.0    131.0    74.0   27.0  ...             0   \n",
       "3      3.395795     5.0   85.0    132.0   117.0   66.0  ...             0   \n",
       "4      2.984615     0.0    2.0      6.0     1.0    1.0  ...             0   \n",
       "...         ...     ...    ...      ...     ...    ...  ...           ...   \n",
       "41507  3.144924   136.0  754.0    742.0   435.0  596.0  ...             0   \n",
       "41508  3.144924   136.0  754.0    742.0   435.0  596.0  ...             0   \n",
       "41509  3.144924   136.0  754.0    742.0   435.0  596.0  ...             0   \n",
       "41510  3.419390    11.0   81.0     71.0    42.0   44.0  ...             0   \n",
       "41511  3.575121     4.0  284.0    306.0   176.0   94.0  ...             0   \n",
       "\n",
       "       amount_homework                    review_created  year   season  \\\n",
       "0                  2.0         2020-11-10 22:11:29+00:00  2020     FALL   \n",
       "1                  0.0  2020-12-19 04:08:23.637939+00:00  2020     FALL   \n",
       "2                  0.0         2016-11-02 16:38:11+00:00  2016     FALL   \n",
       "3                  0.0  2021-12-20 18:54:54.439844+00:00  2021     FALL   \n",
       "4                  0.0  2022-11-03 03:15:03.409391+00:00  2021     FALL   \n",
       "...                ...                               ...   ...      ...   \n",
       "41507              0.0         2011-06-27 00:00:00+00:00  2009   SPRING   \n",
       "41508              0.0         2013-03-03 00:00:00+00:00  2009   SPRING   \n",
       "41509              1.0         2013-08-15 00:00:00+00:00  2009   SPRING   \n",
       "41510              0.0  2021-01-20 19:38:10.579957+00:00  2021  JANUARY   \n",
       "41511              0.0         2016-12-20 06:16:09+00:00  2011  JANUARY   \n",
       "\n",
       "         instructor_email       instructor_name year_last_taught  \\\n",
       "0      gdb5x@virginia.edu           Gary Brooks           2023.0   \n",
       "1      sal9c@virginia.edu       Spencer Leonard           2021.0   \n",
       "2      sal9c@virginia.edu       Spencer Leonard           2022.0   \n",
       "3      sal9c@virginia.edu       Spencer Leonard           2021.0   \n",
       "4      sal9c@virginia.edu       Spencer Leonard           2021.0   \n",
       "...                   ...                   ...              ...   \n",
       "41507  hjm5p@virginia.edu  Hernan Moscoso Boedo           2024.0   \n",
       "41508  hjm5p@virginia.edu  Hernan Moscoso Boedo           2024.0   \n",
       "41509  hjm5p@virginia.edu  Hernan Moscoso Boedo           2024.0   \n",
       "41510  dal7w@virginia.edu         David Leblang           2024.0   \n",
       "41511  ja3wn@virginia.edu           James Andre           2021.0   \n",
       "\n",
       "      season_last_taught  course_level  \n",
       "0                 SPRING           2.0  \n",
       "1                   FALL           2.0  \n",
       "2                 SPRING           1.0  \n",
       "3                   FALL           2.0  \n",
       "4                   FALL           3.0  \n",
       "...                  ...           ...  \n",
       "41507             SPRING           3.0  \n",
       "41508             SPRING           3.0  \n",
       "41509             SPRING           3.0  \n",
       "41510             SPRING           2.0  \n",
       "41511             SPRING           3.0  \n",
       "\n",
       "[41512 rows x 36 columns]"
      ]
     },
     "execution_count": 106,
     "metadata": {},
     "output_type": "execute_result"
    }
   ],
   "source": [
    "# Loading the data\n",
    "df = pd.read_csv(\"./data.csv\")\n",
    "df['course_level'] = pd.to_numeric(df['course_number']).apply(lambda x: x // 1000)\n",
    "df"
   ]
  },
  {
   "cell_type": "code",
   "execution_count": 107,
   "metadata": {},
   "outputs": [
    {
     "name": "stdout",
     "output_type": "stream",
     "text": [
      "course_id\n",
      "title\n",
      "description\n",
      "course_number\n",
      "average\n",
      "a_plus\n",
      "a\n",
      "a_minus\n",
      "b_plus\n",
      "b\n",
      "b_minus\n",
      "c_plus\n",
      "c\n",
      "c_minus\n",
      "total_enrolled\n",
      "dfw\n",
      "subdepartment_name\n",
      "mnemonic\n",
      "review_text\n",
      "instructor_rating\n",
      "difficulty\n",
      "recommendability\n",
      "enjoyability\n",
      "hours_per_week\n",
      "amount_reading\n",
      "amount_writing\n",
      "amount_group\n",
      "amount_homework\n",
      "review_created\n",
      "year\n",
      "season\n",
      "instructor_email\n",
      "instructor_name\n",
      "year_last_taught\n",
      "season_last_taught\n",
      "course_level\n"
     ]
    }
   ],
   "source": [
    "# Printing the columns\n",
    "print(\"\\n\".join(df.columns.to_list()))"
   ]
  },
  {
   "cell_type": "markdown",
   "metadata": {},
   "source": [
    "## Making the Spider Plot\n",
    "\n",
    "The goal of this section is for a specified course to be selected and then a radar plot to be generated based on the reviews for that course."
   ]
  },
  {
   "cell_type": "code",
   "execution_count": 108,
   "metadata": {},
   "outputs": [
    {
     "name": "stdout",
     "output_type": "stream",
     "text": [
      "Course Compoents CS 3100\n"
     ]
    },
    {
     "data": {
      "text/html": [
       "<div>\n",
       "<style scoped>\n",
       "    .dataframe tbody tr th:only-of-type {\n",
       "        vertical-align: middle;\n",
       "    }\n",
       "\n",
       "    .dataframe tbody tr th {\n",
       "        vertical-align: top;\n",
       "    }\n",
       "\n",
       "    .dataframe thead th {\n",
       "        text-align: right;\n",
       "    }\n",
       "</style>\n",
       "<table border=\"1\" class=\"dataframe\">\n",
       "  <thead>\n",
       "    <tr style=\"text-align: right;\">\n",
       "      <th></th>\n",
       "      <th>mean</th>\n",
       "      <th>std</th>\n",
       "      <th>category</th>\n",
       "      <th>course</th>\n",
       "    </tr>\n",
       "  </thead>\n",
       "  <tbody>\n",
       "    <tr>\n",
       "      <th>0</th>\n",
       "      <td>4.058824</td>\n",
       "      <td>1.344925</td>\n",
       "      <td>instructor_rating</td>\n",
       "      <td>CS 3100</td>\n",
       "    </tr>\n",
       "    <tr>\n",
       "      <th>1</th>\n",
       "      <td>4.235294</td>\n",
       "      <td>0.752447</td>\n",
       "      <td>difficulty</td>\n",
       "      <td>CS 3100</td>\n",
       "    </tr>\n",
       "    <tr>\n",
       "      <th>2</th>\n",
       "      <td>3.588235</td>\n",
       "      <td>1.416811</td>\n",
       "      <td>recommendability</td>\n",
       "      <td>CS 3100</td>\n",
       "    </tr>\n",
       "    <tr>\n",
       "      <th>3</th>\n",
       "      <td>3.411765</td>\n",
       "      <td>1.416811</td>\n",
       "      <td>enjoyability</td>\n",
       "      <td>CS 3100</td>\n",
       "    </tr>\n",
       "    <tr>\n",
       "      <th>4</th>\n",
       "      <td>1.235294</td>\n",
       "      <td>2.411675</td>\n",
       "      <td>amount_reading</td>\n",
       "      <td>CS 3100</td>\n",
       "    </tr>\n",
       "    <tr>\n",
       "      <th>5</th>\n",
       "      <td>2.058824</td>\n",
       "      <td>2.988950</td>\n",
       "      <td>amount_writing</td>\n",
       "      <td>CS 3100</td>\n",
       "    </tr>\n",
       "    <tr>\n",
       "      <th>6</th>\n",
       "      <td>1.705882</td>\n",
       "      <td>2.687115</td>\n",
       "      <td>amount_group</td>\n",
       "      <td>CS 3100</td>\n",
       "    </tr>\n",
       "    <tr>\n",
       "      <th>7</th>\n",
       "      <td>3.470588</td>\n",
       "      <td>4.079180</td>\n",
       "      <td>amount_homework</td>\n",
       "      <td>CS 3100</td>\n",
       "    </tr>\n",
       "  </tbody>\n",
       "</table>\n",
       "</div>"
      ],
      "text/plain": [
       "       mean       std           category   course\n",
       "0  4.058824  1.344925  instructor_rating  CS 3100\n",
       "1  4.235294  0.752447         difficulty  CS 3100\n",
       "2  3.588235  1.416811   recommendability  CS 3100\n",
       "3  3.411765  1.416811       enjoyability  CS 3100\n",
       "4  1.235294  2.411675     amount_reading  CS 3100\n",
       "5  2.058824  2.988950     amount_writing  CS 3100\n",
       "6  1.705882  2.687115       amount_group  CS 3100\n",
       "7  3.470588  4.079180    amount_homework  CS 3100"
      ]
     },
     "execution_count": 108,
     "metadata": {},
     "output_type": "execute_result"
    }
   ],
   "source": [
    "REVIEW_COMPONENTS = {\n",
    "    \"instructor_rating\": \"Instructor Rating\",\n",
    "    \"difficulty\": \"Difficulty\",\n",
    "    \"recommendability\": \"Recommendability\",\n",
    "    \"enjoyability\": \"Enjoyability\",\n",
    "    # \"hours_per_week\": \"Hours Per Week\",\n",
    "    \"amount_reading\": \"Amount Reading\",\n",
    "    \"amount_writing\": \"Amount Writing\",\n",
    "    \"amount_group\": \"Amount Groupwork\",\n",
    "    \"amount_homework\": \"Amount Homework\",\n",
    "}\n",
    "\n",
    "# making each column into a numeric column\n",
    "for column in REVIEW_COMPONENTS.keys():\n",
    "    df[column] = pd.to_numeric(df[column], errors=\"coerce\")\n",
    "\n",
    "COURSE = \"CS 3100\"\n",
    "\n",
    "def course_components(course_pneumonic_and_number: str) -> (str, int):\n",
    "    \"\"\"\n",
    "    Turns a human readable course pneumonic and number into a database-searchable tuple\n",
    "    \"\"\"\n",
    "    course_pneumonic_and_number = (\n",
    "        course_pneumonic_and_number.strip().upper().replace(\"  \", \" \").split(\" \")\n",
    "    )\n",
    "    pneumoic, number = course_pneumonic_and_number\n",
    "    print(\"Course Compoents\", pneumoic, number)\n",
    "    return pneumoic, int(number)\n",
    "\n",
    "\n",
    "def get_course_summary_ratings(pneumonic: str, number: int) -> pd.DataFrame:\n",
    "    \"\"\"\n",
    "    Gets the ratings for the course\n",
    "    \"\"\"\n",
    "    pneumonic_mask = df[\"mnemonic\"] == pneumonic\n",
    "    number_mask = df[\"course_number\"] == number\n",
    "    relevant = df[pneumonic_mask & number_mask]\n",
    "\n",
    "    mean = relevant[REVIEW_COMPONENTS.keys()].mean()\n",
    "    std = relevant[REVIEW_COMPONENTS.keys()].std()\n",
    "\n",
    "    frame = pd.DataFrame(\n",
    "        {\"mean\": mean.to_list(), \"std\": std.to_list(), \"category\": mean.index.to_list()}\n",
    "    )\n",
    "    frame['course'] = frame['mean'].apply(lambda x: f\"{pneumonic} {number}\")\n",
    "    return frame\n",
    "\n",
    "\n",
    "get_course_summary_ratings(*course_components(COURSE))"
   ]
  },
  {
   "cell_type": "code",
   "execution_count": 109,
   "metadata": {},
   "outputs": [
    {
     "name": "stdout",
     "output_type": "stream",
     "text": [
      "Course Compoents CS 3100\n",
      "Course Compoents CS 2130\n",
      "Course Compoents CS 3130\n",
      "Course Compoents DS 4003\n"
     ]
    }
   ],
   "source": [
    "# Creating a spider plot for the course\n",
    "# source: https://python-graph-gallery.com/571-radar-chart-with-plotly/\n",
    "# Getting many plot with px\n",
    "# source: https://stackoverflow.com/questions/56727843/how-can-i-create-subplots-with-plotly-express\n",
    "# note: this sucks\n",
    "\n",
    "\n",
    "def course_axis(\n",
    "    frame: pd.DataFrame, course: str = None, include: str = \"ratings\"\n",
    ") -> px.line_polar:\n",
    "    \"\"\"\n",
    "    Makes a polar axis to compare courses\n",
    "    \"\"\"\n",
    "    if \"duration\" in include:\n",
    "        frame = frame[frame[\"category\"].apply(lambda name: name.find(\"amount\") != -1)]\n",
    "    if \"rating\" in include:\n",
    "        frame = frame[frame[\"category\"].apply(lambda name: name.find(\"amount\") == -1)]\n",
    "\n",
    "    fig = go.Figure()\n",
    "    frame['category'] = frame['category'].replace(REVIEW_COMPONENTS)\n",
    "    for course in frame[\"course\"].unique():\n",
    "        rel_frame = frame[frame[\"course\"] == course]\n",
    "        graph_object = go.Scatterpolar(\n",
    "            r=rel_frame[\"mean\"], theta=rel_frame[\"category\"], fill=\"toself\",\n",
    "             name=course.upper()\n",
    "        )\n",
    "\n",
    "        fig.add_trace(graph_object)\n",
    "\n",
    "    return fig\n",
    "\n",
    "\n",
    "cs_3100 = get_course_summary_ratings(*course_components(COURSE))\n",
    "cs_2130 = get_course_summary_ratings(*course_components(\"CS 2130\"))\n",
    "cs_3130 = get_course_summary_ratings(*course_components(\"CS 3130\"))\n",
    "ds_4003 = get_course_summary_ratings(*course_components(\"DS 4003\"))\n",
    "\n",
    "\n",
    "rows = pd.concat([cs_3100, cs_2130, cs_3130, ds_4003])\n",
    "\n",
    "# course_axis(rows, course=\"CS 3100\")"
   ]
  },
  {
   "cell_type": "markdown",
   "metadata": {},
   "source": [
    "## Excel-Style Filterable Table\n",
    "\n",
    "The goal of this section is to allow user filtering of tables in an excel like manner. \n",
    "\n",
    "The data in the section will be similar to [the spider plot](#making-the-spider-plot), however the format will be a bit more formal.\n",
    "\n",
    "![Excel-style Table](./imgs/excel-table.png)\n",
    "\n",
    "**Guide:** https://dash.plotly.com/datatable"
   ]
  },
  {
   "cell_type": "code",
   "execution_count": 110,
   "metadata": {},
   "outputs": [
    {
     "data": {
      "text/plain": [
       "{'average': 'Average',\n",
       " 'instructor_rating': 'Instructor Rating',\n",
       " 'difficulty': 'Difficulty',\n",
       " 'recommendability': 'Recommendability',\n",
       " 'enjoyability': 'Enjoyability',\n",
       " 'amount_reading': 'Amount Reading',\n",
       " 'amount_writing': 'Amount Writing',\n",
       " 'amount_group': 'Amount Groupwork',\n",
       " 'amount_homework': 'Amount Homework'}"
      ]
     },
     "execution_count": 110,
     "metadata": {},
     "output_type": "execute_result"
    }
   ],
   "source": [
    "# Defining columns of interest\n",
    "SAMPLE_COURSES = [\"CS 3100\", \"CS 2130\", \"CS 3130\", \"DS 4003\"]\n",
    "\n",
    "# additional table components\n",
    "TABLE_COMPONENTS = {\n",
    "    'average': 'Average',\n",
    "}\n",
    "\n",
    "course_components_to_agg = {**TABLE_COMPONENTS, **REVIEW_COMPONENTS}\n",
    "course_components_to_agg"
   ]
  },
  {
   "cell_type": "code",
   "execution_count": 111,
   "metadata": {},
   "outputs": [
    {
     "name": "stdout",
     "output_type": "stream",
     "text": [
      "Course Compoents CS 3100\n",
      "Course Compoents CS 2130\n",
      "Course Compoents CS 3130\n",
      "Course Compoents DS 4003\n",
      "('CS', 3100)\n",
      "('CS', 2130)\n",
      "('CS', 3130)\n",
      "('DS', 4003)\n",
      "{'average': 'Average', 'instructor_rating': 'Instructor Rating', 'difficulty': 'Difficulty', 'recommendability': 'Recommendability', 'enjoyability': 'Enjoyability', 'amount_reading': 'Amount Reading', 'amount_writing': 'Amount Writing', 'amount_group': 'Amount Groupwork', 'amount_homework': 'Amount Homework'}\n"
     ]
    },
    {
     "data": {
      "text/html": [
       "<div>\n",
       "<style scoped>\n",
       "    .dataframe tbody tr th:only-of-type {\n",
       "        vertical-align: middle;\n",
       "    }\n",
       "\n",
       "    .dataframe tbody tr th {\n",
       "        vertical-align: top;\n",
       "    }\n",
       "\n",
       "    .dataframe thead th {\n",
       "        text-align: right;\n",
       "    }\n",
       "</style>\n",
       "<table border=\"1\" class=\"dataframe\">\n",
       "  <thead>\n",
       "    <tr style=\"text-align: right;\">\n",
       "      <th></th>\n",
       "      <th>mnemonic</th>\n",
       "      <th>course_number</th>\n",
       "      <th>average</th>\n",
       "      <th>instructor_rating</th>\n",
       "      <th>difficulty</th>\n",
       "      <th>recommendability</th>\n",
       "      <th>enjoyability</th>\n",
       "      <th>amount_reading</th>\n",
       "      <th>amount_writing</th>\n",
       "      <th>amount_group</th>\n",
       "      <th>amount_homework</th>\n",
       "    </tr>\n",
       "  </thead>\n",
       "  <tbody>\n",
       "    <tr>\n",
       "      <th>0</th>\n",
       "      <td>CS</td>\n",
       "      <td>2130.0</td>\n",
       "      <td>2.948611</td>\n",
       "      <td>3.450000</td>\n",
       "      <td>4.300000</td>\n",
       "      <td>2.500000</td>\n",
       "      <td>2.300000</td>\n",
       "      <td>1.900000</td>\n",
       "      <td>1.200000</td>\n",
       "      <td>1.150000</td>\n",
       "      <td>5.700000</td>\n",
       "    </tr>\n",
       "    <tr>\n",
       "      <th>1</th>\n",
       "      <td>CS</td>\n",
       "      <td>3100.0</td>\n",
       "      <td>3.379770</td>\n",
       "      <td>4.058824</td>\n",
       "      <td>4.235294</td>\n",
       "      <td>3.588235</td>\n",
       "      <td>3.411765</td>\n",
       "      <td>1.235294</td>\n",
       "      <td>2.058824</td>\n",
       "      <td>1.705882</td>\n",
       "      <td>3.470588</td>\n",
       "    </tr>\n",
       "    <tr>\n",
       "      <th>2</th>\n",
       "      <td>CS</td>\n",
       "      <td>3130.0</td>\n",
       "      <td>3.330000</td>\n",
       "      <td>3.600000</td>\n",
       "      <td>5.000000</td>\n",
       "      <td>2.600000</td>\n",
       "      <td>2.300000</td>\n",
       "      <td>1.500000</td>\n",
       "      <td>7.500000</td>\n",
       "      <td>0.300000</td>\n",
       "      <td>2.500000</td>\n",
       "    </tr>\n",
       "  </tbody>\n",
       "</table>\n",
       "</div>"
      ],
      "text/plain": [
       "  mnemonic  course_number   average  instructor_rating  difficulty  \\\n",
       "0       CS         2130.0  2.948611           3.450000    4.300000   \n",
       "1       CS         3100.0  3.379770           4.058824    4.235294   \n",
       "2       CS         3130.0  3.330000           3.600000    5.000000   \n",
       "\n",
       "   recommendability  enjoyability  amount_reading  amount_writing  \\\n",
       "0          2.500000      2.300000        1.900000        1.200000   \n",
       "1          3.588235      3.411765        1.235294        2.058824   \n",
       "2          2.600000      2.300000        1.500000        7.500000   \n",
       "\n",
       "   amount_group  amount_homework  \n",
       "0      1.150000         5.700000  \n",
       "1      1.705882         3.470588  \n",
       "2      0.300000         2.500000  "
      ]
     },
     "execution_count": 111,
     "metadata": {},
     "output_type": "execute_result"
    }
   ],
   "source": [
    "def get_data_for_course_comparison_table(courses: List) -> pd.DataFrame:\n",
    "    \"\"\"\n",
    "    Gets relevant course_components to aggregate for a list of courses\n",
    "    \"\"\"\n",
    "    # filtering the data down to the relevant frame\n",
    "    mask = df[\"mnemonic\"] == -1\n",
    "    for course in courses:\n",
    "        print(course)\n",
    "        if (len(course) < 2):\n",
    "            print(\"FAIELD\")\n",
    "            print(course)\n",
    "            exit()\n",
    "\n",
    "        pneumonic, number = course\n",
    "        mask = mask | ((df[\"mnemonic\"] == pneumonic) & (df[\"course_number\"] == number))\n",
    "\n",
    "    print(course_components_to_agg)\n",
    "\n",
    "    grouped = df[mask].groupby([\"mnemonic\", \"course_number\"]).agg({ key: 'mean' for key in course_components_to_agg.keys() }).reset_index()\n",
    "\n",
    "    return grouped\n",
    "\n",
    "course_tuples = [course_components(course) for course in SAMPLE_COURSES]\n",
    "specific_data = get_data_for_course_comparison_table(course_tuples)\n",
    "specific_data"
   ]
  },
  {
   "cell_type": "code",
   "execution_count": 112,
   "metadata": {},
   "outputs": [],
   "source": [
    "# making the table in plotly\n",
    "# source: https://plotly.com/python/table/\n",
    "\n",
    "new_course_components_to_agg = {\n",
    "    **course_components_to_agg,\n",
    "    \"course_number\": \"Course #\",\n",
    "    \"mnemonic\": \"Mnemonic\",\n",
    "}\n",
    "\n",
    "\n",
    "def get_cells(course_data: pd.DataFrame) -> List[List[any]]:\n",
    "    \"\"\"\n",
    "    Gets the cells in the data table\n",
    "    \"\"\"\n",
    "    return course_data.round(2).to_numpy().transpose().tolist()\n",
    "\n",
    "\n",
    "pretty_column_names = list(\n",
    "    map(\n",
    "        lambda col: f\"<b>{new_course_components_to_agg.get(col, col).replace(' ', '<br>')}</b><br>\",\n",
    "        specific_data.columns.to_list(),\n",
    "    )\n",
    ")\n",
    "\n",
    "table = go.Figure(\n",
    "    data=[\n",
    "        go.Table(\n",
    "            header=dict(\n",
    "                values=pretty_column_names,\n",
    "                line_color=\"darkslategray\",\n",
    "                fill_color=\"royalblue\",\n",
    "                align=[\"left\", \"center\"],\n",
    "                font=dict(color=\"white\", size=12),\n",
    "                height=40,\n",
    "            ),\n",
    "            cells=dict(\n",
    "                values=get_cells(specific_data),\n",
    "                line_color=\"darkslategray\",\n",
    "                fill=dict(color=[\"paleturquoise\", \"white\"]),\n",
    "                align=[\"left\", \"center\"],\n",
    "                font_size=12,\n",
    "                height=30,\n",
    "            ),\n",
    "        )\n",
    "    ]\n",
    ")\n",
    "\n",
    "# table  # note: I am pretty happy with this. I would like to add more interactivity here."
   ]
  },
  {
   "cell_type": "code",
   "execution_count": 113,
   "metadata": {},
   "outputs": [
    {
     "data": {
      "text/plain": [
       "0        ACCT 2010.0\n",
       "1        HISA 2001.0\n",
       "2        HISA 1501.0\n",
       "3        HISA 2001.0\n",
       "4        HISA 3002.0\n",
       "            ...     \n",
       "41507    ECON 3030.0\n",
       "41508    ECON 3030.0\n",
       "41509    ECON 3030.0\n",
       "41510    PLAD 2500.0\n",
       "41511    COMM 3845.0\n",
       "Name: name, Length: 41512, dtype: object"
      ]
     },
     "execution_count": 113,
     "metadata": {},
     "output_type": "execute_result"
    }
   ],
   "source": [
    "# making a source dropdown\n",
    "# source: https://dash.plotly.com/dash-core-components/dropdown\n",
    "# df['course_number'] = df['course_number'].apply(int)\n",
    "df['course_number'].fillna(0, inplace=True)\n",
    "df['name'] = df['mnemonic'] + \" \" + df['course_number'].astype(str)\n",
    "df['name']"
   ]
  },
  {
   "cell_type": "code",
   "execution_count": 114,
   "metadata": {},
   "outputs": [],
   "source": [
    "# adding source dropdowns here\n",
    "course_mneumoic_dropdown = dcc.Dropdown(\n",
    "    id='course_dropdown',\n",
    "    options=[{'label': str(course).replace(\".0\", \"\"), 'value': str(course).replace(\".0\", \"\")} for course in df['name'].unique()],\n",
    "    value='CS 3100',\n",
    "    multi=True\n",
    ")"
   ]
  },
  {
   "cell_type": "code",
   "execution_count": 115,
   "metadata": {},
   "outputs": [
    {
     "name": "stdout",
     "output_type": "stream",
     "text": [
      "Course Compoents CS 3100\n",
      "Course tuples [('CS', 3100)]\n",
      "('CS', 3100)\n",
      "{'average': 'Average', 'instructor_rating': 'Instructor Rating', 'difficulty': 'Difficulty', 'recommendability': 'Recommendability', 'enjoyability': 'Enjoyability', 'amount_reading': 'Amount Reading', 'amount_writing': 'Amount Writing', 'amount_group': 'Amount Groupwork', 'amount_homework': 'Amount Homework'}\n",
      "Course data   mnemonic course_number average instructor_rating difficulty  \\\n",
      "0       CS          3100    3.38              4.06       4.24   \n",
      "\n",
      "  recommendability enjoyability amount_reading amount_writing amount_group  \\\n",
      "0             3.59         3.41           1.24           2.06         1.71   \n",
      "\n",
      "  amount_homework  \n",
      "0            3.47  \n"
     ]
    },
    {
     "data": {
      "text/plain": [
       "[{'mnemonic': 'CS',\n",
       "  'course_number': '3100',\n",
       "  'average': '3.38',\n",
       "  'instructor_rating': '4.06',\n",
       "  'difficulty': '4.24',\n",
       "  'recommendability': '3.59',\n",
       "  'enjoyability': '3.41',\n",
       "  'amount_reading': '1.24',\n",
       "  'amount_writing': '2.06',\n",
       "  'amount_group': '1.71',\n",
       "  'amount_homework': '3.47'}]"
      ]
     },
     "execution_count": 115,
     "metadata": {},
     "output_type": "execute_result"
    }
   ],
   "source": [
    "# making a dash table so that things work off the cuff\n",
    "@callback(\n",
    "    Output('course_table', 'data'),\n",
    "    Input('course_dropdown', 'value')\n",
    ")\n",
    "def update_table_data(data) -> pd.DataFrame:\n",
    "    \"\"\"\n",
    "    Updates the data table to show the dropdown values\n",
    "    \"\"\"\n",
    "    if data is str:\n",
    "        data = [data]\n",
    "    \n",
    "    course_tuples = [course_components(course) for course in data]\n",
    "    print(\"Course tuples\", course_tuples)\n",
    "    course_data = get_data_for_course_comparison_table(course_tuples)\n",
    "\n",
    "    course_data['course_number'] = course_data['course_number'].apply(int).apply(str)\n",
    "    course_data['average'] = course_data['average'].apply(lambda x: f\"{x:.2f}\")\n",
    "    course_data['amount_reading'] = course_data['amount_reading'].apply(lambda x: f\"{x:.2f}\")\n",
    "    course_data['amount_writing'] = course_data['amount_writing'].apply(lambda x: f\"{x:.2f}\")\n",
    "    course_data['amount_group'] = course_data['amount_group'].apply(lambda x: f\"{x:.2f}\")\n",
    "    course_data['amount_homework'] = course_data['amount_homework'].apply(lambda x: f\"{x:.2f}\")\n",
    "    course_data['instructor_rating'] = course_data['instructor_rating'].apply(lambda x: f\"{x:.2f}\")\n",
    "    course_data['difficulty'] = course_data['difficulty'].apply(lambda x: f\"{x:.2f}\")\n",
    "    course_data['recommendability'] = course_data['recommendability'].apply(lambda x: f\"{x:.2f}\")\n",
    "    course_data['enjoyability'] = course_data['enjoyability'].apply(lambda x: f\"{x:.2f}\")\n",
    "\n",
    "    print(\"Course data\", course_data)\n",
    "    \n",
    "    return course_data.to_dict(orient='records')\n",
    "\n",
    "\n",
    "update_table_data([\"CS 3100\"])"
   ]
  },
  {
   "cell_type": "markdown",
   "metadata": {},
   "source": [
    "# Breaking Down Instructor Rating\n",
    "\n",
    "![Correlating Instructor Reviews](./imgs/correlating_reviews.png)"
   ]
  },
  {
   "cell_type": "code",
   "execution_count": 116,
   "metadata": {},
   "outputs": [],
   "source": [
    "# the goal for this is to create the functions which can control for a  particular factor\n",
    "CHECKBOX_SELECTORS = {\n",
    "    'average': 'GPA',\n",
    "    # 'course_level': 'Course Level (1k, 2k, ...)',\n",
    "    'difficulty' : 'Difficulty',\n",
    "    'hours_per_week': 'Hours Worked Per Week',\n",
    "    'amount_group': 'Group Work Per Week'\n",
    "}"
   ]
  },
  {
   "cell_type": "code",
   "execution_count": 117,
   "metadata": {},
   "outputs": [],
   "source": [
    "# making a bunch of checkboxes in plotly\n",
    "checklist = dcc.Checklist(\n",
    "    options=[\n",
    "        {'label': v, 'value': k} for k, v in CHECKBOX_SELECTORS.items()\n",
    "    ],\n",
    "    value=[],\n",
    "    id='features_to_plot'\n",
    ")"
   ]
  },
  {
   "cell_type": "code",
   "execution_count": 118,
   "metadata": {},
   "outputs": [],
   "source": [
    "# creating a histogram of course reviews\n",
    "course_reviews = px.histogram(\n",
    "    df.groupby([\"mnemonic\", \"course_number\"]).agg({\"instructor_rating\": \"mean\"}),\n",
    "    x=\"instructor_rating\",\n",
    ")\n",
    "\n",
    "# course_reviews"
   ]
  },
  {
   "cell_type": "markdown",
   "metadata": {},
   "source": [
    "### Making a regression"
   ]
  },
  {
   "cell_type": "code",
   "execution_count": 119,
   "metadata": {},
   "outputs": [
    {
     "name": "stdout",
     "output_type": "stream",
     "text": [
      "[[ 0.33720824 -0.19793535 -0.00737263 -0.03009486]] [3.29280586]\n"
     ]
    }
   ],
   "source": [
    "# making a linear regression model\n",
    "model = LinearRegression()\n",
    "\n",
    "columns = ['difficulty', 'instructor_rating', 'hours_per_week']\n",
    "# getting the data\n",
    "new_columns = ['average', 'difficulty', 'hours_per_week', 'amount_group']\n",
    "df.dropna(subset=new_columns, inplace=True)\n",
    "X = df[new_columns].values.reshape(-1, len(new_columns))\n",
    "Y = df['instructor_rating'].values.reshape(-1, 1)\n",
    "\n",
    "# fitting the model\n",
    "X_train, X_test, Y_train, Y_test = train_test_split(X, Y, test_size=0.2)\n",
    "\n",
    "model.fit(X_train, Y_train)\n",
    "\n",
    "print(model.coef_, model.intercept_)"
   ]
  },
  {
   "cell_type": "code",
   "execution_count": 120,
   "metadata": {},
   "outputs": [
    {
     "data": {
      "application/vnd.plotly.v1+json": {
       "config": {
        "plotlyServerURL": "https://plot.ly"
       },
       "data": [
        {
         "alignmentgroup": "True",
         "hovertemplate": "Feature=%{x}<br>Correlation Coefficient=%{y}<extra></extra>",
         "legendgroup": "",
         "marker": {
          "color": "#636efa",
          "pattern": {
           "shape": ""
          }
         },
         "name": "",
         "offsetgroup": "",
         "orientation": "v",
         "showlegend": false,
         "textposition": "auto",
         "type": "bar",
         "x": [
          "GPA",
          "Difficulty",
          "Hours Worked Per Week",
          "Group Work Per Week"
         ],
         "xaxis": "x",
         "y": [
          0.337208240519316,
          -0.19793535464745782,
          -0.007372630234877982,
          -0.030094864778955486
         ],
         "yaxis": "y"
        }
       ],
       "layout": {
        "barmode": "relative",
        "legend": {
         "tracegroupgap": 0
        },
        "margin": {
         "t": 60
        },
        "template": {
         "data": {
          "bar": [
           {
            "error_x": {
             "color": "#2a3f5f"
            },
            "error_y": {
             "color": "#2a3f5f"
            },
            "marker": {
             "line": {
              "color": "#E5ECF6",
              "width": 0.5
             },
             "pattern": {
              "fillmode": "overlay",
              "size": 10,
              "solidity": 0.2
             }
            },
            "type": "bar"
           }
          ],
          "barpolar": [
           {
            "marker": {
             "line": {
              "color": "#E5ECF6",
              "width": 0.5
             },
             "pattern": {
              "fillmode": "overlay",
              "size": 10,
              "solidity": 0.2
             }
            },
            "type": "barpolar"
           }
          ],
          "carpet": [
           {
            "aaxis": {
             "endlinecolor": "#2a3f5f",
             "gridcolor": "white",
             "linecolor": "white",
             "minorgridcolor": "white",
             "startlinecolor": "#2a3f5f"
            },
            "baxis": {
             "endlinecolor": "#2a3f5f",
             "gridcolor": "white",
             "linecolor": "white",
             "minorgridcolor": "white",
             "startlinecolor": "#2a3f5f"
            },
            "type": "carpet"
           }
          ],
          "choropleth": [
           {
            "colorbar": {
             "outlinewidth": 0,
             "ticks": ""
            },
            "type": "choropleth"
           }
          ],
          "contour": [
           {
            "colorbar": {
             "outlinewidth": 0,
             "ticks": ""
            },
            "colorscale": [
             [
              0,
              "#0d0887"
             ],
             [
              0.1111111111111111,
              "#46039f"
             ],
             [
              0.2222222222222222,
              "#7201a8"
             ],
             [
              0.3333333333333333,
              "#9c179e"
             ],
             [
              0.4444444444444444,
              "#bd3786"
             ],
             [
              0.5555555555555556,
              "#d8576b"
             ],
             [
              0.6666666666666666,
              "#ed7953"
             ],
             [
              0.7777777777777778,
              "#fb9f3a"
             ],
             [
              0.8888888888888888,
              "#fdca26"
             ],
             [
              1,
              "#f0f921"
             ]
            ],
            "type": "contour"
           }
          ],
          "contourcarpet": [
           {
            "colorbar": {
             "outlinewidth": 0,
             "ticks": ""
            },
            "type": "contourcarpet"
           }
          ],
          "heatmap": [
           {
            "colorbar": {
             "outlinewidth": 0,
             "ticks": ""
            },
            "colorscale": [
             [
              0,
              "#0d0887"
             ],
             [
              0.1111111111111111,
              "#46039f"
             ],
             [
              0.2222222222222222,
              "#7201a8"
             ],
             [
              0.3333333333333333,
              "#9c179e"
             ],
             [
              0.4444444444444444,
              "#bd3786"
             ],
             [
              0.5555555555555556,
              "#d8576b"
             ],
             [
              0.6666666666666666,
              "#ed7953"
             ],
             [
              0.7777777777777778,
              "#fb9f3a"
             ],
             [
              0.8888888888888888,
              "#fdca26"
             ],
             [
              1,
              "#f0f921"
             ]
            ],
            "type": "heatmap"
           }
          ],
          "heatmapgl": [
           {
            "colorbar": {
             "outlinewidth": 0,
             "ticks": ""
            },
            "colorscale": [
             [
              0,
              "#0d0887"
             ],
             [
              0.1111111111111111,
              "#46039f"
             ],
             [
              0.2222222222222222,
              "#7201a8"
             ],
             [
              0.3333333333333333,
              "#9c179e"
             ],
             [
              0.4444444444444444,
              "#bd3786"
             ],
             [
              0.5555555555555556,
              "#d8576b"
             ],
             [
              0.6666666666666666,
              "#ed7953"
             ],
             [
              0.7777777777777778,
              "#fb9f3a"
             ],
             [
              0.8888888888888888,
              "#fdca26"
             ],
             [
              1,
              "#f0f921"
             ]
            ],
            "type": "heatmapgl"
           }
          ],
          "histogram": [
           {
            "marker": {
             "pattern": {
              "fillmode": "overlay",
              "size": 10,
              "solidity": 0.2
             }
            },
            "type": "histogram"
           }
          ],
          "histogram2d": [
           {
            "colorbar": {
             "outlinewidth": 0,
             "ticks": ""
            },
            "colorscale": [
             [
              0,
              "#0d0887"
             ],
             [
              0.1111111111111111,
              "#46039f"
             ],
             [
              0.2222222222222222,
              "#7201a8"
             ],
             [
              0.3333333333333333,
              "#9c179e"
             ],
             [
              0.4444444444444444,
              "#bd3786"
             ],
             [
              0.5555555555555556,
              "#d8576b"
             ],
             [
              0.6666666666666666,
              "#ed7953"
             ],
             [
              0.7777777777777778,
              "#fb9f3a"
             ],
             [
              0.8888888888888888,
              "#fdca26"
             ],
             [
              1,
              "#f0f921"
             ]
            ],
            "type": "histogram2d"
           }
          ],
          "histogram2dcontour": [
           {
            "colorbar": {
             "outlinewidth": 0,
             "ticks": ""
            },
            "colorscale": [
             [
              0,
              "#0d0887"
             ],
             [
              0.1111111111111111,
              "#46039f"
             ],
             [
              0.2222222222222222,
              "#7201a8"
             ],
             [
              0.3333333333333333,
              "#9c179e"
             ],
             [
              0.4444444444444444,
              "#bd3786"
             ],
             [
              0.5555555555555556,
              "#d8576b"
             ],
             [
              0.6666666666666666,
              "#ed7953"
             ],
             [
              0.7777777777777778,
              "#fb9f3a"
             ],
             [
              0.8888888888888888,
              "#fdca26"
             ],
             [
              1,
              "#f0f921"
             ]
            ],
            "type": "histogram2dcontour"
           }
          ],
          "mesh3d": [
           {
            "colorbar": {
             "outlinewidth": 0,
             "ticks": ""
            },
            "type": "mesh3d"
           }
          ],
          "parcoords": [
           {
            "line": {
             "colorbar": {
              "outlinewidth": 0,
              "ticks": ""
             }
            },
            "type": "parcoords"
           }
          ],
          "pie": [
           {
            "automargin": true,
            "type": "pie"
           }
          ],
          "scatter": [
           {
            "fillpattern": {
             "fillmode": "overlay",
             "size": 10,
             "solidity": 0.2
            },
            "type": "scatter"
           }
          ],
          "scatter3d": [
           {
            "line": {
             "colorbar": {
              "outlinewidth": 0,
              "ticks": ""
             }
            },
            "marker": {
             "colorbar": {
              "outlinewidth": 0,
              "ticks": ""
             }
            },
            "type": "scatter3d"
           }
          ],
          "scattercarpet": [
           {
            "marker": {
             "colorbar": {
              "outlinewidth": 0,
              "ticks": ""
             }
            },
            "type": "scattercarpet"
           }
          ],
          "scattergeo": [
           {
            "marker": {
             "colorbar": {
              "outlinewidth": 0,
              "ticks": ""
             }
            },
            "type": "scattergeo"
           }
          ],
          "scattergl": [
           {
            "marker": {
             "colorbar": {
              "outlinewidth": 0,
              "ticks": ""
             }
            },
            "type": "scattergl"
           }
          ],
          "scattermapbox": [
           {
            "marker": {
             "colorbar": {
              "outlinewidth": 0,
              "ticks": ""
             }
            },
            "type": "scattermapbox"
           }
          ],
          "scatterpolar": [
           {
            "marker": {
             "colorbar": {
              "outlinewidth": 0,
              "ticks": ""
             }
            },
            "type": "scatterpolar"
           }
          ],
          "scatterpolargl": [
           {
            "marker": {
             "colorbar": {
              "outlinewidth": 0,
              "ticks": ""
             }
            },
            "type": "scatterpolargl"
           }
          ],
          "scatterternary": [
           {
            "marker": {
             "colorbar": {
              "outlinewidth": 0,
              "ticks": ""
             }
            },
            "type": "scatterternary"
           }
          ],
          "surface": [
           {
            "colorbar": {
             "outlinewidth": 0,
             "ticks": ""
            },
            "colorscale": [
             [
              0,
              "#0d0887"
             ],
             [
              0.1111111111111111,
              "#46039f"
             ],
             [
              0.2222222222222222,
              "#7201a8"
             ],
             [
              0.3333333333333333,
              "#9c179e"
             ],
             [
              0.4444444444444444,
              "#bd3786"
             ],
             [
              0.5555555555555556,
              "#d8576b"
             ],
             [
              0.6666666666666666,
              "#ed7953"
             ],
             [
              0.7777777777777778,
              "#fb9f3a"
             ],
             [
              0.8888888888888888,
              "#fdca26"
             ],
             [
              1,
              "#f0f921"
             ]
            ],
            "type": "surface"
           }
          ],
          "table": [
           {
            "cells": {
             "fill": {
              "color": "#EBF0F8"
             },
             "line": {
              "color": "white"
             }
            },
            "header": {
             "fill": {
              "color": "#C8D4E3"
             },
             "line": {
              "color": "white"
             }
            },
            "type": "table"
           }
          ]
         },
         "layout": {
          "annotationdefaults": {
           "arrowcolor": "#2a3f5f",
           "arrowhead": 0,
           "arrowwidth": 1
          },
          "autotypenumbers": "strict",
          "coloraxis": {
           "colorbar": {
            "outlinewidth": 0,
            "ticks": ""
           }
          },
          "colorscale": {
           "diverging": [
            [
             0,
             "#8e0152"
            ],
            [
             0.1,
             "#c51b7d"
            ],
            [
             0.2,
             "#de77ae"
            ],
            [
             0.3,
             "#f1b6da"
            ],
            [
             0.4,
             "#fde0ef"
            ],
            [
             0.5,
             "#f7f7f7"
            ],
            [
             0.6,
             "#e6f5d0"
            ],
            [
             0.7,
             "#b8e186"
            ],
            [
             0.8,
             "#7fbc41"
            ],
            [
             0.9,
             "#4d9221"
            ],
            [
             1,
             "#276419"
            ]
           ],
           "sequential": [
            [
             0,
             "#0d0887"
            ],
            [
             0.1111111111111111,
             "#46039f"
            ],
            [
             0.2222222222222222,
             "#7201a8"
            ],
            [
             0.3333333333333333,
             "#9c179e"
            ],
            [
             0.4444444444444444,
             "#bd3786"
            ],
            [
             0.5555555555555556,
             "#d8576b"
            ],
            [
             0.6666666666666666,
             "#ed7953"
            ],
            [
             0.7777777777777778,
             "#fb9f3a"
            ],
            [
             0.8888888888888888,
             "#fdca26"
            ],
            [
             1,
             "#f0f921"
            ]
           ],
           "sequentialminus": [
            [
             0,
             "#0d0887"
            ],
            [
             0.1111111111111111,
             "#46039f"
            ],
            [
             0.2222222222222222,
             "#7201a8"
            ],
            [
             0.3333333333333333,
             "#9c179e"
            ],
            [
             0.4444444444444444,
             "#bd3786"
            ],
            [
             0.5555555555555556,
             "#d8576b"
            ],
            [
             0.6666666666666666,
             "#ed7953"
            ],
            [
             0.7777777777777778,
             "#fb9f3a"
            ],
            [
             0.8888888888888888,
             "#fdca26"
            ],
            [
             1,
             "#f0f921"
            ]
           ]
          },
          "colorway": [
           "#636efa",
           "#EF553B",
           "#00cc96",
           "#ab63fa",
           "#FFA15A",
           "#19d3f3",
           "#FF6692",
           "#B6E880",
           "#FF97FF",
           "#FECB52"
          ],
          "font": {
           "color": "#2a3f5f"
          },
          "geo": {
           "bgcolor": "white",
           "lakecolor": "white",
           "landcolor": "#E5ECF6",
           "showlakes": true,
           "showland": true,
           "subunitcolor": "white"
          },
          "hoverlabel": {
           "align": "left"
          },
          "hovermode": "closest",
          "mapbox": {
           "style": "light"
          },
          "paper_bgcolor": "white",
          "plot_bgcolor": "#E5ECF6",
          "polar": {
           "angularaxis": {
            "gridcolor": "white",
            "linecolor": "white",
            "ticks": ""
           },
           "bgcolor": "#E5ECF6",
           "radialaxis": {
            "gridcolor": "white",
            "linecolor": "white",
            "ticks": ""
           }
          },
          "scene": {
           "xaxis": {
            "backgroundcolor": "#E5ECF6",
            "gridcolor": "white",
            "gridwidth": 2,
            "linecolor": "white",
            "showbackground": true,
            "ticks": "",
            "zerolinecolor": "white"
           },
           "yaxis": {
            "backgroundcolor": "#E5ECF6",
            "gridcolor": "white",
            "gridwidth": 2,
            "linecolor": "white",
            "showbackground": true,
            "ticks": "",
            "zerolinecolor": "white"
           },
           "zaxis": {
            "backgroundcolor": "#E5ECF6",
            "gridcolor": "white",
            "gridwidth": 2,
            "linecolor": "white",
            "showbackground": true,
            "ticks": "",
            "zerolinecolor": "white"
           }
          },
          "shapedefaults": {
           "line": {
            "color": "#2a3f5f"
           }
          },
          "ternary": {
           "aaxis": {
            "gridcolor": "white",
            "linecolor": "white",
            "ticks": ""
           },
           "baxis": {
            "gridcolor": "white",
            "linecolor": "white",
            "ticks": ""
           },
           "bgcolor": "#E5ECF6",
           "caxis": {
            "gridcolor": "white",
            "linecolor": "white",
            "ticks": ""
           }
          },
          "title": {
           "x": 0.05
          },
          "xaxis": {
           "automargin": true,
           "gridcolor": "white",
           "linecolor": "white",
           "ticks": "",
           "title": {
            "standoff": 15
           },
           "zerolinecolor": "white",
           "zerolinewidth": 2
          },
          "yaxis": {
           "automargin": true,
           "gridcolor": "white",
           "linecolor": "white",
           "ticks": "",
           "title": {
            "standoff": 15
           },
           "zerolinecolor": "white",
           "zerolinewidth": 2
          }
         }
        },
        "xaxis": {
         "anchor": "y",
         "domain": [
          0,
          1
         ],
         "title": {
          "text": "Feature"
         }
        },
        "yaxis": {
         "anchor": "x",
         "domain": [
          0,
          1
         ],
         "title": {
          "text": "Correlation Coefficient"
         }
        }
       }
      }
     },
     "metadata": {},
     "output_type": "display_data"
    }
   ],
   "source": [
    "@callback(\n",
    "    Output('correlation_plot', 'figure'),\n",
    "    Input('features_to_plot', 'value')\n",
    ")\n",
    "def make_correlation_plot(columns): \n",
    "    \"\"\"\n",
    "    Makes a bar chart of the correlation between columns\n",
    "    \"\"\"\n",
    "    # uses the data from the model\n",
    "    data = zip(new_columns, model.coef_[0])\n",
    "\n",
    "    # filter the data by which the column is in the columns\n",
    "    column_renamer = {\n",
    "        'average': 'GPA',\n",
    "        'difficulty': 'Difficulty',\n",
    "        'hours_per_week': 'Hours Worked Per Week',\n",
    "        'amount_group': 'Group Work Per Week'\n",
    "    }\n",
    "\n",
    "    x_labels = []\n",
    "    y_values = []\n",
    "    for col, r in data:\n",
    "        if col in columns:\n",
    "            x_labels.append(column_renamer.get(col, col))\n",
    "            y_values.append(r)\n",
    "    \n",
    "    fig = px.bar(x=x_labels, y=y_values, labels= {'x': 'Feature', 'y': 'Correlation Coefficient', **column_renamer})\n",
    "    return fig\n",
    "\n",
    "make_correlation_plot(new_columns)"
   ]
  },
  {
   "cell_type": "code",
   "execution_count": 121,
   "metadata": {},
   "outputs": [],
   "source": [
    "@callback(\n",
    "    Output('review_residuals', 'figure'),\n",
    "    Input('features_to_plot', 'value')\n",
    ")\n",
    "def make_residual_plot(columns): \n",
    "    \"\"\"\n",
    "    Makes a bar chart of the correlation between columns\n",
    "    \"\"\"\n",
    "    data = zip(new_columns, model.coef_[0])\n",
    "    \n",
    "    # filter the data by which the column is in the columns\n",
    "    column_renamer = {\n",
    "        'average': 'GPA',\n",
    "        'difficulty': 'Difficulty',\n",
    "        'hours_per_week': 'Hours Worked Per Week',\n",
    "        'amount_group': 'Group Work Per Week'\n",
    "    }\n",
    "    print(\"Columns to plot\", columns)\n",
    "\n",
    "    x_labels = []\n",
    "    y_values = []\n",
    "    for col, r in data:\n",
    "        if col in columns:\n",
    "            x_labels.append(column_renamer.get(col, col))\n",
    "            y_values.append(r)\n",
    "\n",
    "    new_df = df.copy()\n",
    "    for col in new_columns:\n",
    "        if col not in columns:\n",
    "            new_df[col] = new_df[col].apply(lambda x: 0)\n",
    "            print(\"Zeroing out\", col)\n",
    "\n",
    "    residuals = pd.Series(model.predict(new_df[new_columns]).flatten()) - new_df['instructor_rating']\n",
    "    residuals = residuals.dropna()\n",
    "    fig = px.histogram(x=residuals, title=\"Review Residuals\", labels={\n",
    "        \"count\": \"# of Reviews\",\n",
    "        \"x\": \"Difference between predicted and actual review\"\n",
    "    })\n",
    "\n",
    "    # making a plot of reviews\n",
    "    return fig\n",
    "\n",
    "\n",
    "# make_residual_plot(new_columns)"
   ]
  },
  {
   "cell_type": "code",
   "execution_count": 122,
   "metadata": {},
   "outputs": [
    {
     "data": {
      "text/plain": [
       "(array([3.29280586]),\n",
       " {'copy_X': True, 'fit_intercept': True, 'n_jobs': None, 'positive': False},\n",
       " array([[ 0.33720824, -0.19793535, -0.00737263, -0.03009486]]))"
      ]
     },
     "execution_count": 122,
     "metadata": {},
     "output_type": "execute_result"
    }
   ],
   "source": [
    "model.intercept_, model.get_params(), model.coef_"
   ]
  },
  {
   "cell_type": "code",
   "execution_count": 123,
   "metadata": {},
   "outputs": [
    {
     "data": {
      "text/plain": [
       "array([[ 3.377277  ,  2.        ,  4.        ,  1.        ],\n",
       "       [ 2.78875802,  5.        , 12.        ,  0.        ],\n",
       "       [ 3.2854103 ,  1.        ,  0.        ,  0.        ],\n",
       "       ...,\n",
       "       [ 3.54566127,  3.        ,  3.        ,  0.        ],\n",
       "       [ 3.45291667,  5.        ,  0.        ,  0.        ],\n",
       "       [ 2.72754632,  5.        , 10.        ,  0.        ]])"
      ]
     },
     "execution_count": 123,
     "metadata": {},
     "output_type": "execute_result"
    }
   ],
   "source": [
    "# getting measures of importance\n",
    "\n",
    "from sklearn.inspection import permutation_importance\n",
    "\n",
    "result = permutation_importance(model, X_test, Y_test, n_repeats=10, random_state=42)\n",
    "\n",
    "X_train"
   ]
  },
  {
   "cell_type": "markdown",
   "metadata": {},
   "source": [
    "## Building Semantic Search\n",
    "\n",
    "Semantic search will take place with an OpenAI client and a embedding model. This will use a pinecone database for textual similarity.\n",
    "\n",
    "![Semantic Search](./imgs/semantic-search.png)"
   ]
  },
  {
   "cell_type": "code",
   "execution_count": 124,
   "metadata": {},
   "outputs": [
    {
     "data": {
      "text/plain": [
       "0       course name \"Spiritual But Not Religious\": Spi...\n",
       "1       course name 1492 and the Aftermath (Examines S...\n",
       "2       course name 17th Century Philosophy (Studies t...\n",
       "3       course name 18th Century Philosophy (Studies t...\n",
       "4       course name A Buddhist Approach to Development...\n",
       "                              ...                        \n",
       "2386    course name Writing and Critical Inquiry: Comm...\n",
       "2387    course name Writing with Sound (This course tr...\n",
       "2388    course name Writing with Style (Develops an un...\n",
       "2389    course name Young Adult Literature (Using Sims...\n",
       "2390    course name Zen (Studies the development and h...\n",
       "Name: prompt, Length: 2391, dtype: object"
      ]
     },
     "execution_count": 124,
     "metadata": {},
     "output_type": "execute_result"
    }
   ],
   "source": [
    "# getting and saving course reviews\n",
    "course_reviews = df.groupby(['title', 'description']).agg({'instructor_rating': 'mean'}).reset_index()\n",
    "\n",
    "def make_prompt(row):\n",
    "    \"\"\"\n",
    "    Makes a prompt for the user to ask the course\n",
    "    \"\"\"\n",
    "\n",
    "    return f\"\"\"course name {row['title']} ({row['description']}) has an average rating of {row['instructor_rating']}\"\"\"\n",
    "\n",
    "course_reviews['prompt'] = course_reviews.apply(make_prompt, axis=1)\n",
    "course_reviews['prompt']"
   ]
  },
  {
   "cell_type": "code",
   "execution_count": 125,
   "metadata": {},
   "outputs": [],
   "source": [
    "# getting the embeddings from OpenAI\n",
    "# from: https://platform.openai.com/docs/guides/embeddings/use-cases\n",
    "\n",
    "client = OpenAI()\n",
    "\n",
    "def get_embedding(text, model=\"text-embedding-3-small\"):\n",
    "   text = text.replace(\"\\n\", \" \")\n",
    "   return client.embeddings.create(input = [text], model=model).data[0].embedding\n",
    "\n",
    "# course_reviews['ada_embedding'] = course_reviews['prompt'].progress_apply(lambda x: get_embedding(x, model='text-embedding-3-small'))\n",
    "# course_reviews.to_csv('data_1k_embeddings.csv', index=False)"
   ]
  },
  {
   "cell_type": "code",
   "execution_count": 126,
   "metadata": {},
   "outputs": [],
   "source": [
    "from pinecone import Pinecone, ServerlessSpec\n",
    "# import os\n",
    "\n",
    "# # initialize connection to pinecone (get API key at app.pc.io)\n",
    "api_key = os.environ.get('PINECONE_API_KEY') or '6b801a89-8fad-44bd-a8f5-1c2be8a9d208'\n",
    "\n",
    "# # configure client\n",
    "pc = Pinecone(api_key=api_key)\n",
    "spec = ServerlessSpec(cloud='aws', region='us-west-2')\n",
    "\n",
    "# try:\n",
    "#     pc.create_index(\n",
    "#         name=\"course-reviews-1k\", \n",
    "#         dimension=1536, \n",
    "#         metric=\"euclidean\",\n",
    "#         spec=spec\n",
    "#     )\n",
    "# except:\n",
    "#     pass # index already created"
   ]
  },
  {
   "cell_type": "code",
   "execution_count": 127,
   "metadata": {},
   "outputs": [],
   "source": [
    "index = pc.Index(\"course-reviews-1k\")\n",
    "\n",
    "# def force_ascii(string: str) -> str:\n",
    "#     \"\"\"\n",
    "#     Forces a string to be ascii\n",
    "#     \"\"\"\n",
    "#     return string.encode('ascii', errors='ignore').decode('ascii')\n",
    "\n",
    "# # making the things to upsert\n",
    "# upsertion_reviews = [\n",
    "#     {\"id\": force_ascii(item[\"title\"]), \"values\": item[\"ada_embedding\"]}\n",
    "#     for item in course_reviews.to_dict(orient=\"records\")\n",
    "# ]\n",
    "\n",
    "# # upload loop\n",
    "# for i in range(0, len(upsertion_reviews), 100):\n",
    "#     print(f\"Uploading {i} to {i + 100}\")\n",
    "#     index.upsert(vectors=upsertion_reviews[i:i + 100])"
   ]
  },
  {
   "cell_type": "code",
   "execution_count": 128,
   "metadata": {},
   "outputs": [
    {
     "data": {
      "text/plain": [
       "array([['Computer Systems and Organization 1',\n",
       "        'This course covers topics on the computer architecture abstraction hierarchy ranging from a step above silicon to a step below modern programming languages. Students in this course will learn to write low-level code in C and Assembly, how data is stored in memory, the basics of hardware design from gates and registers through general-purpose computers, and legal, ethical, and security issues related to these topics. CS 1100 - CS 1199 and either familiarity with Java, C++, or another C-like language, or concurrent enrollment in CS 2100',\n",
       "        3.45,\n",
       "        'course name Computer Systems and Organization 1 (This course covers topics on the computer architecture abstraction hierarchy ranging from a step above silicon to a step below modern programming languages. Students in this course will learn to write low-level code in C and Assembly, how data is stored in memory, the basics of hardware design from gates and registers through general-purpose computers, and legal, ethical, and security issues related to these topics. CS 1100 - CS 1199 and either familiarity with Java, C++, or another C-like language, or concurrent enrollment in CS 2100) has an average rating of 3.45'],\n",
       "       ['Data Structures and Algorithms 1',\n",
       "        'A second course in computing with an emphasis on foundational data structures and program analysis. The course provides a introduction to object oriented programming and the Java programming language, concurrency, and inheritance / polymorphism. Additionally, foundational data structures and related algorithms / analysis are studied. These include lists, stacks, queues, trees, hash tables, and priority queues. Prereq: CS 1100 - CS 1199',\n",
       "        3.48,\n",
       "        'course name Data Structures and Algorithms 1 (A second course in computing with an emphasis on foundational data structures and program analysis. The course provides a introduction to object oriented programming and the Java programming language, concurrency, and inheritance / polymorphism. Additionally, foundational data structures and related algorithms / analysis are studied. These include lists, stacks, queues, trees, hash tables, and priority queues. Prereq: CS 1100 - CS 1199) has an average rating of 3.48'],\n",
       "       ['Introduction to Computing: Explorations in Language, Logic, and Machines',\n",
       "        'This course is an introduction to the most important ideas in computing. It focuses on the big ideas in computer science including the major themes of recursive definitions, universality, and abstraction.  It covers how to describe information processes by defining procedures using the Scheme and Python programming languages, how to analyze the costs required to carry out a procedure, and the fundamental limits of what can be computed.',\n",
       "        4.0,\n",
       "        'course name Introduction to Computing: Explorations in Language, Logic, and Machines (This course is an introduction to the most important ideas in computing. It focuses on the big ideas in computer science including the major themes of recursive definitions, universality, and abstraction.  It covers how to describe information processes by defining procedures using the Scheme and Python programming languages, how to analyze the costs required to carry out a procedure, and the fundamental limits of what can be computed.) has an average rating of 4.0'],\n",
       "       ['Introduction to Programming',\n",
       "        'A first course in programming, software development, and computer science. Introduces computing fundamentals and an appreciation for computational thinking. No previous programming experience required. Note: CS 1110, 1111, 1112, 1113, and 1120 provide different approaches to teaching the same core material; students may only receive credit for one of these courses.',\n",
       "        4.106741573033708,\n",
       "        'course name Introduction to Programming (A first course in programming, software development, and computer science. Introduces computing fundamentals and an appreciation for computational thinking. No previous programming experience required. Note: CS 1110, 1111, 1112, 1113, and 1120 provide different approaches to teaching the same core material; students may only receive credit for one of these courses.) has an average rating of 4.106741573033708'],\n",
       "       ['Introduction to Programming',\n",
       "        'A first course in programming, software development, and computer science. Introduces computing fundamentals and an appreciation for computational thinking. Prerequisite: Students must have no previous programming experience. Note: CS 1110, 1111, 1112, 1113, and 1120 provide different approaches to teaching the same core material; students may only receive credit for one of these courses.',\n",
       "        4.072289156626506,\n",
       "        'course name Introduction to Programming (A first course in programming, software development, and computer science. Introduces computing fundamentals and an appreciation for computational thinking. Prerequisite: Students must have no previous programming experience. Note: CS 1110, 1111, 1112, 1113, and 1120 provide different approaches to teaching the same core material; students may only receive credit for one of these courses.) has an average rating of 4.072289156626506'],\n",
       "       ['Introduction to Programming',\n",
       "        'A first course in programming, software development, and computer science. Introduces computing fundamentals and an appreciation for computational thinking. Prerequisite: Students should have some experience with programming. Note: CS 1110, 1111, 1112, 1113, and 1120 provide different approaches to teaching the same core material; students may only receive credit for one of these courses.',\n",
       "        3.8,\n",
       "        'course name Introduction to Programming (A first course in programming, software development, and computer science. Introduces computing fundamentals and an appreciation for computational thinking. Prerequisite: Students should have some experience with programming. Note: CS 1110, 1111, 1112, 1113, and 1120 provide different approaches to teaching the same core material; students may only receive credit for one of these courses.) has an average rating of 3.8'],\n",
       "       ['Introduction to Programming',\n",
       "        'A first course in programming, software development, and computer science. Introduces computing fundamentals and an appreciation for computational thinking. Special domain topics and materials will differ by section and semester. Note: CS 1110, 1111, 1112, 1113, and 1120 provide different approaches to teaching the same core material; students may only receive credit for one of these courses.',\n",
       "        4.166666666666667,\n",
       "        'course name Introduction to Programming (A first course in programming, software development, and computer science. Introduces computing fundamentals and an appreciation for computational thinking. Special domain topics and materials will differ by section and semester. Note: CS 1110, 1111, 1112, 1113, and 1120 provide different approaches to teaching the same core material; students may only receive credit for one of these courses.) has an average rating of 4.166666666666667'],\n",
       "       ['Software Development Essentials',\n",
       "        'A first course in software engineering and software construction, this course focuses on bringing the programming concepts learned in a first course in data structures and algorithms together to begin to teach students how to build more complex systems. The course covers introductory topics in testing, software design principles, design patterns, functional programming, and data storage and manipulation. Completed CS 2100 with a C- or better.',\n",
       "        3.8,\n",
       "        'course name Software Development Essentials (A first course in software engineering and software construction, this course focuses on bringing the programming concepts learned in a first course in data structures and algorithms together to begin to teach students how to build more complex systems. The course covers introductory topics in testing, software design principles, design patterns, functional programming, and data storage and manipulation. Completed CS 2100 with a C- or better.) has an average rating of 3.8']],\n",
       "      dtype=object)"
      ]
     },
     "execution_count": 128,
     "metadata": {},
     "output_type": "execute_result"
    }
   ],
   "source": [
    "@callback(\n",
    "    # Output('search_results', 'figure'),\n",
    "    Output(\"search_results\", \"data\"), # , Output('search_results', 'columns')],\n",
    "    Input('search-input', 'value'),\n",
    ")\n",
    "def search_for_course(search_term):\n",
    "    \"\"\"\n",
    "    Performs a semantic search to get the course data\n",
    "    \"\"\"\n",
    "\n",
    "    # gets the embeddings\n",
    "    search_term = str(search_term)\n",
    "    embedding = get_embedding(search_term)\n",
    "\n",
    "    # searches for the embeddings\n",
    "    results = index.query(vector=embedding, top_k=5)\n",
    "\n",
    "    # gets the results\n",
    "    matches = results['matches']\n",
    "    ids = [match['id'] for match in matches]\n",
    "\n",
    "    # gets the data\n",
    "    data = course_reviews[course_reviews['title'].isin(ids)]\n",
    "\n",
    "    # returns the correct values\n",
    "    return data.values\n",
    "\n",
    "search_for_course(\"A foundational computer science course\")"
   ]
  },
  {
   "cell_type": "markdown",
   "metadata": {},
   "source": [
    "## Final Dashboard\n",
    "\n",
    "Where all of the components come together to make the final dashboard. This launches the layout and the final project."
   ]
  },
  {
   "cell_type": "code",
   "execution_count": 129,
   "metadata": {},
   "outputs": [],
   "source": [
    "# defining callbacks\n",
    "# @callback(\n",
    "#     Output(component_id=\"course_axis\", component_property=\"figure\"),\n",
    "#     (Input(component_id=\"course_dropdown\", component_property=\"value\"))\n",
    "# )\n",
    "# def update_course_axis(course: str):\n",
    "#     \"\"\"\n",
    "#     Updates the course axis\n",
    "#     \"\"\"\n",
    "#     if course is str: # if the course is a string\n",
    "#         course = [course]\n",
    "    \n",
    "#     summary = pd.concat([get_course_summary_ratings(*course_components(course)) for course in course])\n",
    "    \n",
    "#     # rows = pd.concat([cs_3100, cs_2130, cs_3130, ds_4003])\n",
    "\n",
    "#     # course_data = get_course_summary_ratings(*course_components(course))\n",
    "#     return course_axis(summary, course=course)\n",
    "\n",
    "# @callback(\n",
    "#     Output(component_id=\"course_hours\", component_property=\"figure\"),\n",
    "#     (Input(component_id=\"course_dropdown\", component_property=\"value\"))\n",
    "# )\n",
    "# def update_course_hours(course: str):\n",
    "#     \"\"\"\n",
    "#     Updates the course hours\n",
    "#     \"\"\"\n",
    "#     if course is str:\n",
    "#         course = [course]\n",
    "    \n",
    "#     summary = pd.concat([get_course_summary_ratings(*course_components(course)) for course in course])\n",
    "#     return course_axis(summary, course=course, include=\"duration\")\n",
    "\n",
    "\n",
    "### Training a linear model to predict the instructor rating based on (GPA, Course Level, Difficulty, Hours Worked Per Week, Group Work Per Week)\n"
   ]
  },
  {
   "cell_type": "code",
   "execution_count": 130,
   "metadata": {},
   "outputs": [
    {
     "name": "stderr",
     "output_type": "stream",
     "text": [
      "/var/folders/m0/sl2yvpv551gcfbk3gdntf74r0000gn/T/ipykernel_86237/3101233320.py:20: SettingWithCopyWarning:\n",
      "\n",
      "\n",
      "A value is trying to be set on a copy of a slice from a DataFrame.\n",
      "Try using .loc[row_indexer,col_indexer] = value instead\n",
      "\n",
      "See the caveats in the documentation: https://pandas.pydata.org/pandas-docs/stable/user_guide/indexing.html#returning-a-view-versus-a-copy\n",
      "\n",
      "/var/folders/m0/sl2yvpv551gcfbk3gdntf74r0000gn/T/ipykernel_86237/3101233320.py:20: SettingWithCopyWarning:\n",
      "\n",
      "\n",
      "A value is trying to be set on a copy of a slice from a DataFrame.\n",
      "Try using .loc[row_indexer,col_indexer] = value instead\n",
      "\n",
      "See the caveats in the documentation: https://pandas.pydata.org/pandas-docs/stable/user_guide/indexing.html#returning-a-view-versus-a-copy\n",
      "\n"
     ]
    },
    {
     "name": "stdout",
     "output_type": "stream",
     "text": [
      "Dash app running on http://127.0.0.1:8050/\n"
     ]
    },
    {
     "data": {
      "application/javascript": "window.open('http://127.0.0.1:8050/')",
      "text/plain": [
       "<IPython.core.display.Javascript object>"
      ]
     },
     "metadata": {},
     "output_type": "display_data"
    },
    {
     "name": "stderr",
     "output_type": "stream",
     "text": [
      "[2024-04-22 20:09:13,738] ERROR in app: Exception on /_dash-update-component [POST]\n",
      "Traceback (most recent call last):\n",
      "  File \"/Users/wkaiser/miniforge3/envs/tf/lib/python3.8/site-packages/flask/app.py\", line 1463, in wsgi_app\n",
      "    response = self.full_dispatch_request()\n",
      "  File \"/Users/wkaiser/miniforge3/envs/tf/lib/python3.8/site-packages/flask/app.py\", line 872, in full_dispatch_request\n",
      "    rv = self.handle_user_exception(e)\n",
      "  File \"/Users/wkaiser/miniforge3/envs/tf/lib/python3.8/site-packages/flask/app.py\", line 870, in full_dispatch_request\n",
      "    rv = self.dispatch_request()\n",
      "  File \"/Users/wkaiser/miniforge3/envs/tf/lib/python3.8/site-packages/flask/app.py\", line 855, in dispatch_request\n",
      "    return self.ensure_sync(self.view_functions[rule.endpoint])(**view_args)  # type: ignore[no-any-return]\n",
      "  File \"/Users/wkaiser/miniforge3/envs/tf/lib/python3.8/site-packages/dash/dash.py\", line 1310, in dispatch\n",
      "    ctx.run(\n",
      "  File \"/Users/wkaiser/miniforge3/envs/tf/lib/python3.8/site-packages/dash/_callback.py\", line 442, in add_context\n",
      "    output_value = func(*func_args, **func_kwargs)  # %% callback invoked %%\n",
      "  File \"/var/folders/m0/sl2yvpv551gcfbk3gdntf74r0000gn/T/ipykernel_86237/1439038650.py\", line 13, in update_table_data\n",
      "    course_tuples = [course_components(course) for course in data]\n",
      "  File \"/var/folders/m0/sl2yvpv551gcfbk3gdntf74r0000gn/T/ipykernel_86237/1439038650.py\", line 13, in <listcomp>\n",
      "    course_tuples = [course_components(course) for course in data]\n",
      "  File \"/var/folders/m0/sl2yvpv551gcfbk3gdntf74r0000gn/T/ipykernel_86237/919306538.py\", line 26, in course_components\n",
      "    pneumoic, number = course_pneumonic_and_number\n",
      "ValueError: not enough values to unpack (expected 2, got 1)\n",
      "[2024-04-22 20:09:13,767] ERROR in app: Exception on /_dash-update-component [POST]\n",
      "Traceback (most recent call last):\n",
      "  File \"/Users/wkaiser/miniforge3/envs/tf/lib/python3.8/site-packages/flask/app.py\", line 1463, in wsgi_app\n",
      "    response = self.full_dispatch_request()\n",
      "  File \"/Users/wkaiser/miniforge3/envs/tf/lib/python3.8/site-packages/flask/app.py\", line 872, in full_dispatch_request\n",
      "    rv = self.handle_user_exception(e)\n",
      "  File \"/Users/wkaiser/miniforge3/envs/tf/lib/python3.8/site-packages/flask/app.py\", line 870, in full_dispatch_request\n",
      "    rv = self.dispatch_request()\n",
      "  File \"/Users/wkaiser/miniforge3/envs/tf/lib/python3.8/site-packages/flask/app.py\", line 855, in dispatch_request\n",
      "    return self.ensure_sync(self.view_functions[rule.endpoint])(**view_args)  # type: ignore[no-any-return]\n",
      "  File \"/Users/wkaiser/miniforge3/envs/tf/lib/python3.8/site-packages/dash/dash.py\", line 1310, in dispatch\n",
      "    ctx.run(\n",
      "  File \"/Users/wkaiser/miniforge3/envs/tf/lib/python3.8/site-packages/dash/_callback.py\", line 442, in add_context\n",
      "    output_value = func(*func_args, **func_kwargs)  # %% callback invoked %%\n",
      "  File \"/var/folders/m0/sl2yvpv551gcfbk3gdntf74r0000gn/T/ipykernel_86237/263663702.py\", line 27, in make_correlation_plot\n",
      "    fig = px.bar(x=x_labels, y=y_values, labels= {'x': 'Feature', 'y': 'Correlation Coefficient', **column_renamer})\n",
      "  File \"/Users/wkaiser/miniforge3/envs/tf/lib/python3.8/site-packages/plotly/express/_chart_types.py\", line 373, in bar\n",
      "    return make_figure(\n",
      "  File \"/Users/wkaiser/miniforge3/envs/tf/lib/python3.8/site-packages/plotly/express/_core.py\", line 2076, in make_figure\n",
      "    args = build_dataframe(args, constructor)\n",
      "  File \"/Users/wkaiser/miniforge3/envs/tf/lib/python3.8/site-packages/plotly/express/_core.py\", line 1365, in build_dataframe\n",
      "    raise ValueError(\n",
      "ValueError: Cannot accept list of column references or list of columns for both `x` and `y`.\n"
     ]
    },
    {
     "name": "stdout",
     "output_type": "stream",
     "text": [
      "Columns to plot []\n",
      "Zeroing out average\n",
      "Zeroing out difficulty\n",
      "Zeroing out hours_per_week\n",
      "Zeroing out amount_group\n"
     ]
    },
    {
     "name": "stderr",
     "output_type": "stream",
     "text": [
      "/Users/wkaiser/miniforge3/envs/tf/lib/python3.8/site-packages/sklearn/base.py:432: UserWarning:\n",
      "\n",
      "X has feature names, but LinearRegression was fitted without feature names\n",
      "\n"
     ]
    },
    {
     "name": "stdout",
     "output_type": "stream",
     "text": [
      "Course Compoents CS 3100\n",
      "Course Compoents HISA 2559\n",
      "Course tuples [('CS', 3100), ('HISA', 2559)]\n",
      "('CS', 3100)\n",
      "('HISA', 2559)\n",
      "{'average': 'Average', 'instructor_rating': 'Instructor Rating', 'difficulty': 'Difficulty', 'recommendability': 'Recommendability', 'enjoyability': 'Enjoyability', 'amount_reading': 'Amount Reading', 'amount_writing': 'Amount Writing', 'amount_group': 'Amount Groupwork', 'amount_homework': 'Amount Homework'}\n",
      "Course data   mnemonic course_number average instructor_rating difficulty  \\\n",
      "0       CS          3100    3.38              4.06       4.24   \n",
      "1     HISA          2559    3.70              2.50       4.50   \n",
      "\n",
      "  recommendability enjoyability amount_reading amount_writing amount_group  \\\n",
      "0             3.59         3.41           1.24           2.06         1.71   \n",
      "1             1.00         1.00           8.00           0.00         0.00   \n",
      "\n",
      "  amount_homework  \n",
      "0            3.47  \n",
      "1            0.00  \n",
      "Course Compoents CS 3100\n",
      "Course Compoents HISA 2559\n",
      "Course Compoents CHEM 1821\n",
      "Course tuples [('CS', 3100), ('HISA', 2559), ('CHEM', 1821)]\n",
      "('CS', 3100)\n",
      "('HISA', 2559)\n",
      "('CHEM', 1821)\n",
      "{'average': 'Average', 'instructor_rating': 'Instructor Rating', 'difficulty': 'Difficulty', 'recommendability': 'Recommendability', 'enjoyability': 'Enjoyability', 'amount_reading': 'Amount Reading', 'amount_writing': 'Amount Writing', 'amount_group': 'Amount Groupwork', 'amount_homework': 'Amount Homework'}\n",
      "Course data   mnemonic course_number average instructor_rating difficulty  \\\n",
      "0     CHEM          1821    3.05              2.54       4.42   \n",
      "1       CS          3100    3.38              4.06       4.24   \n",
      "2     HISA          2559    3.70              2.50       4.50   \n",
      "\n",
      "  recommendability enjoyability amount_reading amount_writing amount_group  \\\n",
      "0             2.33         2.12           0.46           3.50         0.38   \n",
      "1             3.59         3.41           1.24           2.06         1.71   \n",
      "2             1.00         1.00           8.00           0.00         0.00   \n",
      "\n",
      "  amount_homework  \n",
      "0            2.42  \n",
      "1            3.47  \n",
      "2            0.00  \n"
     ]
    }
   ],
   "source": [
    "# Making an app to display everything\n",
    "external_stylesheets = [\"https://codepen.io/chriddyp/pen/bWLwgP.css\"]\n",
    "\n",
    "app = Dash(__name__, external_stylesheets=external_stylesheets)\n",
    "\n",
    "### HEADER ###\n",
    "header = html.Div(\n",
    "    [\n",
    "        html.H1(\"Course Review Explorer\"),\n",
    "    ]\n",
    ")\n",
    "\n",
    "### BREAKING DOWN RATINGS ###\n",
    "course_filter_header = html.Div(\n",
    "    [\n",
    "        html.H1(\"Breaking down ratings\"),\n",
    "        html.P(\"Examine course reviews for a particular class\"),\n",
    "    ]\n",
    ")\n",
    "\n",
    "course_filter_row = html.Div(\n",
    "    [\n",
    "        dcc.Graph(\n",
    "            figure=course_axis(rows, course=\"CS 3100\"),\n",
    "            id=\"course_axis\",\n",
    "            className=\"one-half column\",\n",
    "        ),\n",
    "        dcc.Graph(\n",
    "            figure=course_axis(rows, course=\"CS 2130\"),\n",
    "            id=\"course_hours\",\n",
    "            className=\"one-half column\",\n",
    "        ),\n",
    "        html.Div(\n",
    "            [\n",
    "                dash_table.DataTable(\n",
    "                    id=\"course_table\",\n",
    "                    columns=[\n",
    "                        {\"name\": new_course_components_to_agg.get(key, key), \"id\": key}\n",
    "                        for i, key in enumerate([\n",
    "                            \"mnemonic\",\n",
    "                            \"course_number\",\n",
    "                            \"average\",\n",
    "                            \"instructor_rating\",\n",
    "                            \"difficulty\",\n",
    "                            \"recommendability\",\n",
    "                            \"enjoyability\",\n",
    "                            \"amount_reading\",\n",
    "                            \"amount_writing\",\n",
    "                            \"amount_group\",\n",
    "                            \"amount_homework\",\n",
    "                        ])  # new_course_components_to_agg.keys()\n",
    "                    ],\n",
    "                    data=specific_data.to_dict(orient=\"records\"),\n",
    "                ),\n",
    "            ],\n",
    "            className=\"one-half columns\",\n",
    "        ),\n",
    "    ],\n",
    "    className=\"row\",\n",
    ")\n",
    "\n",
    "course_filter_section = html.Div(\n",
    "    [\n",
    "        course_filter_header,\n",
    "        course_mneumoic_dropdown,\n",
    "        course_filter_row,\n",
    "    ]\n",
    ")\n",
    "\n",
    "### CORRELATING INSTRUCTOR REVIEWS ###\n",
    "controlling_factors = html.Div(\n",
    "    [\n",
    "        html.H1(\"Correlating Instructor Reviews\"),\n",
    "        html.Div(\"Control for the following factors\"),\n",
    "        checklist,\n",
    "    ],\n",
    "    className=\"one-third column\",\n",
    ")\n",
    "\n",
    "distribution_of_reviews = html.Div(\n",
    "    [\n",
    "        html.H1(\"Distribution of Residuals\"),\n",
    "        html.P(\"What's left over?\"),\n",
    "        dcc.Graph(id=\"review_residuals\"),\n",
    "    ],\n",
    "    className=\"one-third column\",\n",
    ")\n",
    "\n",
    "predictive_power_of_features = html.Div(\n",
    "    [\n",
    "        html.H1(\"Predictive Power of Features\"),\n",
    "        html.P(\"How well do these features predict the instructor rating?\"),\n",
    "        dcc.Graph(id=\"correlation_plot\"),\n",
    "    ],\n",
    "    className=\"one-third column\",\n",
    ")\n",
    "\n",
    "correlating_instructor_reviews = html.Div(\n",
    "    [controlling_factors, distribution_of_reviews, predictive_power_of_features],\n",
    "    className=\"row\",\n",
    ")\n",
    "\n",
    "### SEMANTIC SEARCH ###\n",
    "search_box = html.Div(\n",
    "    [\n",
    "        html.H1(\"Search for courses\"),\n",
    "        dcc.Input(\n",
    "            id=\"search-input\",\n",
    "            type=\"text\",  # debounce=True,\n",
    "            placeholder=\"I want a class on computer networking...\",\n",
    "        ),\n",
    "    ],\n",
    "    className=\"one-third column\",\n",
    ")\n",
    "\n",
    "search_table = html.Div(\n",
    "    [\n",
    "        dash_table.DataTable(id=\"search_results\", data=[]),\n",
    "    ],\n",
    "    className=\"two-thirds column\",\n",
    ")\n",
    "\n",
    "semantic_search = html.Div([search_box, search_table], className=\"row\")\n",
    "\n",
    "### FINAL LAYOUT ###\n",
    "app.layout = html.Div(\n",
    "    [\n",
    "        header,\n",
    "        course_filter_section,\n",
    "        correlating_instructor_reviews,\n",
    "        semantic_search,\n",
    "    ],\n",
    "    className=\"container\",\n",
    ")\n",
    "\n",
    "server = app.server\n",
    "\n",
    "if __name__ == \"__main__\":\n",
    "    app.run_server(jupyter_mode=\"tab\")"
   ]
  }
 ],
 "metadata": {
  "kernelspec": {
   "display_name": "tf",
   "language": "python",
   "name": "python3"
  },
  "language_info": {
   "codemirror_mode": {
    "name": "ipython",
    "version": 3
   },
   "file_extension": ".py",
   "mimetype": "text/x-python",
   "name": "python",
   "nbconvert_exporter": "python",
   "pygments_lexer": "ipython3",
   "version": "3.8.13"
  }
 },
 "nbformat": 4,
 "nbformat_minor": 2
}
